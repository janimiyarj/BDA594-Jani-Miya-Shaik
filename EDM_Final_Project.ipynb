{
  "nbformat": 4,
  "nbformat_minor": 0,
  "metadata": {
    "colab": {
      "provenance": [],
      "include_colab_link": true
    },
    "kernelspec": {
      "name": "python3",
      "display_name": "Python 3"
    },
    "language_info": {
      "name": "python"
    }
  },
  "cells": [
    {
      "cell_type": "markdown",
      "metadata": {
        "id": "view-in-github",
        "colab_type": "text"
      },
      "source": [
        "<a href=\"https://colab.research.google.com/github/janimiyarj/BDA594-Jani-Miya-Shaik/blob/main/EDM_Final_Project.ipynb\" target=\"_parent\"><img src=\"https://colab.research.google.com/assets/colab-badge.svg\" alt=\"Open In Colab\"/></a>"
      ]
    },
    {
      "cell_type": "code",
      "execution_count": null,
      "metadata": {
        "id": "WVJeZxEOpaHI",
        "colab": {
          "base_uri": "https://localhost:8080/"
        },
        "outputId": "9a5d105a-4d13-4a72-a35a-f5b8f65ba64f"
      },
      "outputs": [
        {
          "output_type": "stream",
          "name": "stdout",
          "text": [
            "Requirement already satisfied: pandas in /usr/local/lib/python3.10/dist-packages (1.5.3)\n",
            "Requirement already satisfied: python-dateutil>=2.8.1 in /usr/local/lib/python3.10/dist-packages (from pandas) (2.8.2)\n",
            "Requirement already satisfied: pytz>=2020.1 in /usr/local/lib/python3.10/dist-packages (from pandas) (2023.3.post1)\n",
            "Requirement already satisfied: numpy>=1.21.0 in /usr/local/lib/python3.10/dist-packages (from pandas) (1.23.5)\n",
            "Requirement already satisfied: six>=1.5 in /usr/local/lib/python3.10/dist-packages (from python-dateutil>=2.8.1->pandas) (1.16.0)\n",
            "Requirement already satisfied: numpy in /usr/local/lib/python3.10/dist-packages (1.23.5)\n",
            "Collecting datapane\n",
            "  Downloading datapane-0.17.0-py3-none-any.whl (143 kB)\n",
            "\u001b[2K     \u001b[90m━━━━━━━━━━━━━━━━━━━━━━━━━━━━━━━━━━━━━━━━\u001b[0m \u001b[32m143.6/143.6 kB\u001b[0m \u001b[31m2.8 MB/s\u001b[0m eta \u001b[36m0:00:00\u001b[0m\n",
            "\u001b[?25hCollecting altair<6.0.0,>=5.0.0 (from datapane)\n",
            "  Downloading altair-5.2.0-py3-none-any.whl (996 kB)\n",
            "\u001b[2K     \u001b[90m━━━━━━━━━━━━━━━━━━━━━━━━━━━━━━━━━━━━━━━━\u001b[0m \u001b[32m996.9/996.9 kB\u001b[0m \u001b[31m24.8 MB/s\u001b[0m eta \u001b[36m0:00:00\u001b[0m\n",
            "\u001b[?25hRequirement already satisfied: chardet<6.0.0,>=5.0.0 in /usr/local/lib/python3.10/dist-packages (from datapane) (5.2.0)\n",
            "Collecting colorlog<7.0.0,>=6.4.0 (from datapane)\n",
            "  Downloading colorlog-6.8.0-py3-none-any.whl (11 kB)\n",
            "Collecting dominate<3.0.0,>=2.7.0 (from datapane)\n",
            "  Downloading dominate-2.9.0-py2.py3-none-any.whl (29 kB)\n",
            "Requirement already satisfied: importlib_resources>=5.6.0 in /usr/local/lib/python3.10/dist-packages (from datapane) (6.1.1)\n",
            "Collecting ipynbname>=2021.3.2 (from datapane)\n",
            "  Downloading ipynbname-2023.2.0.0-py3-none-any.whl (4.3 kB)\n",
            "Requirement already satisfied: lxml<5.0.0,>=4.7.1 in /usr/local/lib/python3.10/dist-packages (from datapane) (4.9.3)\n",
            "Collecting micawber>=0.5.3 (from datapane)\n",
            "  Downloading micawber-0.5.5.tar.gz (18 kB)\n",
            "  Preparing metadata (setup.py) ... \u001b[?25l\u001b[?25hdone\n",
            "Collecting multimethod<2.0.0,>=1.9.0 (from datapane)\n",
            "  Downloading multimethod-1.10-py3-none-any.whl (9.9 kB)\n",
            "Requirement already satisfied: packaging<24.0.0,>=21.0.0 in /usr/local/lib/python3.10/dist-packages (from datapane) (23.2)\n",
            "Requirement already satisfied: pandas<2.0.0,>=1.4.0 in /usr/local/lib/python3.10/dist-packages (from datapane) (1.5.3)\n",
            "Requirement already satisfied: pyarrow>=9.0.0 in /usr/local/lib/python3.10/dist-packages (from datapane) (10.0.1)\n",
            "Requirement already satisfied: typing-extensions<5.0.0,>=4.4.0 in /usr/local/lib/python3.10/dist-packages (from datapane) (4.5.0)\n",
            "Requirement already satisfied: vega-datasets<1.0.0,>=0.9.0 in /usr/local/lib/python3.10/dist-packages (from datapane) (0.9.0)\n",
            "Requirement already satisfied: jinja2 in /usr/local/lib/python3.10/dist-packages (from altair<6.0.0,>=5.0.0->datapane) (3.1.2)\n",
            "Requirement already satisfied: jsonschema>=3.0 in /usr/local/lib/python3.10/dist-packages (from altair<6.0.0,>=5.0.0->datapane) (4.19.2)\n",
            "Requirement already satisfied: numpy in /usr/local/lib/python3.10/dist-packages (from altair<6.0.0,>=5.0.0->datapane) (1.23.5)\n",
            "Requirement already satisfied: toolz in /usr/local/lib/python3.10/dist-packages (from altair<6.0.0,>=5.0.0->datapane) (0.12.0)\n",
            "Requirement already satisfied: ipykernel in /usr/local/lib/python3.10/dist-packages (from ipynbname>=2021.3.2->datapane) (5.5.6)\n",
            "Requirement already satisfied: python-dateutil>=2.8.1 in /usr/local/lib/python3.10/dist-packages (from pandas<2.0.0,>=1.4.0->datapane) (2.8.2)\n",
            "Requirement already satisfied: pytz>=2020.1 in /usr/local/lib/python3.10/dist-packages (from pandas<2.0.0,>=1.4.0->datapane) (2023.3.post1)\n",
            "Requirement already satisfied: attrs>=22.2.0 in /usr/local/lib/python3.10/dist-packages (from jsonschema>=3.0->altair<6.0.0,>=5.0.0->datapane) (23.1.0)\n",
            "Requirement already satisfied: jsonschema-specifications>=2023.03.6 in /usr/local/lib/python3.10/dist-packages (from jsonschema>=3.0->altair<6.0.0,>=5.0.0->datapane) (2023.11.2)\n",
            "Requirement already satisfied: referencing>=0.28.4 in /usr/local/lib/python3.10/dist-packages (from jsonschema>=3.0->altair<6.0.0,>=5.0.0->datapane) (0.31.1)\n",
            "Requirement already satisfied: rpds-py>=0.7.1 in /usr/local/lib/python3.10/dist-packages (from jsonschema>=3.0->altair<6.0.0,>=5.0.0->datapane) (0.13.2)\n",
            "Requirement already satisfied: six>=1.5 in /usr/local/lib/python3.10/dist-packages (from python-dateutil>=2.8.1->pandas<2.0.0,>=1.4.0->datapane) (1.16.0)\n",
            "Requirement already satisfied: ipython-genutils in /usr/local/lib/python3.10/dist-packages (from ipykernel->ipynbname>=2021.3.2->datapane) (0.2.0)\n",
            "Requirement already satisfied: ipython>=5.0.0 in /usr/local/lib/python3.10/dist-packages (from ipykernel->ipynbname>=2021.3.2->datapane) (7.34.0)\n",
            "Requirement already satisfied: traitlets>=4.1.0 in /usr/local/lib/python3.10/dist-packages (from ipykernel->ipynbname>=2021.3.2->datapane) (5.7.1)\n",
            "Requirement already satisfied: jupyter-client in /usr/local/lib/python3.10/dist-packages (from ipykernel->ipynbname>=2021.3.2->datapane) (6.1.12)\n",
            "Requirement already satisfied: tornado>=4.2 in /usr/local/lib/python3.10/dist-packages (from ipykernel->ipynbname>=2021.3.2->datapane) (6.3.2)\n",
            "Requirement already satisfied: MarkupSafe>=2.0 in /usr/local/lib/python3.10/dist-packages (from jinja2->altair<6.0.0,>=5.0.0->datapane) (2.1.3)\n",
            "Requirement already satisfied: setuptools>=18.5 in /usr/local/lib/python3.10/dist-packages (from ipython>=5.0.0->ipykernel->ipynbname>=2021.3.2->datapane) (67.7.2)\n",
            "Collecting jedi>=0.16 (from ipython>=5.0.0->ipykernel->ipynbname>=2021.3.2->datapane)\n",
            "  Downloading jedi-0.19.1-py2.py3-none-any.whl (1.6 MB)\n",
            "\u001b[2K     \u001b[90m━━━━━━━━━━━━━━━━━━━━━━━━━━━━━━━━━━━━━━━━\u001b[0m \u001b[32m1.6/1.6 MB\u001b[0m \u001b[31m60.1 MB/s\u001b[0m eta \u001b[36m0:00:00\u001b[0m\n",
            "\u001b[?25hRequirement already satisfied: decorator in /usr/local/lib/python3.10/dist-packages (from ipython>=5.0.0->ipykernel->ipynbname>=2021.3.2->datapane) (4.4.2)\n",
            "Requirement already satisfied: pickleshare in /usr/local/lib/python3.10/dist-packages (from ipython>=5.0.0->ipykernel->ipynbname>=2021.3.2->datapane) (0.7.5)\n",
            "Requirement already satisfied: prompt-toolkit!=3.0.0,!=3.0.1,<3.1.0,>=2.0.0 in /usr/local/lib/python3.10/dist-packages (from ipython>=5.0.0->ipykernel->ipynbname>=2021.3.2->datapane) (3.0.41)\n",
            "Requirement already satisfied: pygments in /usr/local/lib/python3.10/dist-packages (from ipython>=5.0.0->ipykernel->ipynbname>=2021.3.2->datapane) (2.16.1)\n",
            "Requirement already satisfied: backcall in /usr/local/lib/python3.10/dist-packages (from ipython>=5.0.0->ipykernel->ipynbname>=2021.3.2->datapane) (0.2.0)\n",
            "Requirement already satisfied: matplotlib-inline in /usr/local/lib/python3.10/dist-packages (from ipython>=5.0.0->ipykernel->ipynbname>=2021.3.2->datapane) (0.1.6)\n",
            "Requirement already satisfied: pexpect>4.3 in /usr/local/lib/python3.10/dist-packages (from ipython>=5.0.0->ipykernel->ipynbname>=2021.3.2->datapane) (4.9.0)\n",
            "Requirement already satisfied: jupyter-core>=4.6.0 in /usr/local/lib/python3.10/dist-packages (from jupyter-client->ipykernel->ipynbname>=2021.3.2->datapane) (5.5.0)\n",
            "Requirement already satisfied: pyzmq>=13 in /usr/local/lib/python3.10/dist-packages (from jupyter-client->ipykernel->ipynbname>=2021.3.2->datapane) (23.2.1)\n",
            "Requirement already satisfied: parso<0.9.0,>=0.8.3 in /usr/local/lib/python3.10/dist-packages (from jedi>=0.16->ipython>=5.0.0->ipykernel->ipynbname>=2021.3.2->datapane) (0.8.3)\n",
            "Requirement already satisfied: platformdirs>=2.5 in /usr/local/lib/python3.10/dist-packages (from jupyter-core>=4.6.0->jupyter-client->ipykernel->ipynbname>=2021.3.2->datapane) (4.1.0)\n",
            "Requirement already satisfied: ptyprocess>=0.5 in /usr/local/lib/python3.10/dist-packages (from pexpect>4.3->ipython>=5.0.0->ipykernel->ipynbname>=2021.3.2->datapane) (0.7.0)\n",
            "Requirement already satisfied: wcwidth in /usr/local/lib/python3.10/dist-packages (from prompt-toolkit!=3.0.0,!=3.0.1,<3.1.0,>=2.0.0->ipython>=5.0.0->ipykernel->ipynbname>=2021.3.2->datapane) (0.2.12)\n",
            "Building wheels for collected packages: micawber\n",
            "  Building wheel for micawber (setup.py) ... \u001b[?25l\u001b[?25hdone\n",
            "  Created wheel for micawber: filename=micawber-0.5.5-py3-none-any.whl size=22434 sha256=3cf30c39938fe33f473af5986a25c1e0b76d07249dd9fa6b54cd2c4671743e54\n",
            "  Stored in directory: /root/.cache/pip/wheels/31/3a/1f/bbd88c767423821f2fe497c0ada47581292f96419b56d689c0\n",
            "Successfully built micawber\n",
            "Installing collected packages: micawber, multimethod, jedi, dominate, colorlog, ipynbname, altair, datapane\n",
            "  Attempting uninstall: altair\n",
            "    Found existing installation: altair 4.2.2\n",
            "    Uninstalling altair-4.2.2:\n",
            "      Successfully uninstalled altair-4.2.2\n",
            "\u001b[31mERROR: pip's dependency resolver does not currently take into account all the packages that are installed. This behaviour is the source of the following dependency conflicts.\n",
            "lida 0.0.10 requires fastapi, which is not installed.\n",
            "lida 0.0.10 requires kaleido, which is not installed.\n",
            "lida 0.0.10 requires python-multipart, which is not installed.\n",
            "lida 0.0.10 requires uvicorn, which is not installed.\u001b[0m\u001b[31m\n",
            "\u001b[0mSuccessfully installed altair-5.2.0 colorlog-6.8.0 datapane-0.17.0 dominate-2.9.0 ipynbname-2023.2.0.0 jedi-0.19.1 micawber-0.5.5 multimethod-1.10\n",
            "Requirement already satisfied: plotly in /usr/local/lib/python3.10/dist-packages (5.15.0)\n",
            "Requirement already satisfied: tenacity>=6.2.0 in /usr/local/lib/python3.10/dist-packages (from plotly) (8.2.3)\n",
            "Requirement already satisfied: packaging in /usr/local/lib/python3.10/dist-packages (from plotly) (23.2)\n",
            "Collecting pymysql\n",
            "  Downloading PyMySQL-1.1.0-py3-none-any.whl (44 kB)\n",
            "\u001b[2K     \u001b[90m━━━━━━━━━━━━━━━━━━━━━━━━━━━━━━━━━━━━━━━━\u001b[0m \u001b[32m44.8/44.8 kB\u001b[0m \u001b[31m983.9 kB/s\u001b[0m eta \u001b[36m0:00:00\u001b[0m\n",
            "\u001b[?25hInstalling collected packages: pymysql\n",
            "Successfully installed pymysql-1.1.0\n"
          ]
        }
      ],
      "source": [
        "import sys\n",
        "!pip install pandas\n",
        "!pip install numpy\n",
        "!pip install datapane\n",
        "!pip install plotly\n",
        "!pip install pymysql"
      ]
    },
    {
      "cell_type": "code",
      "source": [
        "import sqlite3\n",
        "import pandas as pd\n",
        "import numpy as np\n",
        "import plotly.express as px\n",
        "import plotly.graph_objects as go\n",
        "import datapane as dp\n",
        "import pymysql\n",
        "import warnings\n",
        "import pymysql\n",
        "import sys\n",
        "import os\n",
        "\n",
        "warnings.filterwarnings('ignore')"
      ],
      "metadata": {
        "id": "WSGLAEMRpr3f"
      },
      "execution_count": null,
      "outputs": []
    },
    {
      "cell_type": "code",
      "source": [
        "host = 'database-1.c1r9lsqj9mxc.us-east-1.rds.amazonaws.com'\n",
        "user = 'admin'\n",
        "password = 'Arbaz786$'\n",
        "database = 'gdb041'\n",
        "\n",
        "connection = pymysql.connect(host=host, user=user, passwd=password, database=database)\n",
        "with connection:\n",
        "    cur = connection.cursor()\n",
        "    cur.execute(\"SELECT VERSION()\")\n",
        "    version = cur.fetchone()\n",
        "    print(\"Database version: {} \".format(version[0]))"
      ],
      "metadata": {
        "colab": {
          "base_uri": "https://localhost:8080/"
        },
        "id": "ZS7NF1kEp09j",
        "outputId": "1a6416a9-f4b8-4f65-bdae-b30b22d95fe5"
      },
      "execution_count": null,
      "outputs": [
        {
          "output_type": "stream",
          "name": "stdout",
          "text": [
            "Database version: 8.0.33 \n"
          ]
        }
      ]
    },
    {
      "cell_type": "code",
      "source": [
        "def run_query(q: str) -> pd.DataFrame:\n",
        "    with pymysql.connect(host=host, user=user, passwd=password, database=database) as conn:\n",
        "        return pd.read_sql(q, conn)\n",
        "\n",
        "\n",
        "def run_command(c: str):\n",
        "    with pymysql.connect(host=host, user=user, passwd=password, database=database) as conn:\n",
        "        conn.isolation_level = None\n",
        "        conn.execute(c)"
      ],
      "metadata": {
        "id": "oANQ87PBv6H1"
      },
      "execution_count": null,
      "outputs": []
    },
    {
      "cell_type": "code",
      "source": [
        "def show_tables() -> pd.DataFrame:\n",
        "    q = \"\"\"\n",
        "          SELECT table_name\n",
        "          FROM information_schema.tables\n",
        "          WHERE table_schema = 'gdb041' AND table_type = 'BASE TABLE';\n",
        "        \"\"\"\n",
        "    return run_query(q)\n",
        "\n",
        "\n",
        "def get_table_row_count(tablename) -> int:\n",
        "    q = (\n",
        "        \"\"\"\n",
        "        SELECT\n",
        "            COUNT(1)\n",
        "        FROM %s;\n",
        "        \"\"\"\n",
        "        % tablename\n",
        "    )\n",
        "    return run_query(q)[\"COUNT(1)\"][0]\n",
        "\n",
        "\n",
        "tables = show_tables()\n",
        "tables[\"row_count\"] = [get_table_row_count(t) for t in tables['TABLE_NAME']]\n",
        "\n",
        "tables"
      ],
      "metadata": {
        "colab": {
          "base_uri": "https://localhost:8080/",
          "height": 363
        },
        "id": "XNOZLiC3wB-0",
        "outputId": "0b6f56cc-bf9a-4129-9d19-e43d97656f25"
      },
      "execution_count": null,
      "outputs": [
        {
          "output_type": "execute_result",
          "data": {
            "text/plain": [
              "                TABLE_NAME  row_count\n",
              "0             dim_customer        209\n",
              "1               dim_market         27\n",
              "2              dim_product        397\n",
              "3    fact_forecast_monthly    1885941\n",
              "4       fact_sales_monthly    1425706\n",
              "5             freight_cost        135\n",
              "6              gross_price       1197\n",
              "7       manufacturing_cost       1197\n",
              "8  post_invoice_deductions    2063076\n",
              "9   pre_invoice_deductions       1045"
            ],
            "text/html": [
              "\n",
              "  <div id=\"df-9eb2ec9c-d4f9-4f2d-b47d-6251c978f927\" class=\"colab-df-container\">\n",
              "    <div>\n",
              "<style scoped>\n",
              "    .dataframe tbody tr th:only-of-type {\n",
              "        vertical-align: middle;\n",
              "    }\n",
              "\n",
              "    .dataframe tbody tr th {\n",
              "        vertical-align: top;\n",
              "    }\n",
              "\n",
              "    .dataframe thead th {\n",
              "        text-align: right;\n",
              "    }\n",
              "</style>\n",
              "<table border=\"1\" class=\"dataframe\">\n",
              "  <thead>\n",
              "    <tr style=\"text-align: right;\">\n",
              "      <th></th>\n",
              "      <th>TABLE_NAME</th>\n",
              "      <th>row_count</th>\n",
              "    </tr>\n",
              "  </thead>\n",
              "  <tbody>\n",
              "    <tr>\n",
              "      <th>0</th>\n",
              "      <td>dim_customer</td>\n",
              "      <td>209</td>\n",
              "    </tr>\n",
              "    <tr>\n",
              "      <th>1</th>\n",
              "      <td>dim_market</td>\n",
              "      <td>27</td>\n",
              "    </tr>\n",
              "    <tr>\n",
              "      <th>2</th>\n",
              "      <td>dim_product</td>\n",
              "      <td>397</td>\n",
              "    </tr>\n",
              "    <tr>\n",
              "      <th>3</th>\n",
              "      <td>fact_forecast_monthly</td>\n",
              "      <td>1885941</td>\n",
              "    </tr>\n",
              "    <tr>\n",
              "      <th>4</th>\n",
              "      <td>fact_sales_monthly</td>\n",
              "      <td>1425706</td>\n",
              "    </tr>\n",
              "    <tr>\n",
              "      <th>5</th>\n",
              "      <td>freight_cost</td>\n",
              "      <td>135</td>\n",
              "    </tr>\n",
              "    <tr>\n",
              "      <th>6</th>\n",
              "      <td>gross_price</td>\n",
              "      <td>1197</td>\n",
              "    </tr>\n",
              "    <tr>\n",
              "      <th>7</th>\n",
              "      <td>manufacturing_cost</td>\n",
              "      <td>1197</td>\n",
              "    </tr>\n",
              "    <tr>\n",
              "      <th>8</th>\n",
              "      <td>post_invoice_deductions</td>\n",
              "      <td>2063076</td>\n",
              "    </tr>\n",
              "    <tr>\n",
              "      <th>9</th>\n",
              "      <td>pre_invoice_deductions</td>\n",
              "      <td>1045</td>\n",
              "    </tr>\n",
              "  </tbody>\n",
              "</table>\n",
              "</div>\n",
              "    <div class=\"colab-df-buttons\">\n",
              "\n",
              "  <div class=\"colab-df-container\">\n",
              "    <button class=\"colab-df-convert\" onclick=\"convertToInteractive('df-9eb2ec9c-d4f9-4f2d-b47d-6251c978f927')\"\n",
              "            title=\"Convert this dataframe to an interactive table.\"\n",
              "            style=\"display:none;\">\n",
              "\n",
              "  <svg xmlns=\"http://www.w3.org/2000/svg\" height=\"24px\" viewBox=\"0 -960 960 960\">\n",
              "    <path d=\"M120-120v-720h720v720H120Zm60-500h600v-160H180v160Zm220 220h160v-160H400v160Zm0 220h160v-160H400v160ZM180-400h160v-160H180v160Zm440 0h160v-160H620v160ZM180-180h160v-160H180v160Zm440 0h160v-160H620v160Z\"/>\n",
              "  </svg>\n",
              "    </button>\n",
              "\n",
              "  <style>\n",
              "    .colab-df-container {\n",
              "      display:flex;\n",
              "      gap: 12px;\n",
              "    }\n",
              "\n",
              "    .colab-df-convert {\n",
              "      background-color: #E8F0FE;\n",
              "      border: none;\n",
              "      border-radius: 50%;\n",
              "      cursor: pointer;\n",
              "      display: none;\n",
              "      fill: #1967D2;\n",
              "      height: 32px;\n",
              "      padding: 0 0 0 0;\n",
              "      width: 32px;\n",
              "    }\n",
              "\n",
              "    .colab-df-convert:hover {\n",
              "      background-color: #E2EBFA;\n",
              "      box-shadow: 0px 1px 2px rgba(60, 64, 67, 0.3), 0px 1px 3px 1px rgba(60, 64, 67, 0.15);\n",
              "      fill: #174EA6;\n",
              "    }\n",
              "\n",
              "    .colab-df-buttons div {\n",
              "      margin-bottom: 4px;\n",
              "    }\n",
              "\n",
              "    [theme=dark] .colab-df-convert {\n",
              "      background-color: #3B4455;\n",
              "      fill: #D2E3FC;\n",
              "    }\n",
              "\n",
              "    [theme=dark] .colab-df-convert:hover {\n",
              "      background-color: #434B5C;\n",
              "      box-shadow: 0px 1px 3px 1px rgba(0, 0, 0, 0.15);\n",
              "      filter: drop-shadow(0px 1px 2px rgba(0, 0, 0, 0.3));\n",
              "      fill: #FFFFFF;\n",
              "    }\n",
              "  </style>\n",
              "\n",
              "    <script>\n",
              "      const buttonEl =\n",
              "        document.querySelector('#df-9eb2ec9c-d4f9-4f2d-b47d-6251c978f927 button.colab-df-convert');\n",
              "      buttonEl.style.display =\n",
              "        google.colab.kernel.accessAllowed ? 'block' : 'none';\n",
              "\n",
              "      async function convertToInteractive(key) {\n",
              "        const element = document.querySelector('#df-9eb2ec9c-d4f9-4f2d-b47d-6251c978f927');\n",
              "        const dataTable =\n",
              "          await google.colab.kernel.invokeFunction('convertToInteractive',\n",
              "                                                    [key], {});\n",
              "        if (!dataTable) return;\n",
              "\n",
              "        const docLinkHtml = 'Like what you see? Visit the ' +\n",
              "          '<a target=\"_blank\" href=https://colab.research.google.com/notebooks/data_table.ipynb>data table notebook</a>'\n",
              "          + ' to learn more about interactive tables.';\n",
              "        element.innerHTML = '';\n",
              "        dataTable['output_type'] = 'display_data';\n",
              "        await google.colab.output.renderOutput(dataTable, element);\n",
              "        const docLink = document.createElement('div');\n",
              "        docLink.innerHTML = docLinkHtml;\n",
              "        element.appendChild(docLink);\n",
              "      }\n",
              "    </script>\n",
              "  </div>\n",
              "\n",
              "\n",
              "<div id=\"df-7ae32c2a-236f-4230-94b5-5c30a1072cef\">\n",
              "  <button class=\"colab-df-quickchart\" onclick=\"quickchart('df-7ae32c2a-236f-4230-94b5-5c30a1072cef')\"\n",
              "            title=\"Suggest charts\"\n",
              "            style=\"display:none;\">\n",
              "\n",
              "<svg xmlns=\"http://www.w3.org/2000/svg\" height=\"24px\"viewBox=\"0 0 24 24\"\n",
              "     width=\"24px\">\n",
              "    <g>\n",
              "        <path d=\"M19 3H5c-1.1 0-2 .9-2 2v14c0 1.1.9 2 2 2h14c1.1 0 2-.9 2-2V5c0-1.1-.9-2-2-2zM9 17H7v-7h2v7zm4 0h-2V7h2v10zm4 0h-2v-4h2v4z\"/>\n",
              "    </g>\n",
              "</svg>\n",
              "  </button>\n",
              "\n",
              "<style>\n",
              "  .colab-df-quickchart {\n",
              "      --bg-color: #E8F0FE;\n",
              "      --fill-color: #1967D2;\n",
              "      --hover-bg-color: #E2EBFA;\n",
              "      --hover-fill-color: #174EA6;\n",
              "      --disabled-fill-color: #AAA;\n",
              "      --disabled-bg-color: #DDD;\n",
              "  }\n",
              "\n",
              "  [theme=dark] .colab-df-quickchart {\n",
              "      --bg-color: #3B4455;\n",
              "      --fill-color: #D2E3FC;\n",
              "      --hover-bg-color: #434B5C;\n",
              "      --hover-fill-color: #FFFFFF;\n",
              "      --disabled-bg-color: #3B4455;\n",
              "      --disabled-fill-color: #666;\n",
              "  }\n",
              "\n",
              "  .colab-df-quickchart {\n",
              "    background-color: var(--bg-color);\n",
              "    border: none;\n",
              "    border-radius: 50%;\n",
              "    cursor: pointer;\n",
              "    display: none;\n",
              "    fill: var(--fill-color);\n",
              "    height: 32px;\n",
              "    padding: 0;\n",
              "    width: 32px;\n",
              "  }\n",
              "\n",
              "  .colab-df-quickchart:hover {\n",
              "    background-color: var(--hover-bg-color);\n",
              "    box-shadow: 0 1px 2px rgba(60, 64, 67, 0.3), 0 1px 3px 1px rgba(60, 64, 67, 0.15);\n",
              "    fill: var(--button-hover-fill-color);\n",
              "  }\n",
              "\n",
              "  .colab-df-quickchart-complete:disabled,\n",
              "  .colab-df-quickchart-complete:disabled:hover {\n",
              "    background-color: var(--disabled-bg-color);\n",
              "    fill: var(--disabled-fill-color);\n",
              "    box-shadow: none;\n",
              "  }\n",
              "\n",
              "  .colab-df-spinner {\n",
              "    border: 2px solid var(--fill-color);\n",
              "    border-color: transparent;\n",
              "    border-bottom-color: var(--fill-color);\n",
              "    animation:\n",
              "      spin 1s steps(1) infinite;\n",
              "  }\n",
              "\n",
              "  @keyframes spin {\n",
              "    0% {\n",
              "      border-color: transparent;\n",
              "      border-bottom-color: var(--fill-color);\n",
              "      border-left-color: var(--fill-color);\n",
              "    }\n",
              "    20% {\n",
              "      border-color: transparent;\n",
              "      border-left-color: var(--fill-color);\n",
              "      border-top-color: var(--fill-color);\n",
              "    }\n",
              "    30% {\n",
              "      border-color: transparent;\n",
              "      border-left-color: var(--fill-color);\n",
              "      border-top-color: var(--fill-color);\n",
              "      border-right-color: var(--fill-color);\n",
              "    }\n",
              "    40% {\n",
              "      border-color: transparent;\n",
              "      border-right-color: var(--fill-color);\n",
              "      border-top-color: var(--fill-color);\n",
              "    }\n",
              "    60% {\n",
              "      border-color: transparent;\n",
              "      border-right-color: var(--fill-color);\n",
              "    }\n",
              "    80% {\n",
              "      border-color: transparent;\n",
              "      border-right-color: var(--fill-color);\n",
              "      border-bottom-color: var(--fill-color);\n",
              "    }\n",
              "    90% {\n",
              "      border-color: transparent;\n",
              "      border-bottom-color: var(--fill-color);\n",
              "    }\n",
              "  }\n",
              "</style>\n",
              "\n",
              "  <script>\n",
              "    async function quickchart(key) {\n",
              "      const quickchartButtonEl =\n",
              "        document.querySelector('#' + key + ' button');\n",
              "      quickchartButtonEl.disabled = true;  // To prevent multiple clicks.\n",
              "      quickchartButtonEl.classList.add('colab-df-spinner');\n",
              "      try {\n",
              "        const charts = await google.colab.kernel.invokeFunction(\n",
              "            'suggestCharts', [key], {});\n",
              "      } catch (error) {\n",
              "        console.error('Error during call to suggestCharts:', error);\n",
              "      }\n",
              "      quickchartButtonEl.classList.remove('colab-df-spinner');\n",
              "      quickchartButtonEl.classList.add('colab-df-quickchart-complete');\n",
              "    }\n",
              "    (() => {\n",
              "      let quickchartButtonEl =\n",
              "        document.querySelector('#df-7ae32c2a-236f-4230-94b5-5c30a1072cef button');\n",
              "      quickchartButtonEl.style.display =\n",
              "        google.colab.kernel.accessAllowed ? 'block' : 'none';\n",
              "    })();\n",
              "  </script>\n",
              "</div>\n",
              "    </div>\n",
              "  </div>\n"
            ]
          },
          "metadata": {},
          "execution_count": 5
        }
      ]
    },
    {
      "cell_type": "markdown",
      "source": [
        "# Building a dashboard"
      ],
      "metadata": {
        "id": "AyjcXjmmxdQm"
      }
    },
    {
      "cell_type": "markdown",
      "source": [
        "Bar Chart - Total Sales by Product Category:"
      ],
      "metadata": {
        "id": "Goy8FVPsKNyl"
      }
    },
    {
      "cell_type": "code",
      "source": [
        "import datapane as dp\n",
        "\n",
        "Total_Sales_by_Product_Category_query = \"\"\"\n",
        "SELECT category,\n",
        "       SUM(sold_quantity) AS total_sold_quantity,\n",
        "       SUM(sold_quantity * gross_price) AS total_revenue\n",
        "FROM gdb041.fact_sales_monthly F\n",
        "JOIN gdb041.gross_price G ON F.product_code = G.product_code\n",
        "AND YEAR(F.date) = G.fiscal_year\n",
        "GROUP BY category;\n",
        "\"\"\"\n",
        "\n",
        "total_sales_df = run_query(Total_Sales_by_Product_Category_query)\n",
        "\n",
        "dp.DataTable(total_sales_df)\n"
      ],
      "metadata": {
        "colab": {
          "base_uri": "https://localhost:8080/",
          "height": 503
        },
        "id": "cRK4H_o5xehv",
        "outputId": "858492a6-227a-4fa4-ea6f-41129990f7f8"
      },
      "execution_count": null,
      "outputs": [
        {
          "output_type": "display_data",
          "data": {
            "text/plain": [
              "<IPython.core.display.HTML object>"
            ],
            "text/html": [
              "<style>\n",
              "  #dp-0ae86109e3fe4637b9b2c308628bf172 {\n",
              "    width: 1px;\n",
              "    min-width: 100%;\n",
              "  }\n",
              "</style>\n",
              "<iframe id=\"dp-0ae86109e3fe4637b9b2c308628bf172\" srcdoc=\"&lt;!DOCTYPE html&gt;\n",
              "&lt;html lang=&quot;en&quot;&gt;\n",
              "  &lt;head&gt;\n",
              "&lt;meta charset=&quot;UTF-8&quot; /&gt;\n",
              "\n",
              "&lt;link rel=&quot;shortcut icon&quot; type=&quot;image/png&quot; href=&quot;https://datapane-cdn.com/static/v1/datapane-icon-192x192.png&quot;/&gt;\n",
              "&lt;link rel=&quot;shortcut icon&quot; sizes=&quot;192x192&quot; href=&quot;https://datapane-cdn.com/static/v1/datapane-icon-192x192.png&quot;/&gt;\n",
              "&lt;link rel=&quot;apple-touch-icon&quot; href=&quot;https://datapane-cdn.com/static/v1/datapane-icon-192x192.png&quot;/&gt;\n",
              "\n",
              "&lt;script src=&quot;https://kit.fontawesome.com/256c714d9a.js&quot;&gt;&lt;/script&gt;\n",
              "&lt;link\n",
              "  href=&quot;https://fonts.googleapis.com/css?family=Inter:400,500,600,700|Inconsolata|Karla|Rubik&amp;display=swap&quot;\n",
              "  rel=&quot;stylesheet&quot;\n",
              "/&gt;\n",
              "&lt;link rel=&quot;stylesheet&quot; href=&quot;https://datapane-cdn.com/v0.17.0/report/index.css&quot; /&gt;\n",
              "&lt;link rel=&quot;stylesheet&quot; href=&quot;https://datapane-cdn.com/v0.17.0/report/tailwind.css&quot; /&gt;\n",
              "&lt;script&gt;\n",
              "  // analytics config\n",
              "  // TODO -- pass these in as props for consistency?\n",
              "  window.dpAppRunner = false;\n",
              "  window.dpLocal = true;\n",
              "\n",
              "  /* construct the view */\n",
              "  const htmlHeader = `&lt;style type=&quot;text/css&quot;&gt;:root {\n",
              "    --dp-accent-color: #4E46E5;\n",
              "    --dp-bg-color: #FFF;\n",
              "    --dp-text-align: left;\n",
              "    --dp-font-family: Inter, ui-sans-serif, system-ui;\n",
              "}&lt;/style&gt;`;\n",
              "  window.reportProps = { htmlHeader, isLightProse: false, isOrg: false, mode: &quot;VIEW&quot;, reportWidthClass: &quot;max-w-screen-xl&quot; };\n",
              "\n",
              "  if (!window.dpAppRunner) {\n",
              "      // pass app data via props if in local (static) mode, otherwise this data is fetched from the server\n",
              "      window.reportProps[&quot;appData&quot;] = { data: { result: {&quot;view_xml&quot;: &quot;\\u003cView version=\\&quot;1\\&quot; fragment=\\&quot;false\\&quot;\\u003e\\u003cDataTable type=\\&quot;application/vnd.apache.arrow+binary\\&quot; rows=\\&quot;14\\&quot; columns=\\&quot;3\\&quot; schema=\\&quot;[]\\&quot; src=\\&quot;ref://2f25b9b954\\&quot;/\\u003e\\u003c/View\\u003e&quot;, &quot;assets&quot;: {&quot;2f25b9b954&quot;: {&quot;src&quot;: &quot;data:application/vnd.apache.arrow+binary;base64,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&quot;, &quot;hash&quot;: &quot;2f25b9b954&quot;, &quot;size&quot;: 3184, &quot;mime&quot;: &quot;application/vnd.apache.arrow+binary&quot;}}} }};\n",
              "  }\n",
              "&lt;/script&gt;\n",
              "&lt;script type=&quot;module&quot;&gt;\n",
              "  import { mountReport } from &quot;https://datapane-cdn.com/v0.17.0/report/index.es.js&quot;;\n",
              "  mountReport(window.reportProps);\n",
              "&lt;/script&gt;\n",
              "  &lt;/head&gt;\n",
              "  &lt;script&gt;\n",
              "    window.isIPythonEmbed = true;\n",
              "  &lt;/script&gt;\n",
              "  &lt;body&gt;\n",
              "    &lt;main class=&quot;max-w-screen-xl w-full mx-auto&quot;&gt;\n",
              "      &lt;div id=&quot;report&quot; class=&quot;w-full&quot;&gt;&lt;/div&gt;\n",
              "    &lt;/main&gt;\n",
              "    &lt;script src=&quot;https://datapane-cdn.com/v0.17.0/assets/iframeResizer.contentWindow.min.js&quot;&gt;&lt;/script&gt;\n",
              "  &lt;/body&gt;\n",
              "&lt;/html&gt;\n",
              "\" style=\"border: none\">\n",
              "</iframe>\n",
              "<script type=\"module\">\n",
              "  import { iframeResize } from \"https://datapane-cdn.com/v0.17.0/report/index.es.js\";\n",
              "  iframeResize({ log: true, checkOrigin: false }, \"#dp-0ae86109e3fe4637b9b2c308628bf172\");\n",
              "</script>\n"
            ]
          },
          "metadata": {}
        }
      ]
    },
    {
      "cell_type": "code",
      "source": [
        "total_sales_plot = px.bar(total_sales_df, x='category', y='total_revenue', color = 'category', title='Total Sales by Product Category')\n",
        "total_sales_plot.show()"
      ],
      "metadata": {
        "colab": {
          "base_uri": "https://localhost:8080/",
          "height": 542
        },
        "id": "tUaBYaoqQnGF",
        "outputId": "e37161c3-bac1-4b2d-aee0-27cfbfbbbe87"
      },
      "execution_count": null,
      "outputs": [
        {
          "output_type": "display_data",
          "data": {
            "text/html": [
              "<html>\n",
              "<head><meta charset=\"utf-8\" /></head>\n",
              "<body>\n",
              "    <div>            <script src=\"https://cdnjs.cloudflare.com/ajax/libs/mathjax/2.7.5/MathJax.js?config=TeX-AMS-MML_SVG\"></script><script type=\"text/javascript\">if (window.MathJax && window.MathJax.Hub && window.MathJax.Hub.Config) {window.MathJax.Hub.Config({SVG: {font: \"STIX-Web\"}});}</script>                <script type=\"text/javascript\">window.PlotlyConfig = {MathJaxConfig: 'local'};</script>\n",
              "        <script charset=\"utf-8\" src=\"https://cdn.plot.ly/plotly-2.24.1.min.js\"></script>                <div id=\"84d97d56-5b64-445e-8859-9be22dc8f6ce\" class=\"plotly-graph-div\" style=\"height:525px; width:100%;\"></div>            <script type=\"text/javascript\">                                    window.PLOTLYENV=window.PLOTLYENV || {};                                    if (document.getElementById(\"84d97d56-5b64-445e-8859-9be22dc8f6ce\")) {                    Plotly.newPlot(                        \"84d97d56-5b64-445e-8859-9be22dc8f6ce\",                        [{\"alignmentgroup\":\"True\",\"hovertemplate\":\"category=%{x}\\u003cbr\\u003etotal_revenue=%{y}\\u003cextra\\u003e\\u003c\\u002fextra\\u003e\",\"legendgroup\":\"Batteries\",\"marker\":{\"color\":\"#636efa\",\"pattern\":{\"shape\":\"\"}},\"name\":\"Batteries\",\"offsetgroup\":\"Batteries\",\"orientation\":\"v\",\"showlegend\":true,\"textposition\":\"auto\",\"x\":[\"Batteries\"],\"xaxis\":\"x\",\"y\":[82261463.39],\"yaxis\":\"y\",\"type\":\"bar\"},{\"alignmentgroup\":\"True\",\"hovertemplate\":\"category=%{x}\\u003cbr\\u003etotal_revenue=%{y}\\u003cextra\\u003e\\u003c\\u002fextra\\u003e\",\"legendgroup\":\"Business Laptop\",\"marker\":{\"color\":\"#EF553B\",\"pattern\":{\"shape\":\"\"}},\"name\":\"Business Laptop\",\"offsetgroup\":\"Business Laptop\",\"orientation\":\"v\",\"showlegend\":true,\"textposition\":\"auto\",\"x\":[\"Business Laptop\"],\"xaxis\":\"x\",\"y\":[703353622.7008],\"yaxis\":\"y\",\"type\":\"bar\"},{\"alignmentgroup\":\"True\",\"hovertemplate\":\"category=%{x}\\u003cbr\\u003etotal_revenue=%{y}\\u003cextra\\u003e\\u003c\\u002fextra\\u003e\",\"legendgroup\":\"External Solid State Drives\",\"marker\":{\"color\":\"#00cc96\",\"pattern\":{\"shape\":\"\"}},\"name\":\"External Solid State Drives\",\"offsetgroup\":\"External Solid State Drives\",\"orientation\":\"v\",\"showlegend\":true,\"textposition\":\"auto\",\"x\":[\"External Solid State Drives\"],\"xaxis\":\"x\",\"y\":[185491393.4421],\"yaxis\":\"y\",\"type\":\"bar\"},{\"alignmentgroup\":\"True\",\"hovertemplate\":\"category=%{x}\\u003cbr\\u003etotal_revenue=%{y}\\u003cextra\\u003e\\u003c\\u002fextra\\u003e\",\"legendgroup\":\"Gaming Laptop\",\"marker\":{\"color\":\"#ab63fa\",\"pattern\":{\"shape\":\"\"}},\"name\":\"Gaming Laptop\",\"offsetgroup\":\"Gaming Laptop\",\"orientation\":\"v\",\"showlegend\":true,\"textposition\":\"auto\",\"x\":[\"Gaming Laptop\"],\"xaxis\":\"x\",\"y\":[703916400.8433],\"yaxis\":\"y\",\"type\":\"bar\"},{\"alignmentgroup\":\"True\",\"hovertemplate\":\"category=%{x}\\u003cbr\\u003etotal_revenue=%{y}\\u003cextra\\u003e\\u003c\\u002fextra\\u003e\",\"legendgroup\":\"Graphic Card\",\"marker\":{\"color\":\"#FFA15A\",\"pattern\":{\"shape\":\"\"}},\"name\":\"Graphic Card\",\"offsetgroup\":\"Graphic Card\",\"orientation\":\"v\",\"showlegend\":true,\"textposition\":\"auto\",\"x\":[\"Graphic Card\"],\"xaxis\":\"x\",\"y\":[285918994.0317],\"yaxis\":\"y\",\"type\":\"bar\"},{\"alignmentgroup\":\"True\",\"hovertemplate\":\"category=%{x}\\u003cbr\\u003etotal_revenue=%{y}\\u003cextra\\u003e\\u003c\\u002fextra\\u003e\",\"legendgroup\":\"Internal HDD\",\"marker\":{\"color\":\"#19d3f3\",\"pattern\":{\"shape\":\"\"}},\"name\":\"Internal HDD\",\"offsetgroup\":\"Internal HDD\",\"orientation\":\"v\",\"showlegend\":true,\"textposition\":\"auto\",\"x\":[\"Internal HDD\"],\"xaxis\":\"x\",\"y\":[66411170.7078],\"yaxis\":\"y\",\"type\":\"bar\"},{\"alignmentgroup\":\"True\",\"hovertemplate\":\"category=%{x}\\u003cbr\\u003etotal_revenue=%{y}\\u003cextra\\u003e\\u003c\\u002fextra\\u003e\",\"legendgroup\":\"Keyboard\",\"marker\":{\"color\":\"#FF6692\",\"pattern\":{\"shape\":\"\"}},\"name\":\"Keyboard\",\"offsetgroup\":\"Keyboard\",\"orientation\":\"v\",\"showlegend\":true,\"textposition\":\"auto\",\"x\":[\"Keyboard\"],\"xaxis\":\"x\",\"y\":[442106567.4869],\"yaxis\":\"y\",\"type\":\"bar\"},{\"alignmentgroup\":\"True\",\"hovertemplate\":\"category=%{x}\\u003cbr\\u003etotal_revenue=%{y}\\u003cextra\\u003e\\u003c\\u002fextra\\u003e\",\"legendgroup\":\"MotherBoard\",\"marker\":{\"color\":\"#B6E880\",\"pattern\":{\"shape\":\"\"}},\"name\":\"MotherBoard\",\"offsetgroup\":\"MotherBoard\",\"orientation\":\"v\",\"showlegend\":true,\"textposition\":\"auto\",\"x\":[\"MotherBoard\"],\"xaxis\":\"x\",\"y\":[111587026.0321],\"yaxis\":\"y\",\"type\":\"bar\"},{\"alignmentgroup\":\"True\",\"hovertemplate\":\"category=%{x}\\u003cbr\\u003etotal_revenue=%{y}\\u003cextra\\u003e\\u003c\\u002fextra\\u003e\",\"legendgroup\":\"Mouse\",\"marker\":{\"color\":\"#FF97FF\",\"pattern\":{\"shape\":\"\"}},\"name\":\"Mouse\",\"offsetgroup\":\"Mouse\",\"orientation\":\"v\",\"showlegend\":true,\"textposition\":\"auto\",\"x\":[\"Mouse\"],\"xaxis\":\"x\",\"y\":[306016540.1303],\"yaxis\":\"y\",\"type\":\"bar\"},{\"alignmentgroup\":\"True\",\"hovertemplate\":\"category=%{x}\\u003cbr\\u003etotal_revenue=%{y}\\u003cextra\\u003e\\u003c\\u002fextra\\u003e\",\"legendgroup\":\"Personal Desktop\",\"marker\":{\"color\":\"#FECB52\",\"pattern\":{\"shape\":\"\"}},\"name\":\"Personal Desktop\",\"offsetgroup\":\"Personal Desktop\",\"orientation\":\"v\",\"showlegend\":true,\"textposition\":\"auto\",\"x\":[\"Personal Desktop\"],\"xaxis\":\"x\",\"y\":[241355614.5166],\"yaxis\":\"y\",\"type\":\"bar\"},{\"alignmentgroup\":\"True\",\"hovertemplate\":\"category=%{x}\\u003cbr\\u003etotal_revenue=%{y}\\u003cextra\\u003e\\u003c\\u002fextra\\u003e\",\"legendgroup\":\"Personal Laptop\",\"marker\":{\"color\":\"#636efa\",\"pattern\":{\"shape\":\"\"}},\"name\":\"Personal Laptop\",\"offsetgroup\":\"Personal Laptop\",\"orientation\":\"v\",\"showlegend\":true,\"textposition\":\"auto\",\"x\":[\"Personal Laptop\"],\"xaxis\":\"x\",\"y\":[556641344.0233],\"yaxis\":\"y\",\"type\":\"bar\"},{\"alignmentgroup\":\"True\",\"hovertemplate\":\"category=%{x}\\u003cbr\\u003etotal_revenue=%{y}\\u003cextra\\u003e\\u003c\\u002fextra\\u003e\",\"legendgroup\":\"Processors\",\"marker\":{\"color\":\"#EF553B\",\"pattern\":{\"shape\":\"\"}},\"name\":\"Processors\",\"offsetgroup\":\"Processors\",\"orientation\":\"v\",\"showlegend\":true,\"textposition\":\"auto\",\"x\":[\"Processors\"],\"xaxis\":\"x\",\"y\":[713700766.0231],\"yaxis\":\"y\",\"type\":\"bar\"},{\"alignmentgroup\":\"True\",\"hovertemplate\":\"category=%{x}\\u003cbr\\u003etotal_revenue=%{y}\\u003cextra\\u003e\\u003c\\u002fextra\\u003e\",\"legendgroup\":\"USB Flash Drives\",\"marker\":{\"color\":\"#00cc96\",\"pattern\":{\"shape\":\"\"}},\"name\":\"USB Flash Drives\",\"offsetgroup\":\"USB Flash Drives\",\"orientation\":\"v\",\"showlegend\":true,\"textposition\":\"auto\",\"x\":[\"USB Flash Drives\"],\"xaxis\":\"x\",\"y\":[13228526.4327],\"yaxis\":\"y\",\"type\":\"bar\"},{\"alignmentgroup\":\"True\",\"hovertemplate\":\"category=%{x}\\u003cbr\\u003etotal_revenue=%{y}\\u003cextra\\u003e\\u003c\\u002fextra\\u003e\",\"legendgroup\":\"Wi fi extender\",\"marker\":{\"color\":\"#ab63fa\",\"pattern\":{\"shape\":\"\"}},\"name\":\"Wi fi extender\",\"offsetgroup\":\"Wi fi extender\",\"orientation\":\"v\",\"showlegend\":true,\"textposition\":\"auto\",\"x\":[\"Wi fi extender\"],\"xaxis\":\"x\",\"y\":[171928661.4394],\"yaxis\":\"y\",\"type\":\"bar\"}],                        {\"template\":{\"data\":{\"histogram2dcontour\":[{\"type\":\"histogram2dcontour\",\"colorbar\":{\"outlinewidth\":0,\"ticks\":\"\"},\"colorscale\":[[0.0,\"#0d0887\"],[0.1111111111111111,\"#46039f\"],[0.2222222222222222,\"#7201a8\"],[0.3333333333333333,\"#9c179e\"],[0.4444444444444444,\"#bd3786\"],[0.5555555555555556,\"#d8576b\"],[0.6666666666666666,\"#ed7953\"],[0.7777777777777778,\"#fb9f3a\"],[0.8888888888888888,\"#fdca26\"],[1.0,\"#f0f921\"]]}],\"choropleth\":[{\"type\":\"choropleth\",\"colorbar\":{\"outlinewidth\":0,\"ticks\":\"\"}}],\"histogram2d\":[{\"type\":\"histogram2d\",\"colorbar\":{\"outlinewidth\":0,\"ticks\":\"\"},\"colorscale\":[[0.0,\"#0d0887\"],[0.1111111111111111,\"#46039f\"],[0.2222222222222222,\"#7201a8\"],[0.3333333333333333,\"#9c179e\"],[0.4444444444444444,\"#bd3786\"],[0.5555555555555556,\"#d8576b\"],[0.6666666666666666,\"#ed7953\"],[0.7777777777777778,\"#fb9f3a\"],[0.8888888888888888,\"#fdca26\"],[1.0,\"#f0f921\"]]}],\"heatmap\":[{\"type\":\"heatmap\",\"colorbar\":{\"outlinewidth\":0,\"ticks\":\"\"},\"colorscale\":[[0.0,\"#0d0887\"],[0.1111111111111111,\"#46039f\"],[0.2222222222222222,\"#7201a8\"],[0.3333333333333333,\"#9c179e\"],[0.4444444444444444,\"#bd3786\"],[0.5555555555555556,\"#d8576b\"],[0.6666666666666666,\"#ed7953\"],[0.7777777777777778,\"#fb9f3a\"],[0.8888888888888888,\"#fdca26\"],[1.0,\"#f0f921\"]]}],\"heatmapgl\":[{\"type\":\"heatmapgl\",\"colorbar\":{\"outlinewidth\":0,\"ticks\":\"\"},\"colorscale\":[[0.0,\"#0d0887\"],[0.1111111111111111,\"#46039f\"],[0.2222222222222222,\"#7201a8\"],[0.3333333333333333,\"#9c179e\"],[0.4444444444444444,\"#bd3786\"],[0.5555555555555556,\"#d8576b\"],[0.6666666666666666,\"#ed7953\"],[0.7777777777777778,\"#fb9f3a\"],[0.8888888888888888,\"#fdca26\"],[1.0,\"#f0f921\"]]}],\"contourcarpet\":[{\"type\":\"contourcarpet\",\"colorbar\":{\"outlinewidth\":0,\"ticks\":\"\"}}],\"contour\":[{\"type\":\"contour\",\"colorbar\":{\"outlinewidth\":0,\"ticks\":\"\"},\"colorscale\":[[0.0,\"#0d0887\"],[0.1111111111111111,\"#46039f\"],[0.2222222222222222,\"#7201a8\"],[0.3333333333333333,\"#9c179e\"],[0.4444444444444444,\"#bd3786\"],[0.5555555555555556,\"#d8576b\"],[0.6666666666666666,\"#ed7953\"],[0.7777777777777778,\"#fb9f3a\"],[0.8888888888888888,\"#fdca26\"],[1.0,\"#f0f921\"]]}],\"surface\":[{\"type\":\"surface\",\"colorbar\":{\"outlinewidth\":0,\"ticks\":\"\"},\"colorscale\":[[0.0,\"#0d0887\"],[0.1111111111111111,\"#46039f\"],[0.2222222222222222,\"#7201a8\"],[0.3333333333333333,\"#9c179e\"],[0.4444444444444444,\"#bd3786\"],[0.5555555555555556,\"#d8576b\"],[0.6666666666666666,\"#ed7953\"],[0.7777777777777778,\"#fb9f3a\"],[0.8888888888888888,\"#fdca26\"],[1.0,\"#f0f921\"]]}],\"mesh3d\":[{\"type\":\"mesh3d\",\"colorbar\":{\"outlinewidth\":0,\"ticks\":\"\"}}],\"scatter\":[{\"fillpattern\":{\"fillmode\":\"overlay\",\"size\":10,\"solidity\":0.2},\"type\":\"scatter\"}],\"parcoords\":[{\"type\":\"parcoords\",\"line\":{\"colorbar\":{\"outlinewidth\":0,\"ticks\":\"\"}}}],\"scatterpolargl\":[{\"type\":\"scatterpolargl\",\"marker\":{\"colorbar\":{\"outlinewidth\":0,\"ticks\":\"\"}}}],\"bar\":[{\"error_x\":{\"color\":\"#2a3f5f\"},\"error_y\":{\"color\":\"#2a3f5f\"},\"marker\":{\"line\":{\"color\":\"#E5ECF6\",\"width\":0.5},\"pattern\":{\"fillmode\":\"overlay\",\"size\":10,\"solidity\":0.2}},\"type\":\"bar\"}],\"scattergeo\":[{\"type\":\"scattergeo\",\"marker\":{\"colorbar\":{\"outlinewidth\":0,\"ticks\":\"\"}}}],\"scatterpolar\":[{\"type\":\"scatterpolar\",\"marker\":{\"colorbar\":{\"outlinewidth\":0,\"ticks\":\"\"}}}],\"histogram\":[{\"marker\":{\"pattern\":{\"fillmode\":\"overlay\",\"size\":10,\"solidity\":0.2}},\"type\":\"histogram\"}],\"scattergl\":[{\"type\":\"scattergl\",\"marker\":{\"colorbar\":{\"outlinewidth\":0,\"ticks\":\"\"}}}],\"scatter3d\":[{\"type\":\"scatter3d\",\"line\":{\"colorbar\":{\"outlinewidth\":0,\"ticks\":\"\"}},\"marker\":{\"colorbar\":{\"outlinewidth\":0,\"ticks\":\"\"}}}],\"scattermapbox\":[{\"type\":\"scattermapbox\",\"marker\":{\"colorbar\":{\"outlinewidth\":0,\"ticks\":\"\"}}}],\"scatterternary\":[{\"type\":\"scatterternary\",\"marker\":{\"colorbar\":{\"outlinewidth\":0,\"ticks\":\"\"}}}],\"scattercarpet\":[{\"type\":\"scattercarpet\",\"marker\":{\"colorbar\":{\"outlinewidth\":0,\"ticks\":\"\"}}}],\"carpet\":[{\"aaxis\":{\"endlinecolor\":\"#2a3f5f\",\"gridcolor\":\"white\",\"linecolor\":\"white\",\"minorgridcolor\":\"white\",\"startlinecolor\":\"#2a3f5f\"},\"baxis\":{\"endlinecolor\":\"#2a3f5f\",\"gridcolor\":\"white\",\"linecolor\":\"white\",\"minorgridcolor\":\"white\",\"startlinecolor\":\"#2a3f5f\"},\"type\":\"carpet\"}],\"table\":[{\"cells\":{\"fill\":{\"color\":\"#EBF0F8\"},\"line\":{\"color\":\"white\"}},\"header\":{\"fill\":{\"color\":\"#C8D4E3\"},\"line\":{\"color\":\"white\"}},\"type\":\"table\"}],\"barpolar\":[{\"marker\":{\"line\":{\"color\":\"#E5ECF6\",\"width\":0.5},\"pattern\":{\"fillmode\":\"overlay\",\"size\":10,\"solidity\":0.2}},\"type\":\"barpolar\"}],\"pie\":[{\"automargin\":true,\"type\":\"pie\"}]},\"layout\":{\"autotypenumbers\":\"strict\",\"colorway\":[\"#636efa\",\"#EF553B\",\"#00cc96\",\"#ab63fa\",\"#FFA15A\",\"#19d3f3\",\"#FF6692\",\"#B6E880\",\"#FF97FF\",\"#FECB52\"],\"font\":{\"color\":\"#2a3f5f\"},\"hovermode\":\"closest\",\"hoverlabel\":{\"align\":\"left\"},\"paper_bgcolor\":\"white\",\"plot_bgcolor\":\"#E5ECF6\",\"polar\":{\"bgcolor\":\"#E5ECF6\",\"angularaxis\":{\"gridcolor\":\"white\",\"linecolor\":\"white\",\"ticks\":\"\"},\"radialaxis\":{\"gridcolor\":\"white\",\"linecolor\":\"white\",\"ticks\":\"\"}},\"ternary\":{\"bgcolor\":\"#E5ECF6\",\"aaxis\":{\"gridcolor\":\"white\",\"linecolor\":\"white\",\"ticks\":\"\"},\"baxis\":{\"gridcolor\":\"white\",\"linecolor\":\"white\",\"ticks\":\"\"},\"caxis\":{\"gridcolor\":\"white\",\"linecolor\":\"white\",\"ticks\":\"\"}},\"coloraxis\":{\"colorbar\":{\"outlinewidth\":0,\"ticks\":\"\"}},\"colorscale\":{\"sequential\":[[0.0,\"#0d0887\"],[0.1111111111111111,\"#46039f\"],[0.2222222222222222,\"#7201a8\"],[0.3333333333333333,\"#9c179e\"],[0.4444444444444444,\"#bd3786\"],[0.5555555555555556,\"#d8576b\"],[0.6666666666666666,\"#ed7953\"],[0.7777777777777778,\"#fb9f3a\"],[0.8888888888888888,\"#fdca26\"],[1.0,\"#f0f921\"]],\"sequentialminus\":[[0.0,\"#0d0887\"],[0.1111111111111111,\"#46039f\"],[0.2222222222222222,\"#7201a8\"],[0.3333333333333333,\"#9c179e\"],[0.4444444444444444,\"#bd3786\"],[0.5555555555555556,\"#d8576b\"],[0.6666666666666666,\"#ed7953\"],[0.7777777777777778,\"#fb9f3a\"],[0.8888888888888888,\"#fdca26\"],[1.0,\"#f0f921\"]],\"diverging\":[[0,\"#8e0152\"],[0.1,\"#c51b7d\"],[0.2,\"#de77ae\"],[0.3,\"#f1b6da\"],[0.4,\"#fde0ef\"],[0.5,\"#f7f7f7\"],[0.6,\"#e6f5d0\"],[0.7,\"#b8e186\"],[0.8,\"#7fbc41\"],[0.9,\"#4d9221\"],[1,\"#276419\"]]},\"xaxis\":{\"gridcolor\":\"white\",\"linecolor\":\"white\",\"ticks\":\"\",\"title\":{\"standoff\":15},\"zerolinecolor\":\"white\",\"automargin\":true,\"zerolinewidth\":2},\"yaxis\":{\"gridcolor\":\"white\",\"linecolor\":\"white\",\"ticks\":\"\",\"title\":{\"standoff\":15},\"zerolinecolor\":\"white\",\"automargin\":true,\"zerolinewidth\":2},\"scene\":{\"xaxis\":{\"backgroundcolor\":\"#E5ECF6\",\"gridcolor\":\"white\",\"linecolor\":\"white\",\"showbackground\":true,\"ticks\":\"\",\"zerolinecolor\":\"white\",\"gridwidth\":2},\"yaxis\":{\"backgroundcolor\":\"#E5ECF6\",\"gridcolor\":\"white\",\"linecolor\":\"white\",\"showbackground\":true,\"ticks\":\"\",\"zerolinecolor\":\"white\",\"gridwidth\":2},\"zaxis\":{\"backgroundcolor\":\"#E5ECF6\",\"gridcolor\":\"white\",\"linecolor\":\"white\",\"showbackground\":true,\"ticks\":\"\",\"zerolinecolor\":\"white\",\"gridwidth\":2}},\"shapedefaults\":{\"line\":{\"color\":\"#2a3f5f\"}},\"annotationdefaults\":{\"arrowcolor\":\"#2a3f5f\",\"arrowhead\":0,\"arrowwidth\":1},\"geo\":{\"bgcolor\":\"white\",\"landcolor\":\"#E5ECF6\",\"subunitcolor\":\"white\",\"showland\":true,\"showlakes\":true,\"lakecolor\":\"white\"},\"title\":{\"x\":0.05},\"mapbox\":{\"style\":\"light\"}}},\"xaxis\":{\"anchor\":\"y\",\"domain\":[0.0,1.0],\"title\":{\"text\":\"category\"},\"categoryorder\":\"array\",\"categoryarray\":[\"Batteries\",\"Business Laptop\",\"External Solid State Drives\",\"Gaming Laptop\",\"Graphic Card\",\"Internal HDD\",\"Keyboard\",\"MotherBoard\",\"Mouse\",\"Personal Desktop\",\"Personal Laptop\",\"Processors\",\"USB Flash Drives\",\"Wi fi extender\"]},\"yaxis\":{\"anchor\":\"x\",\"domain\":[0.0,1.0],\"title\":{\"text\":\"total_revenue\"}},\"legend\":{\"title\":{\"text\":\"category\"},\"tracegroupgap\":0},\"title\":{\"text\":\"Total Sales by Product Category\"},\"barmode\":\"relative\"},                        {\"responsive\": true}                    ).then(function(){\n",
              "                            \n",
              "var gd = document.getElementById('84d97d56-5b64-445e-8859-9be22dc8f6ce');\n",
              "var x = new MutationObserver(function (mutations, observer) {{\n",
              "        var display = window.getComputedStyle(gd).display;\n",
              "        if (!display || display === 'none') {{\n",
              "            console.log([gd, 'removed!']);\n",
              "            Plotly.purge(gd);\n",
              "            observer.disconnect();\n",
              "        }}\n",
              "}});\n",
              "\n",
              "// Listen for the removal of the full notebook cells\n",
              "var notebookContainer = gd.closest('#notebook-container');\n",
              "if (notebookContainer) {{\n",
              "    x.observe(notebookContainer, {childList: true});\n",
              "}}\n",
              "\n",
              "// Listen for the clearing of the current output cell\n",
              "var outputEl = gd.closest('.output');\n",
              "if (outputEl) {{\n",
              "    x.observe(outputEl, {childList: true});\n",
              "}}\n",
              "\n",
              "                        })                };                            </script>        </div>\n",
              "</body>\n",
              "</html>"
            ]
          },
          "metadata": {}
        }
      ]
    },
    {
      "cell_type": "markdown",
      "source": [
        "Line Chart - Monthly Sales Trends for a Specific Product:"
      ],
      "metadata": {
        "id": "unrhUkraKRhu"
      }
    },
    {
      "cell_type": "code",
      "source": [
        "Monthly_Sales_Trends_for_a_Specific_Product_query=\"\"\"\n",
        "SELECT date, SUM(sold_quantity) AS monthly_sales\n",
        "FROM fact_sales_monthly\n",
        "WHERE product_code = 'A0418150101'\n",
        "GROUP BY date\n",
        "ORDER BY date;\n",
        "\"\"\"\n",
        "sales_trends_df=run_query(Monthly_Sales_Trends_for_a_Specific_Product_query)\n",
        "dp.DataTable(sales_trends_df)"
      ],
      "metadata": {
        "colab": {
          "base_uri": "https://localhost:8080/",
          "height": 503
        },
        "id": "1CaQb9KLKWCL",
        "outputId": "625218bc-b64a-422e-f5f2-76ceaf78dfb8"
      },
      "execution_count": null,
      "outputs": [
        {
          "output_type": "display_data",
          "data": {
            "text/plain": [
              "<IPython.core.display.HTML object>"
            ],
            "text/html": [
              "<style>\n",
              "  #dp-78b0ea47e98c4e228c7e49aaac7a408c {\n",
              "    width: 1px;\n",
              "    min-width: 100%;\n",
              "  }\n",
              "</style>\n",
              "<iframe id=\"dp-78b0ea47e98c4e228c7e49aaac7a408c\" srcdoc=\"&lt;!DOCTYPE html&gt;\n",
              "&lt;html lang=&quot;en&quot;&gt;\n",
              "  &lt;head&gt;\n",
              "&lt;meta charset=&quot;UTF-8&quot; /&gt;\n",
              "\n",
              "&lt;link rel=&quot;shortcut icon&quot; type=&quot;image/png&quot; href=&quot;https://datapane-cdn.com/static/v1/datapane-icon-192x192.png&quot;/&gt;\n",
              "&lt;link rel=&quot;shortcut icon&quot; sizes=&quot;192x192&quot; href=&quot;https://datapane-cdn.com/static/v1/datapane-icon-192x192.png&quot;/&gt;\n",
              "&lt;link rel=&quot;apple-touch-icon&quot; href=&quot;https://datapane-cdn.com/static/v1/datapane-icon-192x192.png&quot;/&gt;\n",
              "\n",
              "&lt;script src=&quot;https://kit.fontawesome.com/256c714d9a.js&quot;&gt;&lt;/script&gt;\n",
              "&lt;link\n",
              "  href=&quot;https://fonts.googleapis.com/css?family=Inter:400,500,600,700|Inconsolata|Karla|Rubik&amp;display=swap&quot;\n",
              "  rel=&quot;stylesheet&quot;\n",
              "/&gt;\n",
              "&lt;link rel=&quot;stylesheet&quot; href=&quot;https://datapane-cdn.com/v0.17.0/report/index.css&quot; /&gt;\n",
              "&lt;link rel=&quot;stylesheet&quot; href=&quot;https://datapane-cdn.com/v0.17.0/report/tailwind.css&quot; /&gt;\n",
              "&lt;script&gt;\n",
              "  // analytics config\n",
              "  // TODO -- pass these in as props for consistency?\n",
              "  window.dpAppRunner = false;\n",
              "  window.dpLocal = true;\n",
              "\n",
              "  /* construct the view */\n",
              "  const htmlHeader = `&lt;style type=&quot;text/css&quot;&gt;:root {\n",
              "    --dp-accent-color: #4E46E5;\n",
              "    --dp-bg-color: #FFF;\n",
              "    --dp-text-align: left;\n",
              "    --dp-font-family: Inter, ui-sans-serif, system-ui;\n",
              "}&lt;/style&gt;`;\n",
              "  window.reportProps = { htmlHeader, isLightProse: false, isOrg: false, mode: &quot;VIEW&quot;, reportWidthClass: &quot;max-w-screen-xl&quot; };\n",
              "\n",
              "  if (!window.dpAppRunner) {\n",
              "      // pass app data via props if in local (static) mode, otherwise this data is fetched from the server\n",
              "      window.reportProps[&quot;appData&quot;] = { data: { result: {&quot;view_xml&quot;: &quot;\\u003cView version=\\&quot;1\\&quot; fragment=\\&quot;false\\&quot;\\u003e\\u003cDataTable type=\\&quot;application/vnd.apache.arrow+binary\\&quot; rows=\\&quot;36\\&quot; columns=\\&quot;2\\&quot; schema=\\&quot;[]\\&quot; src=\\&quot;ref://93b6f5bcc6\\&quot;/\\u003e\\u003c/View\\u003e&quot;, &quot;assets&quot;: {&quot;93b6f5bcc6&quot;: {&quot;src&quot;: &quot;data:application/vnd.apache.arrow+binary;base64,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&quot;, &quot;hash&quot;: &quot;93b6f5bcc6&quot;, &quot;size&quot;: 2480, &quot;mime&quot;: &quot;application/vnd.apache.arrow+binary&quot;}}} }};\n",
              "  }\n",
              "&lt;/script&gt;\n",
              "&lt;script type=&quot;module&quot;&gt;\n",
              "  import { mountReport } from &quot;https://datapane-cdn.com/v0.17.0/report/index.es.js&quot;;\n",
              "  mountReport(window.reportProps);\n",
              "&lt;/script&gt;\n",
              "  &lt;/head&gt;\n",
              "  &lt;script&gt;\n",
              "    window.isIPythonEmbed = true;\n",
              "  &lt;/script&gt;\n",
              "  &lt;body&gt;\n",
              "    &lt;main class=&quot;max-w-screen-xl w-full mx-auto&quot;&gt;\n",
              "      &lt;div id=&quot;report&quot; class=&quot;w-full&quot;&gt;&lt;/div&gt;\n",
              "    &lt;/main&gt;\n",
              "    &lt;script src=&quot;https://datapane-cdn.com/v0.17.0/assets/iframeResizer.contentWindow.min.js&quot;&gt;&lt;/script&gt;\n",
              "  &lt;/body&gt;\n",
              "&lt;/html&gt;\n",
              "\" style=\"border: none\">\n",
              "</iframe>\n",
              "<script type=\"module\">\n",
              "  import { iframeResize } from \"https://datapane-cdn.com/v0.17.0/report/index.es.js\";\n",
              "  iframeResize({ log: true, checkOrigin: false }, \"#dp-78b0ea47e98c4e228c7e49aaac7a408c\");\n",
              "</script>\n"
            ]
          },
          "metadata": {}
        }
      ]
    },
    {
      "cell_type": "code",
      "source": [
        "monthly_tales_trends = px.line(sales_trends_df, x='date', y='monthly_sales', title='Monthly Sales Trends for a Specific Product')\n",
        "monthly_tales_trends.show()"
      ],
      "metadata": {
        "colab": {
          "base_uri": "https://localhost:8080/",
          "height": 542
        },
        "id": "Q573bb2AP72N",
        "outputId": "e0d550a6-a35d-40c4-b4ab-7dee29c4fcfe"
      },
      "execution_count": null,
      "outputs": [
        {
          "output_type": "display_data",
          "data": {
            "text/html": [
              "<html>\n",
              "<head><meta charset=\"utf-8\" /></head>\n",
              "<body>\n",
              "    <div>            <script src=\"https://cdnjs.cloudflare.com/ajax/libs/mathjax/2.7.5/MathJax.js?config=TeX-AMS-MML_SVG\"></script><script type=\"text/javascript\">if (window.MathJax && window.MathJax.Hub && window.MathJax.Hub.Config) {window.MathJax.Hub.Config({SVG: {font: \"STIX-Web\"}});}</script>                <script type=\"text/javascript\">window.PlotlyConfig = {MathJaxConfig: 'local'};</script>\n",
              "        <script charset=\"utf-8\" src=\"https://cdn.plot.ly/plotly-2.24.1.min.js\"></script>                <div id=\"53b20e28-90aa-4613-a9ab-a624b849951b\" class=\"plotly-graph-div\" style=\"height:525px; width:100%;\"></div>            <script type=\"text/javascript\">                                    window.PLOTLYENV=window.PLOTLYENV || {};                                    if (document.getElementById(\"53b20e28-90aa-4613-a9ab-a624b849951b\")) {                    Plotly.newPlot(                        \"53b20e28-90aa-4613-a9ab-a624b849951b\",                        [{\"hovertemplate\":\"date=%{x}\\u003cbr\\u003emonthly_sales=%{y}\\u003cextra\\u003e\\u003c\\u002fextra\\u003e\",\"legendgroup\":\"\",\"line\":{\"color\":\"#636efa\",\"dash\":\"solid\"},\"marker\":{\"symbol\":\"circle\"},\"mode\":\"lines\",\"name\":\"\",\"orientation\":\"v\",\"showlegend\":false,\"x\":[\"2017-09-01T00:00:00\",\"2017-10-01T00:00:00\",\"2017-11-01T00:00:00\",\"2017-12-01T00:00:00\",\"2018-01-01T00:00:00\",\"2018-02-01T00:00:00\",\"2018-03-01T00:00:00\",\"2018-04-01T00:00:00\",\"2018-05-01T00:00:00\",\"2018-06-01T00:00:00\",\"2018-07-01T00:00:00\",\"2018-08-01T00:00:00\",\"2018-09-01T00:00:00\",\"2018-10-01T00:00:00\",\"2018-11-01T00:00:00\",\"2018-12-01T00:00:00\",\"2019-01-01T00:00:00\",\"2019-02-01T00:00:00\",\"2019-03-01T00:00:00\",\"2019-04-01T00:00:00\",\"2019-05-01T00:00:00\",\"2019-06-01T00:00:00\",\"2019-07-01T00:00:00\",\"2019-08-01T00:00:00\",\"2019-09-01T00:00:00\",\"2019-10-01T00:00:00\",\"2019-11-01T00:00:00\",\"2019-12-01T00:00:00\",\"2020-01-01T00:00:00\",\"2020-02-01T00:00:00\",\"2020-03-01T00:00:00\",\"2020-04-01T00:00:00\",\"2020-05-01T00:00:00\",\"2020-06-01T00:00:00\",\"2020-07-01T00:00:00\",\"2020-08-01T00:00:00\"],\"xaxis\":\"x\",\"y\":[1460.0,2041.0,2873.0,2563.0,1614.0,1348.0,1819.0,1529.0,1577.0,1773.0,1479.0,1766.0,2574.0,3177.0,3908.0,3729.0,2549.0,2492.0,2155.0,2430.0,2637.0,2486.0,2178.0,2138.0,3823.0,5418.0,6156.0,7419.0,3679.0,3660.0,579.0,1889.0,2251.0,3483.0,3534.0,3867.0],\"yaxis\":\"y\",\"type\":\"scatter\"}],                        {\"template\":{\"data\":{\"histogram2dcontour\":[{\"type\":\"histogram2dcontour\",\"colorbar\":{\"outlinewidth\":0,\"ticks\":\"\"},\"colorscale\":[[0.0,\"#0d0887\"],[0.1111111111111111,\"#46039f\"],[0.2222222222222222,\"#7201a8\"],[0.3333333333333333,\"#9c179e\"],[0.4444444444444444,\"#bd3786\"],[0.5555555555555556,\"#d8576b\"],[0.6666666666666666,\"#ed7953\"],[0.7777777777777778,\"#fb9f3a\"],[0.8888888888888888,\"#fdca26\"],[1.0,\"#f0f921\"]]}],\"choropleth\":[{\"type\":\"choropleth\",\"colorbar\":{\"outlinewidth\":0,\"ticks\":\"\"}}],\"histogram2d\":[{\"type\":\"histogram2d\",\"colorbar\":{\"outlinewidth\":0,\"ticks\":\"\"},\"colorscale\":[[0.0,\"#0d0887\"],[0.1111111111111111,\"#46039f\"],[0.2222222222222222,\"#7201a8\"],[0.3333333333333333,\"#9c179e\"],[0.4444444444444444,\"#bd3786\"],[0.5555555555555556,\"#d8576b\"],[0.6666666666666666,\"#ed7953\"],[0.7777777777777778,\"#fb9f3a\"],[0.8888888888888888,\"#fdca26\"],[1.0,\"#f0f921\"]]}],\"heatmap\":[{\"type\":\"heatmap\",\"colorbar\":{\"outlinewidth\":0,\"ticks\":\"\"},\"colorscale\":[[0.0,\"#0d0887\"],[0.1111111111111111,\"#46039f\"],[0.2222222222222222,\"#7201a8\"],[0.3333333333333333,\"#9c179e\"],[0.4444444444444444,\"#bd3786\"],[0.5555555555555556,\"#d8576b\"],[0.6666666666666666,\"#ed7953\"],[0.7777777777777778,\"#fb9f3a\"],[0.8888888888888888,\"#fdca26\"],[1.0,\"#f0f921\"]]}],\"heatmapgl\":[{\"type\":\"heatmapgl\",\"colorbar\":{\"outlinewidth\":0,\"ticks\":\"\"},\"colorscale\":[[0.0,\"#0d0887\"],[0.1111111111111111,\"#46039f\"],[0.2222222222222222,\"#7201a8\"],[0.3333333333333333,\"#9c179e\"],[0.4444444444444444,\"#bd3786\"],[0.5555555555555556,\"#d8576b\"],[0.6666666666666666,\"#ed7953\"],[0.7777777777777778,\"#fb9f3a\"],[0.8888888888888888,\"#fdca26\"],[1.0,\"#f0f921\"]]}],\"contourcarpet\":[{\"type\":\"contourcarpet\",\"colorbar\":{\"outlinewidth\":0,\"ticks\":\"\"}}],\"contour\":[{\"type\":\"contour\",\"colorbar\":{\"outlinewidth\":0,\"ticks\":\"\"},\"colorscale\":[[0.0,\"#0d0887\"],[0.1111111111111111,\"#46039f\"],[0.2222222222222222,\"#7201a8\"],[0.3333333333333333,\"#9c179e\"],[0.4444444444444444,\"#bd3786\"],[0.5555555555555556,\"#d8576b\"],[0.6666666666666666,\"#ed7953\"],[0.7777777777777778,\"#fb9f3a\"],[0.8888888888888888,\"#fdca26\"],[1.0,\"#f0f921\"]]}],\"surface\":[{\"type\":\"surface\",\"colorbar\":{\"outlinewidth\":0,\"ticks\":\"\"},\"colorscale\":[[0.0,\"#0d0887\"],[0.1111111111111111,\"#46039f\"],[0.2222222222222222,\"#7201a8\"],[0.3333333333333333,\"#9c179e\"],[0.4444444444444444,\"#bd3786\"],[0.5555555555555556,\"#d8576b\"],[0.6666666666666666,\"#ed7953\"],[0.7777777777777778,\"#fb9f3a\"],[0.8888888888888888,\"#fdca26\"],[1.0,\"#f0f921\"]]}],\"mesh3d\":[{\"type\":\"mesh3d\",\"colorbar\":{\"outlinewidth\":0,\"ticks\":\"\"}}],\"scatter\":[{\"fillpattern\":{\"fillmode\":\"overlay\",\"size\":10,\"solidity\":0.2},\"type\":\"scatter\"}],\"parcoords\":[{\"type\":\"parcoords\",\"line\":{\"colorbar\":{\"outlinewidth\":0,\"ticks\":\"\"}}}],\"scatterpolargl\":[{\"type\":\"scatterpolargl\",\"marker\":{\"colorbar\":{\"outlinewidth\":0,\"ticks\":\"\"}}}],\"bar\":[{\"error_x\":{\"color\":\"#2a3f5f\"},\"error_y\":{\"color\":\"#2a3f5f\"},\"marker\":{\"line\":{\"color\":\"#E5ECF6\",\"width\":0.5},\"pattern\":{\"fillmode\":\"overlay\",\"size\":10,\"solidity\":0.2}},\"type\":\"bar\"}],\"scattergeo\":[{\"type\":\"scattergeo\",\"marker\":{\"colorbar\":{\"outlinewidth\":0,\"ticks\":\"\"}}}],\"scatterpolar\":[{\"type\":\"scatterpolar\",\"marker\":{\"colorbar\":{\"outlinewidth\":0,\"ticks\":\"\"}}}],\"histogram\":[{\"marker\":{\"pattern\":{\"fillmode\":\"overlay\",\"size\":10,\"solidity\":0.2}},\"type\":\"histogram\"}],\"scattergl\":[{\"type\":\"scattergl\",\"marker\":{\"colorbar\":{\"outlinewidth\":0,\"ticks\":\"\"}}}],\"scatter3d\":[{\"type\":\"scatter3d\",\"line\":{\"colorbar\":{\"outlinewidth\":0,\"ticks\":\"\"}},\"marker\":{\"colorbar\":{\"outlinewidth\":0,\"ticks\":\"\"}}}],\"scattermapbox\":[{\"type\":\"scattermapbox\",\"marker\":{\"colorbar\":{\"outlinewidth\":0,\"ticks\":\"\"}}}],\"scatterternary\":[{\"type\":\"scatterternary\",\"marker\":{\"colorbar\":{\"outlinewidth\":0,\"ticks\":\"\"}}}],\"scattercarpet\":[{\"type\":\"scattercarpet\",\"marker\":{\"colorbar\":{\"outlinewidth\":0,\"ticks\":\"\"}}}],\"carpet\":[{\"aaxis\":{\"endlinecolor\":\"#2a3f5f\",\"gridcolor\":\"white\",\"linecolor\":\"white\",\"minorgridcolor\":\"white\",\"startlinecolor\":\"#2a3f5f\"},\"baxis\":{\"endlinecolor\":\"#2a3f5f\",\"gridcolor\":\"white\",\"linecolor\":\"white\",\"minorgridcolor\":\"white\",\"startlinecolor\":\"#2a3f5f\"},\"type\":\"carpet\"}],\"table\":[{\"cells\":{\"fill\":{\"color\":\"#EBF0F8\"},\"line\":{\"color\":\"white\"}},\"header\":{\"fill\":{\"color\":\"#C8D4E3\"},\"line\":{\"color\":\"white\"}},\"type\":\"table\"}],\"barpolar\":[{\"marker\":{\"line\":{\"color\":\"#E5ECF6\",\"width\":0.5},\"pattern\":{\"fillmode\":\"overlay\",\"size\":10,\"solidity\":0.2}},\"type\":\"barpolar\"}],\"pie\":[{\"automargin\":true,\"type\":\"pie\"}]},\"layout\":{\"autotypenumbers\":\"strict\",\"colorway\":[\"#636efa\",\"#EF553B\",\"#00cc96\",\"#ab63fa\",\"#FFA15A\",\"#19d3f3\",\"#FF6692\",\"#B6E880\",\"#FF97FF\",\"#FECB52\"],\"font\":{\"color\":\"#2a3f5f\"},\"hovermode\":\"closest\",\"hoverlabel\":{\"align\":\"left\"},\"paper_bgcolor\":\"white\",\"plot_bgcolor\":\"#E5ECF6\",\"polar\":{\"bgcolor\":\"#E5ECF6\",\"angularaxis\":{\"gridcolor\":\"white\",\"linecolor\":\"white\",\"ticks\":\"\"},\"radialaxis\":{\"gridcolor\":\"white\",\"linecolor\":\"white\",\"ticks\":\"\"}},\"ternary\":{\"bgcolor\":\"#E5ECF6\",\"aaxis\":{\"gridcolor\":\"white\",\"linecolor\":\"white\",\"ticks\":\"\"},\"baxis\":{\"gridcolor\":\"white\",\"linecolor\":\"white\",\"ticks\":\"\"},\"caxis\":{\"gridcolor\":\"white\",\"linecolor\":\"white\",\"ticks\":\"\"}},\"coloraxis\":{\"colorbar\":{\"outlinewidth\":0,\"ticks\":\"\"}},\"colorscale\":{\"sequential\":[[0.0,\"#0d0887\"],[0.1111111111111111,\"#46039f\"],[0.2222222222222222,\"#7201a8\"],[0.3333333333333333,\"#9c179e\"],[0.4444444444444444,\"#bd3786\"],[0.5555555555555556,\"#d8576b\"],[0.6666666666666666,\"#ed7953\"],[0.7777777777777778,\"#fb9f3a\"],[0.8888888888888888,\"#fdca26\"],[1.0,\"#f0f921\"]],\"sequentialminus\":[[0.0,\"#0d0887\"],[0.1111111111111111,\"#46039f\"],[0.2222222222222222,\"#7201a8\"],[0.3333333333333333,\"#9c179e\"],[0.4444444444444444,\"#bd3786\"],[0.5555555555555556,\"#d8576b\"],[0.6666666666666666,\"#ed7953\"],[0.7777777777777778,\"#fb9f3a\"],[0.8888888888888888,\"#fdca26\"],[1.0,\"#f0f921\"]],\"diverging\":[[0,\"#8e0152\"],[0.1,\"#c51b7d\"],[0.2,\"#de77ae\"],[0.3,\"#f1b6da\"],[0.4,\"#fde0ef\"],[0.5,\"#f7f7f7\"],[0.6,\"#e6f5d0\"],[0.7,\"#b8e186\"],[0.8,\"#7fbc41\"],[0.9,\"#4d9221\"],[1,\"#276419\"]]},\"xaxis\":{\"gridcolor\":\"white\",\"linecolor\":\"white\",\"ticks\":\"\",\"title\":{\"standoff\":15},\"zerolinecolor\":\"white\",\"automargin\":true,\"zerolinewidth\":2},\"yaxis\":{\"gridcolor\":\"white\",\"linecolor\":\"white\",\"ticks\":\"\",\"title\":{\"standoff\":15},\"zerolinecolor\":\"white\",\"automargin\":true,\"zerolinewidth\":2},\"scene\":{\"xaxis\":{\"backgroundcolor\":\"#E5ECF6\",\"gridcolor\":\"white\",\"linecolor\":\"white\",\"showbackground\":true,\"ticks\":\"\",\"zerolinecolor\":\"white\",\"gridwidth\":2},\"yaxis\":{\"backgroundcolor\":\"#E5ECF6\",\"gridcolor\":\"white\",\"linecolor\":\"white\",\"showbackground\":true,\"ticks\":\"\",\"zerolinecolor\":\"white\",\"gridwidth\":2},\"zaxis\":{\"backgroundcolor\":\"#E5ECF6\",\"gridcolor\":\"white\",\"linecolor\":\"white\",\"showbackground\":true,\"ticks\":\"\",\"zerolinecolor\":\"white\",\"gridwidth\":2}},\"shapedefaults\":{\"line\":{\"color\":\"#2a3f5f\"}},\"annotationdefaults\":{\"arrowcolor\":\"#2a3f5f\",\"arrowhead\":0,\"arrowwidth\":1},\"geo\":{\"bgcolor\":\"white\",\"landcolor\":\"#E5ECF6\",\"subunitcolor\":\"white\",\"showland\":true,\"showlakes\":true,\"lakecolor\":\"white\"},\"title\":{\"x\":0.05},\"mapbox\":{\"style\":\"light\"}}},\"xaxis\":{\"anchor\":\"y\",\"domain\":[0.0,1.0],\"title\":{\"text\":\"date\"}},\"yaxis\":{\"anchor\":\"x\",\"domain\":[0.0,1.0],\"title\":{\"text\":\"monthly_sales\"}},\"legend\":{\"tracegroupgap\":0},\"title\":{\"text\":\"Monthly Sales Trends for a Specific Product\"}},                        {\"responsive\": true}                    ).then(function(){\n",
              "                            \n",
              "var gd = document.getElementById('53b20e28-90aa-4613-a9ab-a624b849951b');\n",
              "var x = new MutationObserver(function (mutations, observer) {{\n",
              "        var display = window.getComputedStyle(gd).display;\n",
              "        if (!display || display === 'none') {{\n",
              "            console.log([gd, 'removed!']);\n",
              "            Plotly.purge(gd);\n",
              "            observer.disconnect();\n",
              "        }}\n",
              "}});\n",
              "\n",
              "// Listen for the removal of the full notebook cells\n",
              "var notebookContainer = gd.closest('#notebook-container');\n",
              "if (notebookContainer) {{\n",
              "    x.observe(notebookContainer, {childList: true});\n",
              "}}\n",
              "\n",
              "// Listen for the clearing of the current output cell\n",
              "var outputEl = gd.closest('.output');\n",
              "if (outputEl) {{\n",
              "    x.observe(outputEl, {childList: true});\n",
              "}}\n",
              "\n",
              "                        })                };                            </script>        </div>\n",
              "</body>\n",
              "</html>"
            ]
          },
          "metadata": {}
        }
      ]
    },
    {
      "cell_type": "markdown",
      "source": [
        "Pie Chart - Market Share of Top Products:"
      ],
      "metadata": {
        "id": "yjr1_9okPIdi"
      }
    },
    {
      "cell_type": "code",
      "source": [
        "Market_Share_of_Top_Products_query=\"\"\"\n",
        "WITH top_products AS (\n",
        "  SELECT product_code, SUM(sold_quantity) AS total_sold\n",
        "  FROM fact_sales_monthly\n",
        "  GROUP BY product_code\n",
        "  ORDER BY total_sold DESC\n",
        "  LIMIT 5\n",
        ")\n",
        "SELECT tp.product_code, tp.total_sold, SUM(total_sold) OVER () AS total_sales\n",
        "FROM top_products tp;\n",
        "\"\"\"\n",
        "market_share_df=run_query(Market_Share_of_Top_Products_query)\n",
        "dp.DataTable(market_share_df)"
      ],
      "metadata": {
        "colab": {
          "base_uri": "https://localhost:8080/",
          "height": 503
        },
        "id": "fUmXtoVkPLXw",
        "outputId": "e90397d8-1ad8-4a9a-fc56-ed3daa844731"
      },
      "execution_count": null,
      "outputs": [
        {
          "output_type": "display_data",
          "data": {
            "text/plain": [
              "<IPython.core.display.HTML object>"
            ],
            "text/html": [
              "<style>\n",
              "  #dp-484abb219b8141cd947c13f63f429c24 {\n",
              "    width: 1px;\n",
              "    min-width: 100%;\n",
              "  }\n",
              "</style>\n",
              "<iframe id=\"dp-484abb219b8141cd947c13f63f429c24\" srcdoc=\"&lt;!DOCTYPE html&gt;\n",
              "&lt;html lang=&quot;en&quot;&gt;\n",
              "  &lt;head&gt;\n",
              "&lt;meta charset=&quot;UTF-8&quot; /&gt;\n",
              "\n",
              "&lt;link rel=&quot;shortcut icon&quot; type=&quot;image/png&quot; href=&quot;https://datapane-cdn.com/static/v1/datapane-icon-192x192.png&quot;/&gt;\n",
              "&lt;link rel=&quot;shortcut icon&quot; sizes=&quot;192x192&quot; href=&quot;https://datapane-cdn.com/static/v1/datapane-icon-192x192.png&quot;/&gt;\n",
              "&lt;link rel=&quot;apple-touch-icon&quot; href=&quot;https://datapane-cdn.com/static/v1/datapane-icon-192x192.png&quot;/&gt;\n",
              "\n",
              "&lt;script src=&quot;https://kit.fontawesome.com/256c714d9a.js&quot;&gt;&lt;/script&gt;\n",
              "&lt;link\n",
              "  href=&quot;https://fonts.googleapis.com/css?family=Inter:400,500,600,700|Inconsolata|Karla|Rubik&amp;display=swap&quot;\n",
              "  rel=&quot;stylesheet&quot;\n",
              "/&gt;\n",
              "&lt;link rel=&quot;stylesheet&quot; href=&quot;https://datapane-cdn.com/v0.17.0/report/index.css&quot; /&gt;\n",
              "&lt;link rel=&quot;stylesheet&quot; href=&quot;https://datapane-cdn.com/v0.17.0/report/tailwind.css&quot; /&gt;\n",
              "&lt;script&gt;\n",
              "  // analytics config\n",
              "  // TODO -- pass these in as props for consistency?\n",
              "  window.dpAppRunner = false;\n",
              "  window.dpLocal = true;\n",
              "\n",
              "  /* construct the view */\n",
              "  const htmlHeader = `&lt;style type=&quot;text/css&quot;&gt;:root {\n",
              "    --dp-accent-color: #4E46E5;\n",
              "    --dp-bg-color: #FFF;\n",
              "    --dp-text-align: left;\n",
              "    --dp-font-family: Inter, ui-sans-serif, system-ui;\n",
              "}&lt;/style&gt;`;\n",
              "  window.reportProps = { htmlHeader, isLightProse: false, isOrg: false, mode: &quot;VIEW&quot;, reportWidthClass: &quot;max-w-screen-xl&quot; };\n",
              "\n",
              "  if (!window.dpAppRunner) {\n",
              "      // pass app data via props if in local (static) mode, otherwise this data is fetched from the server\n",
              "      window.reportProps[&quot;appData&quot;] = { data: { result: {&quot;view_xml&quot;: &quot;\\u003cView version=\\&quot;1\\&quot; fragment=\\&quot;false\\&quot;\\u003e\\u003cDataTable type=\\&quot;application/vnd.apache.arrow+binary\\&quot; rows=\\&quot;5\\&quot; columns=\\&quot;3\\&quot; schema=\\&quot;[]\\&quot; src=\\&quot;ref://4b5afab8dc\\&quot;/\\u003e\\u003c/View\\u003e&quot;, &quot;assets&quot;: {&quot;4b5afab8dc&quot;: {&quot;src&quot;: &quot;data:application/vnd.apache.arrow+binary;base64,QVJST1cxAAD/////GAMAABAAAAAAAAoADgAGAAUACAAKAAAAAAEEABAAAAAAAAoADAAAAAQACAAKAAAALAIAAAQAAAABAAAADAAAAAgADAAEAAgACAAAAAgAAAAQAAAABgAAAHBhbmRhcwAA9wEAAHsiaW5kZXhfY29sdW1ucyI6IFtdLCAiY29sdW1uX2luZGV4ZXMiOiBbXSwgImNvbHVtbnMiOiBbeyJuYW1lIjogInByb2R1Y3RfY29kZSIsICJmaWVsZF9uYW1lIjogInByb2R1Y3RfY29kZSIsICJwYW5kYXNfdHlwZSI6ICJ1bmljb2RlIiwgIm51bXB5X3R5cGUiOiAic3RyaW5nIiwgIm1ldGFkYXRhIjogbnVsbH0sIHsibmFtZSI6ICJ0b3RhbF9zb2xkIiwgImZpZWxkX25hbWUiOiAidG90YWxfc29sZCIsICJwYW5kYXNfdHlwZSI6ICJ1aW50MzIiLCAibnVtcHlfdHlwZSI6ICJVSW50MzIiLCAibWV0YWRhdGEiOiBudWxsfSwgeyJuYW1lIjogInRvdGFsX3NhbGVzIiwgImZpZWxkX25hbWUiOiAidG90YWxfc2FsZXMiLCAicGFuZGFzX3R5cGUiOiAidWludDMyIiwgIm51bXB5X3R5cGUiOiAiVUludDMyIiwgIm1ldGFkYXRhIjogbnVsbH1dLCAiY3JlYXRvciI6IHsibGlicmFyeSI6ICJweWFycm93IiwgInZlcnNpb24iOiAiMTAuMC4xIn0sICJwYW5kYXNfdmVyc2lvbiI6ICIxLjUuMyJ9AAMAAACEAAAAOAAAAAQAAACY////AAABAhAAAAAcAAAABAAAAAAAAAALAAAAdG90YWxfc2FsZXMAzv///yAAAADI////AAABAhAAAAAkAAAABAAAAAAAAAAKAAAAdG90YWxfc29sZAAAAAAGAAgABAAGAAAAIAAAABAAFAAIAAYABwAMAAAAEAAQAAAAAAABBRAAAAAkAAAABAAAAAAAAAAMAAAAcHJvZHVjdF9jb2RlAAAAAAQABAAEAAAAAAAAAP/////4AAAAFAAAAAAAAAAMABYABgAFAAgADAAMAAAAAAMEABgAAACAAAAAAAAAAAAACgAYAAwABAAIAAoAAACMAAAAEAAAAAUAAAAAAAAAAAAAAAcAAAAAAAAAAAAAAAAAAAAAAAAAAAAAAAAAAAAYAAAAAAAAABgAAAAAAAAANwAAAAAAAABQAAAAAAAAAAAAAAAAAAAAUAAAAAAAAAAUAAAAAAAAAGgAAAAAAAAAAAAAAAAAAABoAAAAAAAAABQAAAAAAAAAAAAAAAMAAAAFAAAAAAAAAAAAAAAAAAAABQAAAAAAAAAAAAAAAAAAAAUAAAAAAAAAAAAAAAAAAAAAAAAACwAAABYAAAAhAAAALAAAADcAAABBNjcyMDE2MDEwM0E2ODE4MTYwMjAxQTIxMTgxNTAxMDZBMjExODE1MDEwNUEyMjE5MTUwMjAzAA5UFAA22BMAZ5ASAId5EgCfdxIAAAAAANGtXwDRrV8A0a1fANGtXwDRrV8AAAAAAP////8AAAAAEAAAAAwAFAAGAAgADAAQAAwAAAAAAAQAPAAAACgAAAAEAAAAAQAAACgDAAAAAAAAAAEAAAAAAACAAAAAAAAAAAAAAAAAAAAAAAAKAAwAAAAEAAgACgAAACwCAAAEAAAAAQAAAAwAAAAIAAwABAAIAAgAAAAIAAAAEAAAAAYAAABwYW5kYXMAAPcBAAB7ImluZGV4X2NvbHVtbnMiOiBbXSwgImNvbHVtbl9pbmRleGVzIjogW10sICJjb2x1bW5zIjogW3sibmFtZSI6ICJwcm9kdWN0X2NvZGUiLCAiZmllbGRfbmFtZSI6ICJwcm9kdWN0X2NvZGUiLCAicGFuZGFzX3R5cGUiOiAidW5pY29kZSIsICJudW1weV90eXBlIjogInN0cmluZyIsICJtZXRhZGF0YSI6IG51bGx9LCB7Im5hbWUiOiAidG90YWxfc29sZCIsICJmaWVsZF9uYW1lIjogInRvdGFsX3NvbGQiLCAicGFuZGFzX3R5cGUiOiAidWludDMyIiwgIm51bXB5X3R5cGUiOiAiVUludDMyIiwgIm1ldGFkYXRhIjogbnVsbH0sIHsibmFtZSI6ICJ0b3RhbF9zYWxlcyIsICJmaWVsZF9uYW1lIjogInRvdGFsX3NhbGVzIiwgInBhbmRhc190eXBlIjogInVpbnQzMiIsICJudW1weV90eXBlIjogIlVJbnQzMiIsICJtZXRhZGF0YSI6IG51bGx9XSwgImNyZWF0b3IiOiB7ImxpYnJhcnkiOiAicHlhcnJvdyIsICJ2ZXJzaW9uIjogIjEwLjAuMSJ9LCAicGFuZGFzX3ZlcnNpb24iOiAiMS41LjMifQADAAAAhAAAADgAAAAEAAAAmP///wAAAQIQAAAAHAAAAAQAAAAAAAAACwAAAHRvdGFsX3NhbGVzAM7///8gAAAAyP///wAAAQIQAAAAJAAAAAQAAAAAAAAACgAAAHRvdGFsX3NvbGQAAAAABgAIAAQABgAAACAAAAAQABQACAAGAAcADAAAABAAEAAAAAAAAQUQAAAAJAAAAAQAAAAAAAAADAAAAHByb2R1Y3RfY29kZQAAAAAEAAQABAAAAEADAABBUlJPVzE=&quot;, &quot;hash&quot;: &quot;4b5afab8dc&quot;, &quot;size&quot;: 2724, &quot;mime&quot;: &quot;application/vnd.apache.arrow+binary&quot;}}} }};\n",
              "  }\n",
              "&lt;/script&gt;\n",
              "&lt;script type=&quot;module&quot;&gt;\n",
              "  import { mountReport } from &quot;https://datapane-cdn.com/v0.17.0/report/index.es.js&quot;;\n",
              "  mountReport(window.reportProps);\n",
              "&lt;/script&gt;\n",
              "  &lt;/head&gt;\n",
              "  &lt;script&gt;\n",
              "    window.isIPythonEmbed = true;\n",
              "  &lt;/script&gt;\n",
              "  &lt;body&gt;\n",
              "    &lt;main class=&quot;max-w-screen-xl w-full mx-auto&quot;&gt;\n",
              "      &lt;div id=&quot;report&quot; class=&quot;w-full&quot;&gt;&lt;/div&gt;\n",
              "    &lt;/main&gt;\n",
              "    &lt;script src=&quot;https://datapane-cdn.com/v0.17.0/assets/iframeResizer.contentWindow.min.js&quot;&gt;&lt;/script&gt;\n",
              "  &lt;/body&gt;\n",
              "&lt;/html&gt;\n",
              "\" style=\"border: none\">\n",
              "</iframe>\n",
              "<script type=\"module\">\n",
              "  import { iframeResize } from \"https://datapane-cdn.com/v0.17.0/report/index.es.js\";\n",
              "  iframeResize({ log: true, checkOrigin: false }, \"#dp-484abb219b8141cd947c13f63f429c24\");\n",
              "</script>\n"
            ]
          },
          "metadata": {}
        }
      ]
    },
    {
      "cell_type": "code",
      "source": [
        "market_share = px.pie(market_share_df, names='product_code', values='total_sold', title='Market Share of Top Products')\n",
        "market_share.show()"
      ],
      "metadata": {
        "colab": {
          "base_uri": "https://localhost:8080/",
          "height": 542
        },
        "id": "xwA7sVT8QtBZ",
        "outputId": "62071f7f-0e61-4706-cc60-3a8855a2221c"
      },
      "execution_count": null,
      "outputs": [
        {
          "output_type": "display_data",
          "data": {
            "text/html": [
              "<html>\n",
              "<head><meta charset=\"utf-8\" /></head>\n",
              "<body>\n",
              "    <div>            <script src=\"https://cdnjs.cloudflare.com/ajax/libs/mathjax/2.7.5/MathJax.js?config=TeX-AMS-MML_SVG\"></script><script type=\"text/javascript\">if (window.MathJax && window.MathJax.Hub && window.MathJax.Hub.Config) {window.MathJax.Hub.Config({SVG: {font: \"STIX-Web\"}});}</script>                <script type=\"text/javascript\">window.PlotlyConfig = {MathJaxConfig: 'local'};</script>\n",
              "        <script charset=\"utf-8\" src=\"https://cdn.plot.ly/plotly-2.24.1.min.js\"></script>                <div id=\"ad9ebe27-d00c-4595-8ecf-7ffe58fb1097\" class=\"plotly-graph-div\" style=\"height:525px; width:100%;\"></div>            <script type=\"text/javascript\">                                    window.PLOTLYENV=window.PLOTLYENV || {};                                    if (document.getElementById(\"ad9ebe27-d00c-4595-8ecf-7ffe58fb1097\")) {                    Plotly.newPlot(                        \"ad9ebe27-d00c-4595-8ecf-7ffe58fb1097\",                        [{\"domain\":{\"x\":[0.0,1.0],\"y\":[0.0,1.0]},\"hovertemplate\":\"product_code=%{label}\\u003cbr\\u003etotal_sold=%{value}\\u003cextra\\u003e\\u003c\\u002fextra\\u003e\",\"labels\":[\"A6720160103\",\"A6818160201\",\"A2118150106\",\"A2118150105\",\"A2219150203\"],\"legendgroup\":\"\",\"name\":\"\",\"showlegend\":true,\"values\":[1332238.0,1300534.0,1216615.0,1210759.0,1210271.0],\"type\":\"pie\"}],                        {\"template\":{\"data\":{\"histogram2dcontour\":[{\"type\":\"histogram2dcontour\",\"colorbar\":{\"outlinewidth\":0,\"ticks\":\"\"},\"colorscale\":[[0.0,\"#0d0887\"],[0.1111111111111111,\"#46039f\"],[0.2222222222222222,\"#7201a8\"],[0.3333333333333333,\"#9c179e\"],[0.4444444444444444,\"#bd3786\"],[0.5555555555555556,\"#d8576b\"],[0.6666666666666666,\"#ed7953\"],[0.7777777777777778,\"#fb9f3a\"],[0.8888888888888888,\"#fdca26\"],[1.0,\"#f0f921\"]]}],\"choropleth\":[{\"type\":\"choropleth\",\"colorbar\":{\"outlinewidth\":0,\"ticks\":\"\"}}],\"histogram2d\":[{\"type\":\"histogram2d\",\"colorbar\":{\"outlinewidth\":0,\"ticks\":\"\"},\"colorscale\":[[0.0,\"#0d0887\"],[0.1111111111111111,\"#46039f\"],[0.2222222222222222,\"#7201a8\"],[0.3333333333333333,\"#9c179e\"],[0.4444444444444444,\"#bd3786\"],[0.5555555555555556,\"#d8576b\"],[0.6666666666666666,\"#ed7953\"],[0.7777777777777778,\"#fb9f3a\"],[0.8888888888888888,\"#fdca26\"],[1.0,\"#f0f921\"]]}],\"heatmap\":[{\"type\":\"heatmap\",\"colorbar\":{\"outlinewidth\":0,\"ticks\":\"\"},\"colorscale\":[[0.0,\"#0d0887\"],[0.1111111111111111,\"#46039f\"],[0.2222222222222222,\"#7201a8\"],[0.3333333333333333,\"#9c179e\"],[0.4444444444444444,\"#bd3786\"],[0.5555555555555556,\"#d8576b\"],[0.6666666666666666,\"#ed7953\"],[0.7777777777777778,\"#fb9f3a\"],[0.8888888888888888,\"#fdca26\"],[1.0,\"#f0f921\"]]}],\"heatmapgl\":[{\"type\":\"heatmapgl\",\"colorbar\":{\"outlinewidth\":0,\"ticks\":\"\"},\"colorscale\":[[0.0,\"#0d0887\"],[0.1111111111111111,\"#46039f\"],[0.2222222222222222,\"#7201a8\"],[0.3333333333333333,\"#9c179e\"],[0.4444444444444444,\"#bd3786\"],[0.5555555555555556,\"#d8576b\"],[0.6666666666666666,\"#ed7953\"],[0.7777777777777778,\"#fb9f3a\"],[0.8888888888888888,\"#fdca26\"],[1.0,\"#f0f921\"]]}],\"contourcarpet\":[{\"type\":\"contourcarpet\",\"colorbar\":{\"outlinewidth\":0,\"ticks\":\"\"}}],\"contour\":[{\"type\":\"contour\",\"colorbar\":{\"outlinewidth\":0,\"ticks\":\"\"},\"colorscale\":[[0.0,\"#0d0887\"],[0.1111111111111111,\"#46039f\"],[0.2222222222222222,\"#7201a8\"],[0.3333333333333333,\"#9c179e\"],[0.4444444444444444,\"#bd3786\"],[0.5555555555555556,\"#d8576b\"],[0.6666666666666666,\"#ed7953\"],[0.7777777777777778,\"#fb9f3a\"],[0.8888888888888888,\"#fdca26\"],[1.0,\"#f0f921\"]]}],\"surface\":[{\"type\":\"surface\",\"colorbar\":{\"outlinewidth\":0,\"ticks\":\"\"},\"colorscale\":[[0.0,\"#0d0887\"],[0.1111111111111111,\"#46039f\"],[0.2222222222222222,\"#7201a8\"],[0.3333333333333333,\"#9c179e\"],[0.4444444444444444,\"#bd3786\"],[0.5555555555555556,\"#d8576b\"],[0.6666666666666666,\"#ed7953\"],[0.7777777777777778,\"#fb9f3a\"],[0.8888888888888888,\"#fdca26\"],[1.0,\"#f0f921\"]]}],\"mesh3d\":[{\"type\":\"mesh3d\",\"colorbar\":{\"outlinewidth\":0,\"ticks\":\"\"}}],\"scatter\":[{\"fillpattern\":{\"fillmode\":\"overlay\",\"size\":10,\"solidity\":0.2},\"type\":\"scatter\"}],\"parcoords\":[{\"type\":\"parcoords\",\"line\":{\"colorbar\":{\"outlinewidth\":0,\"ticks\":\"\"}}}],\"scatterpolargl\":[{\"type\":\"scatterpolargl\",\"marker\":{\"colorbar\":{\"outlinewidth\":0,\"ticks\":\"\"}}}],\"bar\":[{\"error_x\":{\"color\":\"#2a3f5f\"},\"error_y\":{\"color\":\"#2a3f5f\"},\"marker\":{\"line\":{\"color\":\"#E5ECF6\",\"width\":0.5},\"pattern\":{\"fillmode\":\"overlay\",\"size\":10,\"solidity\":0.2}},\"type\":\"bar\"}],\"scattergeo\":[{\"type\":\"scattergeo\",\"marker\":{\"colorbar\":{\"outlinewidth\":0,\"ticks\":\"\"}}}],\"scatterpolar\":[{\"type\":\"scatterpolar\",\"marker\":{\"colorbar\":{\"outlinewidth\":0,\"ticks\":\"\"}}}],\"histogram\":[{\"marker\":{\"pattern\":{\"fillmode\":\"overlay\",\"size\":10,\"solidity\":0.2}},\"type\":\"histogram\"}],\"scattergl\":[{\"type\":\"scattergl\",\"marker\":{\"colorbar\":{\"outlinewidth\":0,\"ticks\":\"\"}}}],\"scatter3d\":[{\"type\":\"scatter3d\",\"line\":{\"colorbar\":{\"outlinewidth\":0,\"ticks\":\"\"}},\"marker\":{\"colorbar\":{\"outlinewidth\":0,\"ticks\":\"\"}}}],\"scattermapbox\":[{\"type\":\"scattermapbox\",\"marker\":{\"colorbar\":{\"outlinewidth\":0,\"ticks\":\"\"}}}],\"scatterternary\":[{\"type\":\"scatterternary\",\"marker\":{\"colorbar\":{\"outlinewidth\":0,\"ticks\":\"\"}}}],\"scattercarpet\":[{\"type\":\"scattercarpet\",\"marker\":{\"colorbar\":{\"outlinewidth\":0,\"ticks\":\"\"}}}],\"carpet\":[{\"aaxis\":{\"endlinecolor\":\"#2a3f5f\",\"gridcolor\":\"white\",\"linecolor\":\"white\",\"minorgridcolor\":\"white\",\"startlinecolor\":\"#2a3f5f\"},\"baxis\":{\"endlinecolor\":\"#2a3f5f\",\"gridcolor\":\"white\",\"linecolor\":\"white\",\"minorgridcolor\":\"white\",\"startlinecolor\":\"#2a3f5f\"},\"type\":\"carpet\"}],\"table\":[{\"cells\":{\"fill\":{\"color\":\"#EBF0F8\"},\"line\":{\"color\":\"white\"}},\"header\":{\"fill\":{\"color\":\"#C8D4E3\"},\"line\":{\"color\":\"white\"}},\"type\":\"table\"}],\"barpolar\":[{\"marker\":{\"line\":{\"color\":\"#E5ECF6\",\"width\":0.5},\"pattern\":{\"fillmode\":\"overlay\",\"size\":10,\"solidity\":0.2}},\"type\":\"barpolar\"}],\"pie\":[{\"automargin\":true,\"type\":\"pie\"}]},\"layout\":{\"autotypenumbers\":\"strict\",\"colorway\":[\"#636efa\",\"#EF553B\",\"#00cc96\",\"#ab63fa\",\"#FFA15A\",\"#19d3f3\",\"#FF6692\",\"#B6E880\",\"#FF97FF\",\"#FECB52\"],\"font\":{\"color\":\"#2a3f5f\"},\"hovermode\":\"closest\",\"hoverlabel\":{\"align\":\"left\"},\"paper_bgcolor\":\"white\",\"plot_bgcolor\":\"#E5ECF6\",\"polar\":{\"bgcolor\":\"#E5ECF6\",\"angularaxis\":{\"gridcolor\":\"white\",\"linecolor\":\"white\",\"ticks\":\"\"},\"radialaxis\":{\"gridcolor\":\"white\",\"linecolor\":\"white\",\"ticks\":\"\"}},\"ternary\":{\"bgcolor\":\"#E5ECF6\",\"aaxis\":{\"gridcolor\":\"white\",\"linecolor\":\"white\",\"ticks\":\"\"},\"baxis\":{\"gridcolor\":\"white\",\"linecolor\":\"white\",\"ticks\":\"\"},\"caxis\":{\"gridcolor\":\"white\",\"linecolor\":\"white\",\"ticks\":\"\"}},\"coloraxis\":{\"colorbar\":{\"outlinewidth\":0,\"ticks\":\"\"}},\"colorscale\":{\"sequential\":[[0.0,\"#0d0887\"],[0.1111111111111111,\"#46039f\"],[0.2222222222222222,\"#7201a8\"],[0.3333333333333333,\"#9c179e\"],[0.4444444444444444,\"#bd3786\"],[0.5555555555555556,\"#d8576b\"],[0.6666666666666666,\"#ed7953\"],[0.7777777777777778,\"#fb9f3a\"],[0.8888888888888888,\"#fdca26\"],[1.0,\"#f0f921\"]],\"sequentialminus\":[[0.0,\"#0d0887\"],[0.1111111111111111,\"#46039f\"],[0.2222222222222222,\"#7201a8\"],[0.3333333333333333,\"#9c179e\"],[0.4444444444444444,\"#bd3786\"],[0.5555555555555556,\"#d8576b\"],[0.6666666666666666,\"#ed7953\"],[0.7777777777777778,\"#fb9f3a\"],[0.8888888888888888,\"#fdca26\"],[1.0,\"#f0f921\"]],\"diverging\":[[0,\"#8e0152\"],[0.1,\"#c51b7d\"],[0.2,\"#de77ae\"],[0.3,\"#f1b6da\"],[0.4,\"#fde0ef\"],[0.5,\"#f7f7f7\"],[0.6,\"#e6f5d0\"],[0.7,\"#b8e186\"],[0.8,\"#7fbc41\"],[0.9,\"#4d9221\"],[1,\"#276419\"]]},\"xaxis\":{\"gridcolor\":\"white\",\"linecolor\":\"white\",\"ticks\":\"\",\"title\":{\"standoff\":15},\"zerolinecolor\":\"white\",\"automargin\":true,\"zerolinewidth\":2},\"yaxis\":{\"gridcolor\":\"white\",\"linecolor\":\"white\",\"ticks\":\"\",\"title\":{\"standoff\":15},\"zerolinecolor\":\"white\",\"automargin\":true,\"zerolinewidth\":2},\"scene\":{\"xaxis\":{\"backgroundcolor\":\"#E5ECF6\",\"gridcolor\":\"white\",\"linecolor\":\"white\",\"showbackground\":true,\"ticks\":\"\",\"zerolinecolor\":\"white\",\"gridwidth\":2},\"yaxis\":{\"backgroundcolor\":\"#E5ECF6\",\"gridcolor\":\"white\",\"linecolor\":\"white\",\"showbackground\":true,\"ticks\":\"\",\"zerolinecolor\":\"white\",\"gridwidth\":2},\"zaxis\":{\"backgroundcolor\":\"#E5ECF6\",\"gridcolor\":\"white\",\"linecolor\":\"white\",\"showbackground\":true,\"ticks\":\"\",\"zerolinecolor\":\"white\",\"gridwidth\":2}},\"shapedefaults\":{\"line\":{\"color\":\"#2a3f5f\"}},\"annotationdefaults\":{\"arrowcolor\":\"#2a3f5f\",\"arrowhead\":0,\"arrowwidth\":1},\"geo\":{\"bgcolor\":\"white\",\"landcolor\":\"#E5ECF6\",\"subunitcolor\":\"white\",\"showland\":true,\"showlakes\":true,\"lakecolor\":\"white\"},\"title\":{\"x\":0.05},\"mapbox\":{\"style\":\"light\"}}},\"legend\":{\"tracegroupgap\":0},\"title\":{\"text\":\"Market Share of Top Products\"}},                        {\"responsive\": true}                    ).then(function(){\n",
              "                            \n",
              "var gd = document.getElementById('ad9ebe27-d00c-4595-8ecf-7ffe58fb1097');\n",
              "var x = new MutationObserver(function (mutations, observer) {{\n",
              "        var display = window.getComputedStyle(gd).display;\n",
              "        if (!display || display === 'none') {{\n",
              "            console.log([gd, 'removed!']);\n",
              "            Plotly.purge(gd);\n",
              "            observer.disconnect();\n",
              "        }}\n",
              "}});\n",
              "\n",
              "// Listen for the removal of the full notebook cells\n",
              "var notebookContainer = gd.closest('#notebook-container');\n",
              "if (notebookContainer) {{\n",
              "    x.observe(notebookContainer, {childList: true});\n",
              "}}\n",
              "\n",
              "// Listen for the clearing of the current output cell\n",
              "var outputEl = gd.closest('.output');\n",
              "if (outputEl) {{\n",
              "    x.observe(outputEl, {childList: true});\n",
              "}}\n",
              "\n",
              "                        })                };                            </script>        </div>\n",
              "</body>\n",
              "</html>"
            ]
          },
          "metadata": {}
        }
      ]
    },
    {
      "cell_type": "markdown",
      "source": [
        "Pie chart - Top 3 Customers by Purchases:"
      ],
      "metadata": {
        "id": "am4zPSx-e1r3"
      }
    },
    {
      "cell_type": "code",
      "source": [
        "Top_3_Customers_by_Purchases_query=\"\"\"\n",
        "SELECT customer_code, customer_name, SUM(sold_quantity) AS total_purchases\n",
        "FROM gdb041.fact_sales_monthly\n",
        "WHERE YEAR(date) = YEAR('2020-01-01 00:00:00')\n",
        "GROUP BY customer_code, customer_name\n",
        "ORDER BY total_purchases DESC\n",
        "LIMIT 3;\n",
        "\"\"\"\n",
        "\n",
        "top_purchases_df=run_query(Top_3_Customers_by_Purchases_query)\n",
        "\n",
        "dp.DataTable(top_purchases_df)"
      ],
      "metadata": {
        "colab": {
          "base_uri": "https://localhost:8080/",
          "height": 503
        },
        "id": "iv_s-NXFe3Lr",
        "outputId": "54a3db57-4ba3-4a95-9814-a4b3b0873742"
      },
      "execution_count": null,
      "outputs": [
        {
          "output_type": "display_data",
          "data": {
            "text/plain": [
              "<IPython.core.display.HTML object>"
            ],
            "text/html": [
              "<style>\n",
              "  #dp-16330da72f564a918507f7af79f9a87d {\n",
              "    width: 1px;\n",
              "    min-width: 100%;\n",
              "  }\n",
              "</style>\n",
              "<iframe id=\"dp-16330da72f564a918507f7af79f9a87d\" srcdoc=\"&lt;!DOCTYPE html&gt;\n",
              "&lt;html lang=&quot;en&quot;&gt;\n",
              "  &lt;head&gt;\n",
              "&lt;meta charset=&quot;UTF-8&quot; /&gt;\n",
              "\n",
              "&lt;link rel=&quot;shortcut icon&quot; type=&quot;image/png&quot; href=&quot;https://datapane-cdn.com/static/v1/datapane-icon-192x192.png&quot;/&gt;\n",
              "&lt;link rel=&quot;shortcut icon&quot; sizes=&quot;192x192&quot; href=&quot;https://datapane-cdn.com/static/v1/datapane-icon-192x192.png&quot;/&gt;\n",
              "&lt;link rel=&quot;apple-touch-icon&quot; href=&quot;https://datapane-cdn.com/static/v1/datapane-icon-192x192.png&quot;/&gt;\n",
              "\n",
              "&lt;script src=&quot;https://kit.fontawesome.com/256c714d9a.js&quot;&gt;&lt;/script&gt;\n",
              "&lt;link\n",
              "  href=&quot;https://fonts.googleapis.com/css?family=Inter:400,500,600,700|Inconsolata|Karla|Rubik&amp;display=swap&quot;\n",
              "  rel=&quot;stylesheet&quot;\n",
              "/&gt;\n",
              "&lt;link rel=&quot;stylesheet&quot; href=&quot;https://datapane-cdn.com/v0.17.0/report/index.css&quot; /&gt;\n",
              "&lt;link rel=&quot;stylesheet&quot; href=&quot;https://datapane-cdn.com/v0.17.0/report/tailwind.css&quot; /&gt;\n",
              "&lt;script&gt;\n",
              "  // analytics config\n",
              "  // TODO -- pass these in as props for consistency?\n",
              "  window.dpAppRunner = false;\n",
              "  window.dpLocal = true;\n",
              "\n",
              "  /* construct the view */\n",
              "  const htmlHeader = `&lt;style type=&quot;text/css&quot;&gt;:root {\n",
              "    --dp-accent-color: #4E46E5;\n",
              "    --dp-bg-color: #FFF;\n",
              "    --dp-text-align: left;\n",
              "    --dp-font-family: Inter, ui-sans-serif, system-ui;\n",
              "}&lt;/style&gt;`;\n",
              "  window.reportProps = { htmlHeader, isLightProse: false, isOrg: false, mode: &quot;VIEW&quot;, reportWidthClass: &quot;max-w-screen-xl&quot; };\n",
              "\n",
              "  if (!window.dpAppRunner) {\n",
              "      // pass app data via props if in local (static) mode, otherwise this data is fetched from the server\n",
              "      window.reportProps[&quot;appData&quot;] = { data: { result: {&quot;view_xml&quot;: &quot;\\u003cView version=\\&quot;1\\&quot; fragment=\\&quot;false\\&quot;\\u003e\\u003cDataTable type=\\&quot;application/vnd.apache.arrow+binary\\&quot; rows=\\&quot;3\\&quot; columns=\\&quot;3\\&quot; schema=\\&quot;[]\\&quot; src=\\&quot;ref://35df41bbef\\&quot;/\\u003e\\u003c/View\\u003e&quot;, &quot;assets&quot;: {&quot;35df41bbef&quot;: {&quot;src&quot;: &quot;data:application/vnd.apache.arrow+binary;base64,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&quot;, &quot;hash&quot;: &quot;35df41bbef&quot;, &quot;size&quot;: 2756, &quot;mime&quot;: &quot;application/vnd.apache.arrow+binary&quot;}}} }};\n",
              "  }\n",
              "&lt;/script&gt;\n",
              "&lt;script type=&quot;module&quot;&gt;\n",
              "  import { mountReport } from &quot;https://datapane-cdn.com/v0.17.0/report/index.es.js&quot;;\n",
              "  mountReport(window.reportProps);\n",
              "&lt;/script&gt;\n",
              "  &lt;/head&gt;\n",
              "  &lt;script&gt;\n",
              "    window.isIPythonEmbed = true;\n",
              "  &lt;/script&gt;\n",
              "  &lt;body&gt;\n",
              "    &lt;main class=&quot;max-w-screen-xl w-full mx-auto&quot;&gt;\n",
              "      &lt;div id=&quot;report&quot; class=&quot;w-full&quot;&gt;&lt;/div&gt;\n",
              "    &lt;/main&gt;\n",
              "    &lt;script src=&quot;https://datapane-cdn.com/v0.17.0/assets/iframeResizer.contentWindow.min.js&quot;&gt;&lt;/script&gt;\n",
              "  &lt;/body&gt;\n",
              "&lt;/html&gt;\n",
              "\" style=\"border: none\">\n",
              "</iframe>\n",
              "<script type=\"module\">\n",
              "  import { iframeResize } from \"https://datapane-cdn.com/v0.17.0/report/index.es.js\";\n",
              "  iframeResize({ log: true, checkOrigin: false }, \"#dp-16330da72f564a918507f7af79f9a87d\");\n",
              "</script>\n"
            ]
          },
          "metadata": {}
        }
      ]
    },
    {
      "cell_type": "code",
      "source": [
        "top_3_purchases = px.pie(top_purchases_df, names='customer_name', values='total_purchases', title='Top 3 Customers by Purchases')\n",
        "top_3_purchases.show()"
      ],
      "metadata": {
        "colab": {
          "base_uri": "https://localhost:8080/",
          "height": 542
        },
        "id": "8heBqHnWjkHd",
        "outputId": "122cfc8d-45c1-4881-ce38-069062a12030"
      },
      "execution_count": null,
      "outputs": [
        {
          "output_type": "display_data",
          "data": {
            "text/html": [
              "<html>\n",
              "<head><meta charset=\"utf-8\" /></head>\n",
              "<body>\n",
              "    <div>            <script src=\"https://cdnjs.cloudflare.com/ajax/libs/mathjax/2.7.5/MathJax.js?config=TeX-AMS-MML_SVG\"></script><script type=\"text/javascript\">if (window.MathJax && window.MathJax.Hub && window.MathJax.Hub.Config) {window.MathJax.Hub.Config({SVG: {font: \"STIX-Web\"}});}</script>                <script type=\"text/javascript\">window.PlotlyConfig = {MathJaxConfig: 'local'};</script>\n",
              "        <script charset=\"utf-8\" src=\"https://cdn.plot.ly/plotly-2.24.1.min.js\"></script>                <div id=\"e2d21ac4-0c2d-4a8e-b746-573bed2bc9af\" class=\"plotly-graph-div\" style=\"height:525px; width:100%;\"></div>            <script type=\"text/javascript\">                                    window.PLOTLYENV=window.PLOTLYENV || {};                                    if (document.getElementById(\"e2d21ac4-0c2d-4a8e-b746-573bed2bc9af\")) {                    Plotly.newPlot(                        \"e2d21ac4-0c2d-4a8e-b746-573bed2bc9af\",                        [{\"domain\":{\"x\":[0.0,1.0],\"y\":[0.0,1.0]},\"hovertemplate\":\"customer_name=%{label}\\u003cbr\\u003etotal_purchases=%{value}\\u003cextra\\u003e\\u003c\\u002fextra\\u003e\",\"labels\":[\"Amazon\",\"Leader\",\"Sage\"],\"legendgroup\":\"\",\"name\":\"\",\"showlegend\":true,\"values\":[920493.0,915305.0,862120.0],\"type\":\"pie\"}],                        {\"template\":{\"data\":{\"histogram2dcontour\":[{\"type\":\"histogram2dcontour\",\"colorbar\":{\"outlinewidth\":0,\"ticks\":\"\"},\"colorscale\":[[0.0,\"#0d0887\"],[0.1111111111111111,\"#46039f\"],[0.2222222222222222,\"#7201a8\"],[0.3333333333333333,\"#9c179e\"],[0.4444444444444444,\"#bd3786\"],[0.5555555555555556,\"#d8576b\"],[0.6666666666666666,\"#ed7953\"],[0.7777777777777778,\"#fb9f3a\"],[0.8888888888888888,\"#fdca26\"],[1.0,\"#f0f921\"]]}],\"choropleth\":[{\"type\":\"choropleth\",\"colorbar\":{\"outlinewidth\":0,\"ticks\":\"\"}}],\"histogram2d\":[{\"type\":\"histogram2d\",\"colorbar\":{\"outlinewidth\":0,\"ticks\":\"\"},\"colorscale\":[[0.0,\"#0d0887\"],[0.1111111111111111,\"#46039f\"],[0.2222222222222222,\"#7201a8\"],[0.3333333333333333,\"#9c179e\"],[0.4444444444444444,\"#bd3786\"],[0.5555555555555556,\"#d8576b\"],[0.6666666666666666,\"#ed7953\"],[0.7777777777777778,\"#fb9f3a\"],[0.8888888888888888,\"#fdca26\"],[1.0,\"#f0f921\"]]}],\"heatmap\":[{\"type\":\"heatmap\",\"colorbar\":{\"outlinewidth\":0,\"ticks\":\"\"},\"colorscale\":[[0.0,\"#0d0887\"],[0.1111111111111111,\"#46039f\"],[0.2222222222222222,\"#7201a8\"],[0.3333333333333333,\"#9c179e\"],[0.4444444444444444,\"#bd3786\"],[0.5555555555555556,\"#d8576b\"],[0.6666666666666666,\"#ed7953\"],[0.7777777777777778,\"#fb9f3a\"],[0.8888888888888888,\"#fdca26\"],[1.0,\"#f0f921\"]]}],\"heatmapgl\":[{\"type\":\"heatmapgl\",\"colorbar\":{\"outlinewidth\":0,\"ticks\":\"\"},\"colorscale\":[[0.0,\"#0d0887\"],[0.1111111111111111,\"#46039f\"],[0.2222222222222222,\"#7201a8\"],[0.3333333333333333,\"#9c179e\"],[0.4444444444444444,\"#bd3786\"],[0.5555555555555556,\"#d8576b\"],[0.6666666666666666,\"#ed7953\"],[0.7777777777777778,\"#fb9f3a\"],[0.8888888888888888,\"#fdca26\"],[1.0,\"#f0f921\"]]}],\"contourcarpet\":[{\"type\":\"contourcarpet\",\"colorbar\":{\"outlinewidth\":0,\"ticks\":\"\"}}],\"contour\":[{\"type\":\"contour\",\"colorbar\":{\"outlinewidth\":0,\"ticks\":\"\"},\"colorscale\":[[0.0,\"#0d0887\"],[0.1111111111111111,\"#46039f\"],[0.2222222222222222,\"#7201a8\"],[0.3333333333333333,\"#9c179e\"],[0.4444444444444444,\"#bd3786\"],[0.5555555555555556,\"#d8576b\"],[0.6666666666666666,\"#ed7953\"],[0.7777777777777778,\"#fb9f3a\"],[0.8888888888888888,\"#fdca26\"],[1.0,\"#f0f921\"]]}],\"surface\":[{\"type\":\"surface\",\"colorbar\":{\"outlinewidth\":0,\"ticks\":\"\"},\"colorscale\":[[0.0,\"#0d0887\"],[0.1111111111111111,\"#46039f\"],[0.2222222222222222,\"#7201a8\"],[0.3333333333333333,\"#9c179e\"],[0.4444444444444444,\"#bd3786\"],[0.5555555555555556,\"#d8576b\"],[0.6666666666666666,\"#ed7953\"],[0.7777777777777778,\"#fb9f3a\"],[0.8888888888888888,\"#fdca26\"],[1.0,\"#f0f921\"]]}],\"mesh3d\":[{\"type\":\"mesh3d\",\"colorbar\":{\"outlinewidth\":0,\"ticks\":\"\"}}],\"scatter\":[{\"fillpattern\":{\"fillmode\":\"overlay\",\"size\":10,\"solidity\":0.2},\"type\":\"scatter\"}],\"parcoords\":[{\"type\":\"parcoords\",\"line\":{\"colorbar\":{\"outlinewidth\":0,\"ticks\":\"\"}}}],\"scatterpolargl\":[{\"type\":\"scatterpolargl\",\"marker\":{\"colorbar\":{\"outlinewidth\":0,\"ticks\":\"\"}}}],\"bar\":[{\"error_x\":{\"color\":\"#2a3f5f\"},\"error_y\":{\"color\":\"#2a3f5f\"},\"marker\":{\"line\":{\"color\":\"#E5ECF6\",\"width\":0.5},\"pattern\":{\"fillmode\":\"overlay\",\"size\":10,\"solidity\":0.2}},\"type\":\"bar\"}],\"scattergeo\":[{\"type\":\"scattergeo\",\"marker\":{\"colorbar\":{\"outlinewidth\":0,\"ticks\":\"\"}}}],\"scatterpolar\":[{\"type\":\"scatterpolar\",\"marker\":{\"colorbar\":{\"outlinewidth\":0,\"ticks\":\"\"}}}],\"histogram\":[{\"marker\":{\"pattern\":{\"fillmode\":\"overlay\",\"size\":10,\"solidity\":0.2}},\"type\":\"histogram\"}],\"scattergl\":[{\"type\":\"scattergl\",\"marker\":{\"colorbar\":{\"outlinewidth\":0,\"ticks\":\"\"}}}],\"scatter3d\":[{\"type\":\"scatter3d\",\"line\":{\"colorbar\":{\"outlinewidth\":0,\"ticks\":\"\"}},\"marker\":{\"colorbar\":{\"outlinewidth\":0,\"ticks\":\"\"}}}],\"scattermapbox\":[{\"type\":\"scattermapbox\",\"marker\":{\"colorbar\":{\"outlinewidth\":0,\"ticks\":\"\"}}}],\"scatterternary\":[{\"type\":\"scatterternary\",\"marker\":{\"colorbar\":{\"outlinewidth\":0,\"ticks\":\"\"}}}],\"scattercarpet\":[{\"type\":\"scattercarpet\",\"marker\":{\"colorbar\":{\"outlinewidth\":0,\"ticks\":\"\"}}}],\"carpet\":[{\"aaxis\":{\"endlinecolor\":\"#2a3f5f\",\"gridcolor\":\"white\",\"linecolor\":\"white\",\"minorgridcolor\":\"white\",\"startlinecolor\":\"#2a3f5f\"},\"baxis\":{\"endlinecolor\":\"#2a3f5f\",\"gridcolor\":\"white\",\"linecolor\":\"white\",\"minorgridcolor\":\"white\",\"startlinecolor\":\"#2a3f5f\"},\"type\":\"carpet\"}],\"table\":[{\"cells\":{\"fill\":{\"color\":\"#EBF0F8\"},\"line\":{\"color\":\"white\"}},\"header\":{\"fill\":{\"color\":\"#C8D4E3\"},\"line\":{\"color\":\"white\"}},\"type\":\"table\"}],\"barpolar\":[{\"marker\":{\"line\":{\"color\":\"#E5ECF6\",\"width\":0.5},\"pattern\":{\"fillmode\":\"overlay\",\"size\":10,\"solidity\":0.2}},\"type\":\"barpolar\"}],\"pie\":[{\"automargin\":true,\"type\":\"pie\"}]},\"layout\":{\"autotypenumbers\":\"strict\",\"colorway\":[\"#636efa\",\"#EF553B\",\"#00cc96\",\"#ab63fa\",\"#FFA15A\",\"#19d3f3\",\"#FF6692\",\"#B6E880\",\"#FF97FF\",\"#FECB52\"],\"font\":{\"color\":\"#2a3f5f\"},\"hovermode\":\"closest\",\"hoverlabel\":{\"align\":\"left\"},\"paper_bgcolor\":\"white\",\"plot_bgcolor\":\"#E5ECF6\",\"polar\":{\"bgcolor\":\"#E5ECF6\",\"angularaxis\":{\"gridcolor\":\"white\",\"linecolor\":\"white\",\"ticks\":\"\"},\"radialaxis\":{\"gridcolor\":\"white\",\"linecolor\":\"white\",\"ticks\":\"\"}},\"ternary\":{\"bgcolor\":\"#E5ECF6\",\"aaxis\":{\"gridcolor\":\"white\",\"linecolor\":\"white\",\"ticks\":\"\"},\"baxis\":{\"gridcolor\":\"white\",\"linecolor\":\"white\",\"ticks\":\"\"},\"caxis\":{\"gridcolor\":\"white\",\"linecolor\":\"white\",\"ticks\":\"\"}},\"coloraxis\":{\"colorbar\":{\"outlinewidth\":0,\"ticks\":\"\"}},\"colorscale\":{\"sequential\":[[0.0,\"#0d0887\"],[0.1111111111111111,\"#46039f\"],[0.2222222222222222,\"#7201a8\"],[0.3333333333333333,\"#9c179e\"],[0.4444444444444444,\"#bd3786\"],[0.5555555555555556,\"#d8576b\"],[0.6666666666666666,\"#ed7953\"],[0.7777777777777778,\"#fb9f3a\"],[0.8888888888888888,\"#fdca26\"],[1.0,\"#f0f921\"]],\"sequentialminus\":[[0.0,\"#0d0887\"],[0.1111111111111111,\"#46039f\"],[0.2222222222222222,\"#7201a8\"],[0.3333333333333333,\"#9c179e\"],[0.4444444444444444,\"#bd3786\"],[0.5555555555555556,\"#d8576b\"],[0.6666666666666666,\"#ed7953\"],[0.7777777777777778,\"#fb9f3a\"],[0.8888888888888888,\"#fdca26\"],[1.0,\"#f0f921\"]],\"diverging\":[[0,\"#8e0152\"],[0.1,\"#c51b7d\"],[0.2,\"#de77ae\"],[0.3,\"#f1b6da\"],[0.4,\"#fde0ef\"],[0.5,\"#f7f7f7\"],[0.6,\"#e6f5d0\"],[0.7,\"#b8e186\"],[0.8,\"#7fbc41\"],[0.9,\"#4d9221\"],[1,\"#276419\"]]},\"xaxis\":{\"gridcolor\":\"white\",\"linecolor\":\"white\",\"ticks\":\"\",\"title\":{\"standoff\":15},\"zerolinecolor\":\"white\",\"automargin\":true,\"zerolinewidth\":2},\"yaxis\":{\"gridcolor\":\"white\",\"linecolor\":\"white\",\"ticks\":\"\",\"title\":{\"standoff\":15},\"zerolinecolor\":\"white\",\"automargin\":true,\"zerolinewidth\":2},\"scene\":{\"xaxis\":{\"backgroundcolor\":\"#E5ECF6\",\"gridcolor\":\"white\",\"linecolor\":\"white\",\"showbackground\":true,\"ticks\":\"\",\"zerolinecolor\":\"white\",\"gridwidth\":2},\"yaxis\":{\"backgroundcolor\":\"#E5ECF6\",\"gridcolor\":\"white\",\"linecolor\":\"white\",\"showbackground\":true,\"ticks\":\"\",\"zerolinecolor\":\"white\",\"gridwidth\":2},\"zaxis\":{\"backgroundcolor\":\"#E5ECF6\",\"gridcolor\":\"white\",\"linecolor\":\"white\",\"showbackground\":true,\"ticks\":\"\",\"zerolinecolor\":\"white\",\"gridwidth\":2}},\"shapedefaults\":{\"line\":{\"color\":\"#2a3f5f\"}},\"annotationdefaults\":{\"arrowcolor\":\"#2a3f5f\",\"arrowhead\":0,\"arrowwidth\":1},\"geo\":{\"bgcolor\":\"white\",\"landcolor\":\"#E5ECF6\",\"subunitcolor\":\"white\",\"showland\":true,\"showlakes\":true,\"lakecolor\":\"white\"},\"title\":{\"x\":0.05},\"mapbox\":{\"style\":\"light\"}}},\"legend\":{\"tracegroupgap\":0},\"title\":{\"text\":\"Top 3 Customers by Purchases\"}},                        {\"responsive\": true}                    ).then(function(){\n",
              "                            \n",
              "var gd = document.getElementById('e2d21ac4-0c2d-4a8e-b746-573bed2bc9af');\n",
              "var x = new MutationObserver(function (mutations, observer) {{\n",
              "        var display = window.getComputedStyle(gd).display;\n",
              "        if (!display || display === 'none') {{\n",
              "            console.log([gd, 'removed!']);\n",
              "            Plotly.purge(gd);\n",
              "            observer.disconnect();\n",
              "        }}\n",
              "}});\n",
              "\n",
              "// Listen for the removal of the full notebook cells\n",
              "var notebookContainer = gd.closest('#notebook-container');\n",
              "if (notebookContainer) {{\n",
              "    x.observe(notebookContainer, {childList: true});\n",
              "}}\n",
              "\n",
              "// Listen for the clearing of the current output cell\n",
              "var outputEl = gd.closest('.output');\n",
              "if (outputEl) {{\n",
              "    x.observe(outputEl, {childList: true});\n",
              "}}\n",
              "\n",
              "                        })                };                            </script>        </div>\n",
              "</body>\n",
              "</html>"
            ]
          },
          "metadata": {}
        }
      ]
    },
    {
      "cell_type": "markdown",
      "source": [
        "Time Series - Sales Trends Over Time:"
      ],
      "metadata": {
        "id": "hCJlTzx1knsq"
      }
    },
    {
      "cell_type": "code",
      "source": [
        "Sales_Trends_Over_Time_query=\"\"\"\n",
        "SELECT date, SUM(sold_quantity) AS total_quantity_sold\n",
        "FROM fact_sales_monthly\n",
        "GROUP BY date\n",
        "ORDER BY date;\n",
        "\"\"\"\n",
        "\n",
        "sales_df=run_query(Sales_Trends_Over_Time_query)\n",
        "\n",
        "dp.DataTable(sales_df)"
      ],
      "metadata": {
        "colab": {
          "base_uri": "https://localhost:8080/",
          "height": 503
        },
        "id": "_nYMNeEHko8T",
        "outputId": "a9f70e8e-70e1-45a8-eaec-5624a2179a5a"
      },
      "execution_count": null,
      "outputs": [
        {
          "output_type": "display_data",
          "data": {
            "text/plain": [
              "<IPython.core.display.HTML object>"
            ],
            "text/html": [
              "<style>\n",
              "  #dp-75b7b5fdde0d4daea3a3a5adb3c6537e {\n",
              "    width: 1px;\n",
              "    min-width: 100%;\n",
              "  }\n",
              "</style>\n",
              "<iframe id=\"dp-75b7b5fdde0d4daea3a3a5adb3c6537e\" srcdoc=\"&lt;!DOCTYPE html&gt;\n",
              "&lt;html lang=&quot;en&quot;&gt;\n",
              "  &lt;head&gt;\n",
              "&lt;meta charset=&quot;UTF-8&quot; /&gt;\n",
              "\n",
              "&lt;link rel=&quot;shortcut icon&quot; type=&quot;image/png&quot; href=&quot;https://datapane-cdn.com/static/v1/datapane-icon-192x192.png&quot;/&gt;\n",
              "&lt;link rel=&quot;shortcut icon&quot; sizes=&quot;192x192&quot; href=&quot;https://datapane-cdn.com/static/v1/datapane-icon-192x192.png&quot;/&gt;\n",
              "&lt;link rel=&quot;apple-touch-icon&quot; href=&quot;https://datapane-cdn.com/static/v1/datapane-icon-192x192.png&quot;/&gt;\n",
              "\n",
              "&lt;script src=&quot;https://kit.fontawesome.com/256c714d9a.js&quot;&gt;&lt;/script&gt;\n",
              "&lt;link\n",
              "  href=&quot;https://fonts.googleapis.com/css?family=Inter:400,500,600,700|Inconsolata|Karla|Rubik&amp;display=swap&quot;\n",
              "  rel=&quot;stylesheet&quot;\n",
              "/&gt;\n",
              "&lt;link rel=&quot;stylesheet&quot; href=&quot;https://datapane-cdn.com/v0.17.0/report/index.css&quot; /&gt;\n",
              "&lt;link rel=&quot;stylesheet&quot; href=&quot;https://datapane-cdn.com/v0.17.0/report/tailwind.css&quot; /&gt;\n",
              "&lt;script&gt;\n",
              "  // analytics config\n",
              "  // TODO -- pass these in as props for consistency?\n",
              "  window.dpAppRunner = false;\n",
              "  window.dpLocal = true;\n",
              "\n",
              "  /* construct the view */\n",
              "  const htmlHeader = `&lt;style type=&quot;text/css&quot;&gt;:root {\n",
              "    --dp-accent-color: #4E46E5;\n",
              "    --dp-bg-color: #FFF;\n",
              "    --dp-text-align: left;\n",
              "    --dp-font-family: Inter, ui-sans-serif, system-ui;\n",
              "}&lt;/style&gt;`;\n",
              "  window.reportProps = { htmlHeader, isLightProse: false, isOrg: false, mode: &quot;VIEW&quot;, reportWidthClass: &quot;max-w-screen-xl&quot; };\n",
              "\n",
              "  if (!window.dpAppRunner) {\n",
              "      // pass app data via props if in local (static) mode, otherwise this data is fetched from the server\n",
              "      window.reportProps[&quot;appData&quot;] = { data: { result: {&quot;view_xml&quot;: &quot;\\u003cView version=\\&quot;1\\&quot; fragment=\\&quot;false\\&quot;\\u003e\\u003cDataTable type=\\&quot;application/vnd.apache.arrow+binary\\&quot; rows=\\&quot;52\\&quot; columns=\\&quot;2\\&quot; schema=\\&quot;[]\\&quot; src=\\&quot;ref://e11ce31f8c\\&quot;/\\u003e\\u003c/View\\u003e&quot;, &quot;assets&quot;: {&quot;e11ce31f8c&quot;: {&quot;src&quot;: &quot;data:application/vnd.apache.arrow+binary;base64,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&quot;, &quot;hash&quot;: &quot;e11ce31f8c&quot;, &quot;size&quot;: 2884, &quot;mime&quot;: &quot;application/vnd.apache.arrow+binary&quot;}}} }};\n",
              "  }\n",
              "&lt;/script&gt;\n",
              "&lt;script type=&quot;module&quot;&gt;\n",
              "  import { mountReport } from &quot;https://datapane-cdn.com/v0.17.0/report/index.es.js&quot;;\n",
              "  mountReport(window.reportProps);\n",
              "&lt;/script&gt;\n",
              "  &lt;/head&gt;\n",
              "  &lt;script&gt;\n",
              "    window.isIPythonEmbed = true;\n",
              "  &lt;/script&gt;\n",
              "  &lt;body&gt;\n",
              "    &lt;main class=&quot;max-w-screen-xl w-full mx-auto&quot;&gt;\n",
              "      &lt;div id=&quot;report&quot; class=&quot;w-full&quot;&gt;&lt;/div&gt;\n",
              "    &lt;/main&gt;\n",
              "    &lt;script src=&quot;https://datapane-cdn.com/v0.17.0/assets/iframeResizer.contentWindow.min.js&quot;&gt;&lt;/script&gt;\n",
              "  &lt;/body&gt;\n",
              "&lt;/html&gt;\n",
              "\" style=\"border: none\">\n",
              "</iframe>\n",
              "<script type=\"module\">\n",
              "  import { iframeResize } from \"https://datapane-cdn.com/v0.17.0/report/index.es.js\";\n",
              "  iframeResize({ log: true, checkOrigin: false }, \"#dp-75b7b5fdde0d4daea3a3a5adb3c6537e\");\n",
              "</script>\n"
            ]
          },
          "metadata": {}
        }
      ]
    },
    {
      "cell_type": "code",
      "source": [
        "sales_trend = px.line(sales_df, x='date', y='total_quantity_sold', title='Sales Trends Over Time')\n",
        "sales_trend.show()"
      ],
      "metadata": {
        "colab": {
          "base_uri": "https://localhost:8080/",
          "height": 542
        },
        "id": "cZQReMlzlU6D",
        "outputId": "2b565646-b2be-4b34-9ec7-b65452cb7fc8"
      },
      "execution_count": null,
      "outputs": [
        {
          "output_type": "display_data",
          "data": {
            "text/html": [
              "<html>\n",
              "<head><meta charset=\"utf-8\" /></head>\n",
              "<body>\n",
              "    <div>            <script src=\"https://cdnjs.cloudflare.com/ajax/libs/mathjax/2.7.5/MathJax.js?config=TeX-AMS-MML_SVG\"></script><script type=\"text/javascript\">if (window.MathJax && window.MathJax.Hub && window.MathJax.Hub.Config) {window.MathJax.Hub.Config({SVG: {font: \"STIX-Web\"}});}</script>                <script type=\"text/javascript\">window.PlotlyConfig = {MathJaxConfig: 'local'};</script>\n",
              "        <script charset=\"utf-8\" src=\"https://cdn.plot.ly/plotly-2.24.1.min.js\"></script>                <div id=\"2ac1ad60-82b4-466a-b5a7-dfa517b693c0\" class=\"plotly-graph-div\" style=\"height:525px; width:100%;\"></div>            <script type=\"text/javascript\">                                    window.PLOTLYENV=window.PLOTLYENV || {};                                    if (document.getElementById(\"2ac1ad60-82b4-466a-b5a7-dfa517b693c0\")) {                    Plotly.newPlot(                        \"2ac1ad60-82b4-466a-b5a7-dfa517b693c0\",                        [{\"hovertemplate\":\"date=%{x}\\u003cbr\\u003etotal_quantity_sold=%{y}\\u003cextra\\u003e\\u003c\\u002fextra\\u003e\",\"legendgroup\":\"\",\"line\":{\"color\":\"#636efa\",\"dash\":\"solid\"},\"marker\":{\"symbol\":\"circle\"},\"mode\":\"lines\",\"name\":\"\",\"orientation\":\"v\",\"showlegend\":false,\"x\":[\"2017-09-01T00:00:00\",\"2017-10-01T00:00:00\",\"2017-11-01T00:00:00\",\"2017-12-01T00:00:00\",\"2018-01-01T00:00:00\",\"2018-02-01T00:00:00\",\"2018-03-01T00:00:00\",\"2018-04-01T00:00:00\",\"2018-05-01T00:00:00\",\"2018-06-01T00:00:00\",\"2018-07-01T00:00:00\",\"2018-08-01T00:00:00\",\"2018-09-01T00:00:00\",\"2018-10-01T00:00:00\",\"2018-11-01T00:00:00\",\"2018-12-01T00:00:00\",\"2019-01-01T00:00:00\",\"2019-02-01T00:00:00\",\"2019-03-01T00:00:00\",\"2019-04-01T00:00:00\",\"2019-05-01T00:00:00\",\"2019-06-01T00:00:00\",\"2019-07-01T00:00:00\",\"2019-08-01T00:00:00\",\"2019-09-01T00:00:00\",\"2019-10-01T00:00:00\",\"2019-11-01T00:00:00\",\"2019-12-01T00:00:00\",\"2020-01-01T00:00:00\",\"2020-02-01T00:00:00\",\"2020-03-01T00:00:00\",\"2020-04-01T00:00:00\",\"2020-05-01T00:00:00\",\"2020-06-01T00:00:00\",\"2020-07-01T00:00:00\",\"2020-08-01T00:00:00\",\"2020-09-01T00:00:00\",\"2020-10-01T00:00:00\",\"2020-11-01T00:00:00\",\"2020-12-01T00:00:00\",\"2021-01-01T00:00:00\",\"2021-02-01T00:00:00\",\"2021-03-01T00:00:00\",\"2021-04-01T00:00:00\",\"2021-05-01T00:00:00\",\"2021-06-01T00:00:00\",\"2021-07-01T00:00:00\",\"2021-08-01T00:00:00\",\"2021-09-01T00:00:00\",\"2021-10-01T00:00:00\",\"2021-11-01T00:00:00\",\"2021-12-01T00:00:00\"],\"xaxis\":\"x\",\"y\":[245962.0,320455.0,436457.0,441076.0,247003.0,241247.0,262777.0,254642.0,252867.0,243200.0,251875.0,256589.0,784709.0,984686.0,1317124.0,1435832.0,783459.0,753569.0,789309.0,790645.0,779059.0,765195.0,809943.0,791459.0,1764002.0,2190792.0,3050825.0,3184205.0,1762652.0,1702785.0,238961.0,819956.0,1016170.0,1559773.0,1692575.0,1790193.0,3654783.0,4592695.0,6228716.0,6625714.0,3646066.0,3540872.0,3674448.0,3687497.0,3622794.0,3520986.0,3687245.0,3682766.0,6912066.0,8716715.0,11876845.0,12609320.0],\"yaxis\":\"y\",\"type\":\"scatter\"}],                        {\"template\":{\"data\":{\"histogram2dcontour\":[{\"type\":\"histogram2dcontour\",\"colorbar\":{\"outlinewidth\":0,\"ticks\":\"\"},\"colorscale\":[[0.0,\"#0d0887\"],[0.1111111111111111,\"#46039f\"],[0.2222222222222222,\"#7201a8\"],[0.3333333333333333,\"#9c179e\"],[0.4444444444444444,\"#bd3786\"],[0.5555555555555556,\"#d8576b\"],[0.6666666666666666,\"#ed7953\"],[0.7777777777777778,\"#fb9f3a\"],[0.8888888888888888,\"#fdca26\"],[1.0,\"#f0f921\"]]}],\"choropleth\":[{\"type\":\"choropleth\",\"colorbar\":{\"outlinewidth\":0,\"ticks\":\"\"}}],\"histogram2d\":[{\"type\":\"histogram2d\",\"colorbar\":{\"outlinewidth\":0,\"ticks\":\"\"},\"colorscale\":[[0.0,\"#0d0887\"],[0.1111111111111111,\"#46039f\"],[0.2222222222222222,\"#7201a8\"],[0.3333333333333333,\"#9c179e\"],[0.4444444444444444,\"#bd3786\"],[0.5555555555555556,\"#d8576b\"],[0.6666666666666666,\"#ed7953\"],[0.7777777777777778,\"#fb9f3a\"],[0.8888888888888888,\"#fdca26\"],[1.0,\"#f0f921\"]]}],\"heatmap\":[{\"type\":\"heatmap\",\"colorbar\":{\"outlinewidth\":0,\"ticks\":\"\"},\"colorscale\":[[0.0,\"#0d0887\"],[0.1111111111111111,\"#46039f\"],[0.2222222222222222,\"#7201a8\"],[0.3333333333333333,\"#9c179e\"],[0.4444444444444444,\"#bd3786\"],[0.5555555555555556,\"#d8576b\"],[0.6666666666666666,\"#ed7953\"],[0.7777777777777778,\"#fb9f3a\"],[0.8888888888888888,\"#fdca26\"],[1.0,\"#f0f921\"]]}],\"heatmapgl\":[{\"type\":\"heatmapgl\",\"colorbar\":{\"outlinewidth\":0,\"ticks\":\"\"},\"colorscale\":[[0.0,\"#0d0887\"],[0.1111111111111111,\"#46039f\"],[0.2222222222222222,\"#7201a8\"],[0.3333333333333333,\"#9c179e\"],[0.4444444444444444,\"#bd3786\"],[0.5555555555555556,\"#d8576b\"],[0.6666666666666666,\"#ed7953\"],[0.7777777777777778,\"#fb9f3a\"],[0.8888888888888888,\"#fdca26\"],[1.0,\"#f0f921\"]]}],\"contourcarpet\":[{\"type\":\"contourcarpet\",\"colorbar\":{\"outlinewidth\":0,\"ticks\":\"\"}}],\"contour\":[{\"type\":\"contour\",\"colorbar\":{\"outlinewidth\":0,\"ticks\":\"\"},\"colorscale\":[[0.0,\"#0d0887\"],[0.1111111111111111,\"#46039f\"],[0.2222222222222222,\"#7201a8\"],[0.3333333333333333,\"#9c179e\"],[0.4444444444444444,\"#bd3786\"],[0.5555555555555556,\"#d8576b\"],[0.6666666666666666,\"#ed7953\"],[0.7777777777777778,\"#fb9f3a\"],[0.8888888888888888,\"#fdca26\"],[1.0,\"#f0f921\"]]}],\"surface\":[{\"type\":\"surface\",\"colorbar\":{\"outlinewidth\":0,\"ticks\":\"\"},\"colorscale\":[[0.0,\"#0d0887\"],[0.1111111111111111,\"#46039f\"],[0.2222222222222222,\"#7201a8\"],[0.3333333333333333,\"#9c179e\"],[0.4444444444444444,\"#bd3786\"],[0.5555555555555556,\"#d8576b\"],[0.6666666666666666,\"#ed7953\"],[0.7777777777777778,\"#fb9f3a\"],[0.8888888888888888,\"#fdca26\"],[1.0,\"#f0f921\"]]}],\"mesh3d\":[{\"type\":\"mesh3d\",\"colorbar\":{\"outlinewidth\":0,\"ticks\":\"\"}}],\"scatter\":[{\"fillpattern\":{\"fillmode\":\"overlay\",\"size\":10,\"solidity\":0.2},\"type\":\"scatter\"}],\"parcoords\":[{\"type\":\"parcoords\",\"line\":{\"colorbar\":{\"outlinewidth\":0,\"ticks\":\"\"}}}],\"scatterpolargl\":[{\"type\":\"scatterpolargl\",\"marker\":{\"colorbar\":{\"outlinewidth\":0,\"ticks\":\"\"}}}],\"bar\":[{\"error_x\":{\"color\":\"#2a3f5f\"},\"error_y\":{\"color\":\"#2a3f5f\"},\"marker\":{\"line\":{\"color\":\"#E5ECF6\",\"width\":0.5},\"pattern\":{\"fillmode\":\"overlay\",\"size\":10,\"solidity\":0.2}},\"type\":\"bar\"}],\"scattergeo\":[{\"type\":\"scattergeo\",\"marker\":{\"colorbar\":{\"outlinewidth\":0,\"ticks\":\"\"}}}],\"scatterpolar\":[{\"type\":\"scatterpolar\",\"marker\":{\"colorbar\":{\"outlinewidth\":0,\"ticks\":\"\"}}}],\"histogram\":[{\"marker\":{\"pattern\":{\"fillmode\":\"overlay\",\"size\":10,\"solidity\":0.2}},\"type\":\"histogram\"}],\"scattergl\":[{\"type\":\"scattergl\",\"marker\":{\"colorbar\":{\"outlinewidth\":0,\"ticks\":\"\"}}}],\"scatter3d\":[{\"type\":\"scatter3d\",\"line\":{\"colorbar\":{\"outlinewidth\":0,\"ticks\":\"\"}},\"marker\":{\"colorbar\":{\"outlinewidth\":0,\"ticks\":\"\"}}}],\"scattermapbox\":[{\"type\":\"scattermapbox\",\"marker\":{\"colorbar\":{\"outlinewidth\":0,\"ticks\":\"\"}}}],\"scatterternary\":[{\"type\":\"scatterternary\",\"marker\":{\"colorbar\":{\"outlinewidth\":0,\"ticks\":\"\"}}}],\"scattercarpet\":[{\"type\":\"scattercarpet\",\"marker\":{\"colorbar\":{\"outlinewidth\":0,\"ticks\":\"\"}}}],\"carpet\":[{\"aaxis\":{\"endlinecolor\":\"#2a3f5f\",\"gridcolor\":\"white\",\"linecolor\":\"white\",\"minorgridcolor\":\"white\",\"startlinecolor\":\"#2a3f5f\"},\"baxis\":{\"endlinecolor\":\"#2a3f5f\",\"gridcolor\":\"white\",\"linecolor\":\"white\",\"minorgridcolor\":\"white\",\"startlinecolor\":\"#2a3f5f\"},\"type\":\"carpet\"}],\"table\":[{\"cells\":{\"fill\":{\"color\":\"#EBF0F8\"},\"line\":{\"color\":\"white\"}},\"header\":{\"fill\":{\"color\":\"#C8D4E3\"},\"line\":{\"color\":\"white\"}},\"type\":\"table\"}],\"barpolar\":[{\"marker\":{\"line\":{\"color\":\"#E5ECF6\",\"width\":0.5},\"pattern\":{\"fillmode\":\"overlay\",\"size\":10,\"solidity\":0.2}},\"type\":\"barpolar\"}],\"pie\":[{\"automargin\":true,\"type\":\"pie\"}]},\"layout\":{\"autotypenumbers\":\"strict\",\"colorway\":[\"#636efa\",\"#EF553B\",\"#00cc96\",\"#ab63fa\",\"#FFA15A\",\"#19d3f3\",\"#FF6692\",\"#B6E880\",\"#FF97FF\",\"#FECB52\"],\"font\":{\"color\":\"#2a3f5f\"},\"hovermode\":\"closest\",\"hoverlabel\":{\"align\":\"left\"},\"paper_bgcolor\":\"white\",\"plot_bgcolor\":\"#E5ECF6\",\"polar\":{\"bgcolor\":\"#E5ECF6\",\"angularaxis\":{\"gridcolor\":\"white\",\"linecolor\":\"white\",\"ticks\":\"\"},\"radialaxis\":{\"gridcolor\":\"white\",\"linecolor\":\"white\",\"ticks\":\"\"}},\"ternary\":{\"bgcolor\":\"#E5ECF6\",\"aaxis\":{\"gridcolor\":\"white\",\"linecolor\":\"white\",\"ticks\":\"\"},\"baxis\":{\"gridcolor\":\"white\",\"linecolor\":\"white\",\"ticks\":\"\"},\"caxis\":{\"gridcolor\":\"white\",\"linecolor\":\"white\",\"ticks\":\"\"}},\"coloraxis\":{\"colorbar\":{\"outlinewidth\":0,\"ticks\":\"\"}},\"colorscale\":{\"sequential\":[[0.0,\"#0d0887\"],[0.1111111111111111,\"#46039f\"],[0.2222222222222222,\"#7201a8\"],[0.3333333333333333,\"#9c179e\"],[0.4444444444444444,\"#bd3786\"],[0.5555555555555556,\"#d8576b\"],[0.6666666666666666,\"#ed7953\"],[0.7777777777777778,\"#fb9f3a\"],[0.8888888888888888,\"#fdca26\"],[1.0,\"#f0f921\"]],\"sequentialminus\":[[0.0,\"#0d0887\"],[0.1111111111111111,\"#46039f\"],[0.2222222222222222,\"#7201a8\"],[0.3333333333333333,\"#9c179e\"],[0.4444444444444444,\"#bd3786\"],[0.5555555555555556,\"#d8576b\"],[0.6666666666666666,\"#ed7953\"],[0.7777777777777778,\"#fb9f3a\"],[0.8888888888888888,\"#fdca26\"],[1.0,\"#f0f921\"]],\"diverging\":[[0,\"#8e0152\"],[0.1,\"#c51b7d\"],[0.2,\"#de77ae\"],[0.3,\"#f1b6da\"],[0.4,\"#fde0ef\"],[0.5,\"#f7f7f7\"],[0.6,\"#e6f5d0\"],[0.7,\"#b8e186\"],[0.8,\"#7fbc41\"],[0.9,\"#4d9221\"],[1,\"#276419\"]]},\"xaxis\":{\"gridcolor\":\"white\",\"linecolor\":\"white\",\"ticks\":\"\",\"title\":{\"standoff\":15},\"zerolinecolor\":\"white\",\"automargin\":true,\"zerolinewidth\":2},\"yaxis\":{\"gridcolor\":\"white\",\"linecolor\":\"white\",\"ticks\":\"\",\"title\":{\"standoff\":15},\"zerolinecolor\":\"white\",\"automargin\":true,\"zerolinewidth\":2},\"scene\":{\"xaxis\":{\"backgroundcolor\":\"#E5ECF6\",\"gridcolor\":\"white\",\"linecolor\":\"white\",\"showbackground\":true,\"ticks\":\"\",\"zerolinecolor\":\"white\",\"gridwidth\":2},\"yaxis\":{\"backgroundcolor\":\"#E5ECF6\",\"gridcolor\":\"white\",\"linecolor\":\"white\",\"showbackground\":true,\"ticks\":\"\",\"zerolinecolor\":\"white\",\"gridwidth\":2},\"zaxis\":{\"backgroundcolor\":\"#E5ECF6\",\"gridcolor\":\"white\",\"linecolor\":\"white\",\"showbackground\":true,\"ticks\":\"\",\"zerolinecolor\":\"white\",\"gridwidth\":2}},\"shapedefaults\":{\"line\":{\"color\":\"#2a3f5f\"}},\"annotationdefaults\":{\"arrowcolor\":\"#2a3f5f\",\"arrowhead\":0,\"arrowwidth\":1},\"geo\":{\"bgcolor\":\"white\",\"landcolor\":\"#E5ECF6\",\"subunitcolor\":\"white\",\"showland\":true,\"showlakes\":true,\"lakecolor\":\"white\"},\"title\":{\"x\":0.05},\"mapbox\":{\"style\":\"light\"}}},\"xaxis\":{\"anchor\":\"y\",\"domain\":[0.0,1.0],\"title\":{\"text\":\"date\"}},\"yaxis\":{\"anchor\":\"x\",\"domain\":[0.0,1.0],\"title\":{\"text\":\"total_quantity_sold\"}},\"legend\":{\"tracegroupgap\":0},\"title\":{\"text\":\"Sales Trends Over Time\"}},                        {\"responsive\": true}                    ).then(function(){\n",
              "                            \n",
              "var gd = document.getElementById('2ac1ad60-82b4-466a-b5a7-dfa517b693c0');\n",
              "var x = new MutationObserver(function (mutations, observer) {{\n",
              "        var display = window.getComputedStyle(gd).display;\n",
              "        if (!display || display === 'none') {{\n",
              "            console.log([gd, 'removed!']);\n",
              "            Plotly.purge(gd);\n",
              "            observer.disconnect();\n",
              "        }}\n",
              "}});\n",
              "\n",
              "// Listen for the removal of the full notebook cells\n",
              "var notebookContainer = gd.closest('#notebook-container');\n",
              "if (notebookContainer) {{\n",
              "    x.observe(notebookContainer, {childList: true});\n",
              "}}\n",
              "\n",
              "// Listen for the clearing of the current output cell\n",
              "var outputEl = gd.closest('.output');\n",
              "if (outputEl) {{\n",
              "    x.observe(outputEl, {childList: true});\n",
              "}}\n",
              "\n",
              "                        })                };                            </script>        </div>\n",
              "</body>\n",
              "</html>"
            ]
          },
          "metadata": {}
        }
      ]
    },
    {
      "cell_type": "markdown",
      "source": [
        "Bar Plot - Total Number of Products sold by Product Category:"
      ],
      "metadata": {
        "id": "kcIyMkZIlwOE"
      }
    },
    {
      "cell_type": "code",
      "source": [
        "Total_Number_of_Products_sold_by_Product_Category_query=\"\"\"\n",
        "SELECT category,\n",
        "       SUM(sold_quantity) AS total_sold_quantity,\n",
        "       SUM(sold_quantity * gross_price) AS total_revenue\n",
        "FROM gdb041.fact_sales_monthly F\n",
        "JOIN gdb041.gross_price G ON F.product_code = G.product_code\n",
        "AND YEAR(F.date) = G.fiscal_year\n",
        "GROUP BY category;\n",
        "\"\"\"\n",
        "\n",
        "total_df=run_query(Total_Number_of_Products_sold_by_Product_Category_query)\n",
        "dp.DataTable(total_df)"
      ],
      "metadata": {
        "colab": {
          "base_uri": "https://localhost:8080/",
          "height": 503
        },
        "id": "o5nhX424lxPR",
        "outputId": "28f6645f-18cb-4cf6-db6b-127026ab8331"
      },
      "execution_count": null,
      "outputs": [
        {
          "output_type": "display_data",
          "data": {
            "text/plain": [
              "<IPython.core.display.HTML object>"
            ],
            "text/html": [
              "<style>\n",
              "  #dp-32a3b2d1a08c40198bfe4b82689f0ef1 {\n",
              "    width: 1px;\n",
              "    min-width: 100%;\n",
              "  }\n",
              "</style>\n",
              "<iframe id=\"dp-32a3b2d1a08c40198bfe4b82689f0ef1\" srcdoc=\"&lt;!DOCTYPE html&gt;\n",
              "&lt;html lang=&quot;en&quot;&gt;\n",
              "  &lt;head&gt;\n",
              "&lt;meta charset=&quot;UTF-8&quot; /&gt;\n",
              "\n",
              "&lt;link rel=&quot;shortcut icon&quot; type=&quot;image/png&quot; href=&quot;https://datapane-cdn.com/static/v1/datapane-icon-192x192.png&quot;/&gt;\n",
              "&lt;link rel=&quot;shortcut icon&quot; sizes=&quot;192x192&quot; href=&quot;https://datapane-cdn.com/static/v1/datapane-icon-192x192.png&quot;/&gt;\n",
              "&lt;link rel=&quot;apple-touch-icon&quot; href=&quot;https://datapane-cdn.com/static/v1/datapane-icon-192x192.png&quot;/&gt;\n",
              "\n",
              "&lt;script src=&quot;https://kit.fontawesome.com/256c714d9a.js&quot;&gt;&lt;/script&gt;\n",
              "&lt;link\n",
              "  href=&quot;https://fonts.googleapis.com/css?family=Inter:400,500,600,700|Inconsolata|Karla|Rubik&amp;display=swap&quot;\n",
              "  rel=&quot;stylesheet&quot;\n",
              "/&gt;\n",
              "&lt;link rel=&quot;stylesheet&quot; href=&quot;https://datapane-cdn.com/v0.17.0/report/index.css&quot; /&gt;\n",
              "&lt;link rel=&quot;stylesheet&quot; href=&quot;https://datapane-cdn.com/v0.17.0/report/tailwind.css&quot; /&gt;\n",
              "&lt;script&gt;\n",
              "  // analytics config\n",
              "  // TODO -- pass these in as props for consistency?\n",
              "  window.dpAppRunner = false;\n",
              "  window.dpLocal = true;\n",
              "\n",
              "  /* construct the view */\n",
              "  const htmlHeader = `&lt;style type=&quot;text/css&quot;&gt;:root {\n",
              "    --dp-accent-color: #4E46E5;\n",
              "    --dp-bg-color: #FFF;\n",
              "    --dp-text-align: left;\n",
              "    --dp-font-family: Inter, ui-sans-serif, system-ui;\n",
              "}&lt;/style&gt;`;\n",
              "  window.reportProps = { htmlHeader, isLightProse: false, isOrg: false, mode: &quot;VIEW&quot;, reportWidthClass: &quot;max-w-screen-xl&quot; };\n",
              "\n",
              "  if (!window.dpAppRunner) {\n",
              "      // pass app data via props if in local (static) mode, otherwise this data is fetched from the server\n",
              "      window.reportProps[&quot;appData&quot;] = { data: { result: {&quot;view_xml&quot;: &quot;\\u003cView version=\\&quot;1\\&quot; fragment=\\&quot;false\\&quot;\\u003e\\u003cDataTable type=\\&quot;application/vnd.apache.arrow+binary\\&quot; rows=\\&quot;14\\&quot; columns=\\&quot;3\\&quot; schema=\\&quot;[]\\&quot; src=\\&quot;ref://2f25b9b954\\&quot;/\\u003e\\u003c/View\\u003e&quot;, &quot;assets&quot;: {&quot;2f25b9b954&quot;: {&quot;src&quot;: &quot;data:application/vnd.apache.arrow+binary;base64,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&quot;, &quot;hash&quot;: &quot;2f25b9b954&quot;, &quot;size&quot;: 3184, &quot;mime&quot;: &quot;application/vnd.apache.arrow+binary&quot;}}} }};\n",
              "  }\n",
              "&lt;/script&gt;\n",
              "&lt;script type=&quot;module&quot;&gt;\n",
              "  import { mountReport } from &quot;https://datapane-cdn.com/v0.17.0/report/index.es.js&quot;;\n",
              "  mountReport(window.reportProps);\n",
              "&lt;/script&gt;\n",
              "  &lt;/head&gt;\n",
              "  &lt;script&gt;\n",
              "    window.isIPythonEmbed = true;\n",
              "  &lt;/script&gt;\n",
              "  &lt;body&gt;\n",
              "    &lt;main class=&quot;max-w-screen-xl w-full mx-auto&quot;&gt;\n",
              "      &lt;div id=&quot;report&quot; class=&quot;w-full&quot;&gt;&lt;/div&gt;\n",
              "    &lt;/main&gt;\n",
              "    &lt;script src=&quot;https://datapane-cdn.com/v0.17.0/assets/iframeResizer.contentWindow.min.js&quot;&gt;&lt;/script&gt;\n",
              "  &lt;/body&gt;\n",
              "&lt;/html&gt;\n",
              "\" style=\"border: none\">\n",
              "</iframe>\n",
              "<script type=\"module\">\n",
              "  import { iframeResize } from \"https://datapane-cdn.com/v0.17.0/report/index.es.js\";\n",
              "  iframeResize({ log: true, checkOrigin: false }, \"#dp-32a3b2d1a08c40198bfe4b82689f0ef1\");\n",
              "</script>\n"
            ]
          },
          "metadata": {}
        }
      ]
    },
    {
      "cell_type": "code",
      "source": [
        "total_sold_plot = px.bar(total_df, x='category', y='total_sold_quantity', color = 'category', title='Distribution of Manufacturing Costs by Product')\n",
        "total_sold_plot.show()"
      ],
      "metadata": {
        "colab": {
          "base_uri": "https://localhost:8080/",
          "height": 542
        },
        "id": "yQRO-YS_nxvl",
        "outputId": "c0d5080b-6ce7-40e0-e168-42cd6b5da36a"
      },
      "execution_count": null,
      "outputs": [
        {
          "output_type": "display_data",
          "data": {
            "text/html": [
              "<html>\n",
              "<head><meta charset=\"utf-8\" /></head>\n",
              "<body>\n",
              "    <div>            <script src=\"https://cdnjs.cloudflare.com/ajax/libs/mathjax/2.7.5/MathJax.js?config=TeX-AMS-MML_SVG\"></script><script type=\"text/javascript\">if (window.MathJax && window.MathJax.Hub && window.MathJax.Hub.Config) {window.MathJax.Hub.Config({SVG: {font: \"STIX-Web\"}});}</script>                <script type=\"text/javascript\">window.PlotlyConfig = {MathJaxConfig: 'local'};</script>\n",
              "        <script charset=\"utf-8\" src=\"https://cdn.plot.ly/plotly-2.24.1.min.js\"></script>                <div id=\"90bf0031-cb49-42bb-8916-1e51981e18a7\" class=\"plotly-graph-div\" style=\"height:525px; width:100%;\"></div>            <script type=\"text/javascript\">                                    window.PLOTLYENV=window.PLOTLYENV || {};                                    if (document.getElementById(\"90bf0031-cb49-42bb-8916-1e51981e18a7\")) {                    Plotly.newPlot(                        \"90bf0031-cb49-42bb-8916-1e51981e18a7\",                        [{\"alignmentgroup\":\"True\",\"hovertemplate\":\"category=%{x}\\u003cbr\\u003etotal_sold_quantity=%{y}\\u003cextra\\u003e\\u003c\\u002fextra\\u003e\",\"legendgroup\":\"Batteries\",\"marker\":{\"color\":\"#636efa\",\"pattern\":{\"shape\":\"\"}},\"name\":\"Batteries\",\"offsetgroup\":\"Batteries\",\"orientation\":\"v\",\"showlegend\":true,\"textposition\":\"auto\",\"x\":[\"Batteries\"],\"xaxis\":\"x\",\"y\":[3644989.0],\"yaxis\":\"y\",\"type\":\"bar\"},{\"alignmentgroup\":\"True\",\"hovertemplate\":\"category=%{x}\\u003cbr\\u003etotal_sold_quantity=%{y}\\u003cextra\\u003e\\u003c\\u002fextra\\u003e\",\"legendgroup\":\"Business Laptop\",\"marker\":{\"color\":\"#EF553B\",\"pattern\":{\"shape\":\"\"}},\"name\":\"Business Laptop\",\"offsetgroup\":\"Business Laptop\",\"orientation\":\"v\",\"showlegend\":true,\"textposition\":\"auto\",\"x\":[\"Business Laptop\"],\"xaxis\":\"x\",\"y\":[1390846.0],\"yaxis\":\"y\",\"type\":\"bar\"},{\"alignmentgroup\":\"True\",\"hovertemplate\":\"category=%{x}\\u003cbr\\u003etotal_sold_quantity=%{y}\\u003cextra\\u003e\\u003c\\u002fextra\\u003e\",\"legendgroup\":\"External Solid State Drives\",\"marker\":{\"color\":\"#00cc96\",\"pattern\":{\"shape\":\"\"}},\"name\":\"External Solid State Drives\",\"offsetgroup\":\"External Solid State Drives\",\"orientation\":\"v\",\"showlegend\":true,\"textposition\":\"auto\",\"x\":[\"External Solid State Drives\"],\"xaxis\":\"x\",\"y\":[10747886.0],\"yaxis\":\"y\",\"type\":\"bar\"},{\"alignmentgroup\":\"True\",\"hovertemplate\":\"category=%{x}\\u003cbr\\u003etotal_sold_quantity=%{y}\\u003cextra\\u003e\\u003c\\u002fextra\\u003e\",\"legendgroup\":\"Gaming Laptop\",\"marker\":{\"color\":\"#ab63fa\",\"pattern\":{\"shape\":\"\"}},\"name\":\"Gaming Laptop\",\"offsetgroup\":\"Gaming Laptop\",\"orientation\":\"v\",\"showlegend\":true,\"textposition\":\"auto\",\"x\":[\"Gaming Laptop\"],\"xaxis\":\"x\",\"y\":[1161481.0],\"yaxis\":\"y\",\"type\":\"bar\"},{\"alignmentgroup\":\"True\",\"hovertemplate\":\"category=%{x}\\u003cbr\\u003etotal_sold_quantity=%{y}\\u003cextra\\u003e\\u003c\\u002fextra\\u003e\",\"legendgroup\":\"Graphic Card\",\"marker\":{\"color\":\"#FFA15A\",\"pattern\":{\"shape\":\"\"}},\"name\":\"Graphic Card\",\"offsetgroup\":\"Graphic Card\",\"orientation\":\"v\",\"showlegend\":true,\"textposition\":\"auto\",\"x\":[\"Graphic Card\"],\"xaxis\":\"x\",\"y\":[8987286.0],\"yaxis\":\"y\",\"type\":\"bar\"},{\"alignmentgroup\":\"True\",\"hovertemplate\":\"category=%{x}\\u003cbr\\u003etotal_sold_quantity=%{y}\\u003cextra\\u003e\\u003c\\u002fextra\\u003e\",\"legendgroup\":\"Internal HDD\",\"marker\":{\"color\":\"#19d3f3\",\"pattern\":{\"shape\":\"\"}},\"name\":\"Internal HDD\",\"offsetgroup\":\"Internal HDD\",\"orientation\":\"v\",\"showlegend\":true,\"textposition\":\"auto\",\"x\":[\"Internal HDD\"],\"xaxis\":\"x\",\"y\":[2918368.0],\"yaxis\":\"y\",\"type\":\"bar\"},{\"alignmentgroup\":\"True\",\"hovertemplate\":\"category=%{x}\\u003cbr\\u003etotal_sold_quantity=%{y}\\u003cextra\\u003e\\u003c\\u002fextra\\u003e\",\"legendgroup\":\"Keyboard\",\"marker\":{\"color\":\"#FF6692\",\"pattern\":{\"shape\":\"\"}},\"name\":\"Keyboard\",\"offsetgroup\":\"Keyboard\",\"orientation\":\"v\",\"showlegend\":true,\"textposition\":\"auto\",\"x\":[\"Keyboard\"],\"xaxis\":\"x\",\"y\":[27055690.0],\"yaxis\":\"y\",\"type\":\"bar\"},{\"alignmentgroup\":\"True\",\"hovertemplate\":\"category=%{x}\\u003cbr\\u003etotal_sold_quantity=%{y}\\u003cextra\\u003e\\u003c\\u002fextra\\u003e\",\"legendgroup\":\"MotherBoard\",\"marker\":{\"color\":\"#B6E880\",\"pattern\":{\"shape\":\"\"}},\"name\":\"MotherBoard\",\"offsetgroup\":\"MotherBoard\",\"orientation\":\"v\",\"showlegend\":true,\"textposition\":\"auto\",\"x\":[\"MotherBoard\"],\"xaxis\":\"x\",\"y\":[3551877.0],\"yaxis\":\"y\",\"type\":\"bar\"},{\"alignmentgroup\":\"True\",\"hovertemplate\":\"category=%{x}\\u003cbr\\u003etotal_sold_quantity=%{y}\\u003cextra\\u003e\\u003c\\u002fextra\\u003e\",\"legendgroup\":\"Mouse\",\"marker\":{\"color\":\"#FF97FF\",\"pattern\":{\"shape\":\"\"}},\"name\":\"Mouse\",\"offsetgroup\":\"Mouse\",\"orientation\":\"v\",\"showlegend\":true,\"textposition\":\"auto\",\"x\":[\"Mouse\"],\"xaxis\":\"x\",\"y\":[30992437.0],\"yaxis\":\"y\",\"type\":\"bar\"},{\"alignmentgroup\":\"True\",\"hovertemplate\":\"category=%{x}\\u003cbr\\u003etotal_sold_quantity=%{y}\\u003cextra\\u003e\\u003c\\u002fextra\\u003e\",\"legendgroup\":\"Personal Desktop\",\"marker\":{\"color\":\"#FECB52\",\"pattern\":{\"shape\":\"\"}},\"name\":\"Personal Desktop\",\"offsetgroup\":\"Personal Desktop\",\"orientation\":\"v\",\"showlegend\":true,\"textposition\":\"auto\",\"x\":[\"Personal Desktop\"],\"xaxis\":\"x\",\"y\":[305981.0],\"yaxis\":\"y\",\"type\":\"bar\"},{\"alignmentgroup\":\"True\",\"hovertemplate\":\"category=%{x}\\u003cbr\\u003etotal_sold_quantity=%{y}\\u003cextra\\u003e\\u003c\\u002fextra\\u003e\",\"legendgroup\":\"Personal Laptop\",\"marker\":{\"color\":\"#636efa\",\"pattern\":{\"shape\":\"\"}},\"name\":\"Personal Laptop\",\"offsetgroup\":\"Personal Laptop\",\"orientation\":\"v\",\"showlegend\":true,\"textposition\":\"auto\",\"x\":[\"Personal Laptop\"],\"xaxis\":\"x\",\"y\":[2032176.0],\"yaxis\":\"y\",\"type\":\"bar\"},{\"alignmentgroup\":\"True\",\"hovertemplate\":\"category=%{x}\\u003cbr\\u003etotal_sold_quantity=%{y}\\u003cextra\\u003e\\u003c\\u002fextra\\u003e\",\"legendgroup\":\"Processors\",\"marker\":{\"color\":\"#EF553B\",\"pattern\":{\"shape\":\"\"}},\"name\":\"Processors\",\"offsetgroup\":\"Processors\",\"orientation\":\"v\",\"showlegend\":true,\"textposition\":\"auto\",\"x\":[\"Processors\"],\"xaxis\":\"x\",\"y\":[4877604.0],\"yaxis\":\"y\",\"type\":\"bar\"},{\"alignmentgroup\":\"True\",\"hovertemplate\":\"category=%{x}\\u003cbr\\u003etotal_sold_quantity=%{y}\\u003cextra\\u003e\\u003c\\u002fextra\\u003e\",\"legendgroup\":\"USB Flash Drives\",\"marker\":{\"color\":\"#00cc96\",\"pattern\":{\"shape\":\"\"}},\"name\":\"USB Flash Drives\",\"offsetgroup\":\"USB Flash Drives\",\"orientation\":\"v\",\"showlegend\":true,\"textposition\":\"auto\",\"x\":[\"USB Flash Drives\"],\"xaxis\":\"x\",\"y\":[3329941.0],\"yaxis\":\"y\",\"type\":\"bar\"},{\"alignmentgroup\":\"True\",\"hovertemplate\":\"category=%{x}\\u003cbr\\u003etotal_sold_quantity=%{y}\\u003cextra\\u003e\\u003c\\u002fextra\\u003e\",\"legendgroup\":\"Wi fi extender\",\"marker\":{\"color\":\"#ab63fa\",\"pattern\":{\"shape\":\"\"}},\"name\":\"Wi fi extender\",\"offsetgroup\":\"Wi fi extender\",\"orientation\":\"v\",\"showlegend\":true,\"textposition\":\"auto\",\"x\":[\"Wi fi extender\"],\"xaxis\":\"x\",\"y\":[5462136.0],\"yaxis\":\"y\",\"type\":\"bar\"}],                        {\"template\":{\"data\":{\"histogram2dcontour\":[{\"type\":\"histogram2dcontour\",\"colorbar\":{\"outlinewidth\":0,\"ticks\":\"\"},\"colorscale\":[[0.0,\"#0d0887\"],[0.1111111111111111,\"#46039f\"],[0.2222222222222222,\"#7201a8\"],[0.3333333333333333,\"#9c179e\"],[0.4444444444444444,\"#bd3786\"],[0.5555555555555556,\"#d8576b\"],[0.6666666666666666,\"#ed7953\"],[0.7777777777777778,\"#fb9f3a\"],[0.8888888888888888,\"#fdca26\"],[1.0,\"#f0f921\"]]}],\"choropleth\":[{\"type\":\"choropleth\",\"colorbar\":{\"outlinewidth\":0,\"ticks\":\"\"}}],\"histogram2d\":[{\"type\":\"histogram2d\",\"colorbar\":{\"outlinewidth\":0,\"ticks\":\"\"},\"colorscale\":[[0.0,\"#0d0887\"],[0.1111111111111111,\"#46039f\"],[0.2222222222222222,\"#7201a8\"],[0.3333333333333333,\"#9c179e\"],[0.4444444444444444,\"#bd3786\"],[0.5555555555555556,\"#d8576b\"],[0.6666666666666666,\"#ed7953\"],[0.7777777777777778,\"#fb9f3a\"],[0.8888888888888888,\"#fdca26\"],[1.0,\"#f0f921\"]]}],\"heatmap\":[{\"type\":\"heatmap\",\"colorbar\":{\"outlinewidth\":0,\"ticks\":\"\"},\"colorscale\":[[0.0,\"#0d0887\"],[0.1111111111111111,\"#46039f\"],[0.2222222222222222,\"#7201a8\"],[0.3333333333333333,\"#9c179e\"],[0.4444444444444444,\"#bd3786\"],[0.5555555555555556,\"#d8576b\"],[0.6666666666666666,\"#ed7953\"],[0.7777777777777778,\"#fb9f3a\"],[0.8888888888888888,\"#fdca26\"],[1.0,\"#f0f921\"]]}],\"heatmapgl\":[{\"type\":\"heatmapgl\",\"colorbar\":{\"outlinewidth\":0,\"ticks\":\"\"},\"colorscale\":[[0.0,\"#0d0887\"],[0.1111111111111111,\"#46039f\"],[0.2222222222222222,\"#7201a8\"],[0.3333333333333333,\"#9c179e\"],[0.4444444444444444,\"#bd3786\"],[0.5555555555555556,\"#d8576b\"],[0.6666666666666666,\"#ed7953\"],[0.7777777777777778,\"#fb9f3a\"],[0.8888888888888888,\"#fdca26\"],[1.0,\"#f0f921\"]]}],\"contourcarpet\":[{\"type\":\"contourcarpet\",\"colorbar\":{\"outlinewidth\":0,\"ticks\":\"\"}}],\"contour\":[{\"type\":\"contour\",\"colorbar\":{\"outlinewidth\":0,\"ticks\":\"\"},\"colorscale\":[[0.0,\"#0d0887\"],[0.1111111111111111,\"#46039f\"],[0.2222222222222222,\"#7201a8\"],[0.3333333333333333,\"#9c179e\"],[0.4444444444444444,\"#bd3786\"],[0.5555555555555556,\"#d8576b\"],[0.6666666666666666,\"#ed7953\"],[0.7777777777777778,\"#fb9f3a\"],[0.8888888888888888,\"#fdca26\"],[1.0,\"#f0f921\"]]}],\"surface\":[{\"type\":\"surface\",\"colorbar\":{\"outlinewidth\":0,\"ticks\":\"\"},\"colorscale\":[[0.0,\"#0d0887\"],[0.1111111111111111,\"#46039f\"],[0.2222222222222222,\"#7201a8\"],[0.3333333333333333,\"#9c179e\"],[0.4444444444444444,\"#bd3786\"],[0.5555555555555556,\"#d8576b\"],[0.6666666666666666,\"#ed7953\"],[0.7777777777777778,\"#fb9f3a\"],[0.8888888888888888,\"#fdca26\"],[1.0,\"#f0f921\"]]}],\"mesh3d\":[{\"type\":\"mesh3d\",\"colorbar\":{\"outlinewidth\":0,\"ticks\":\"\"}}],\"scatter\":[{\"fillpattern\":{\"fillmode\":\"overlay\",\"size\":10,\"solidity\":0.2},\"type\":\"scatter\"}],\"parcoords\":[{\"type\":\"parcoords\",\"line\":{\"colorbar\":{\"outlinewidth\":0,\"ticks\":\"\"}}}],\"scatterpolargl\":[{\"type\":\"scatterpolargl\",\"marker\":{\"colorbar\":{\"outlinewidth\":0,\"ticks\":\"\"}}}],\"bar\":[{\"error_x\":{\"color\":\"#2a3f5f\"},\"error_y\":{\"color\":\"#2a3f5f\"},\"marker\":{\"line\":{\"color\":\"#E5ECF6\",\"width\":0.5},\"pattern\":{\"fillmode\":\"overlay\",\"size\":10,\"solidity\":0.2}},\"type\":\"bar\"}],\"scattergeo\":[{\"type\":\"scattergeo\",\"marker\":{\"colorbar\":{\"outlinewidth\":0,\"ticks\":\"\"}}}],\"scatterpolar\":[{\"type\":\"scatterpolar\",\"marker\":{\"colorbar\":{\"outlinewidth\":0,\"ticks\":\"\"}}}],\"histogram\":[{\"marker\":{\"pattern\":{\"fillmode\":\"overlay\",\"size\":10,\"solidity\":0.2}},\"type\":\"histogram\"}],\"scattergl\":[{\"type\":\"scattergl\",\"marker\":{\"colorbar\":{\"outlinewidth\":0,\"ticks\":\"\"}}}],\"scatter3d\":[{\"type\":\"scatter3d\",\"line\":{\"colorbar\":{\"outlinewidth\":0,\"ticks\":\"\"}},\"marker\":{\"colorbar\":{\"outlinewidth\":0,\"ticks\":\"\"}}}],\"scattermapbox\":[{\"type\":\"scattermapbox\",\"marker\":{\"colorbar\":{\"outlinewidth\":0,\"ticks\":\"\"}}}],\"scatterternary\":[{\"type\":\"scatterternary\",\"marker\":{\"colorbar\":{\"outlinewidth\":0,\"ticks\":\"\"}}}],\"scattercarpet\":[{\"type\":\"scattercarpet\",\"marker\":{\"colorbar\":{\"outlinewidth\":0,\"ticks\":\"\"}}}],\"carpet\":[{\"aaxis\":{\"endlinecolor\":\"#2a3f5f\",\"gridcolor\":\"white\",\"linecolor\":\"white\",\"minorgridcolor\":\"white\",\"startlinecolor\":\"#2a3f5f\"},\"baxis\":{\"endlinecolor\":\"#2a3f5f\",\"gridcolor\":\"white\",\"linecolor\":\"white\",\"minorgridcolor\":\"white\",\"startlinecolor\":\"#2a3f5f\"},\"type\":\"carpet\"}],\"table\":[{\"cells\":{\"fill\":{\"color\":\"#EBF0F8\"},\"line\":{\"color\":\"white\"}},\"header\":{\"fill\":{\"color\":\"#C8D4E3\"},\"line\":{\"color\":\"white\"}},\"type\":\"table\"}],\"barpolar\":[{\"marker\":{\"line\":{\"color\":\"#E5ECF6\",\"width\":0.5},\"pattern\":{\"fillmode\":\"overlay\",\"size\":10,\"solidity\":0.2}},\"type\":\"barpolar\"}],\"pie\":[{\"automargin\":true,\"type\":\"pie\"}]},\"layout\":{\"autotypenumbers\":\"strict\",\"colorway\":[\"#636efa\",\"#EF553B\",\"#00cc96\",\"#ab63fa\",\"#FFA15A\",\"#19d3f3\",\"#FF6692\",\"#B6E880\",\"#FF97FF\",\"#FECB52\"],\"font\":{\"color\":\"#2a3f5f\"},\"hovermode\":\"closest\",\"hoverlabel\":{\"align\":\"left\"},\"paper_bgcolor\":\"white\",\"plot_bgcolor\":\"#E5ECF6\",\"polar\":{\"bgcolor\":\"#E5ECF6\",\"angularaxis\":{\"gridcolor\":\"white\",\"linecolor\":\"white\",\"ticks\":\"\"},\"radialaxis\":{\"gridcolor\":\"white\",\"linecolor\":\"white\",\"ticks\":\"\"}},\"ternary\":{\"bgcolor\":\"#E5ECF6\",\"aaxis\":{\"gridcolor\":\"white\",\"linecolor\":\"white\",\"ticks\":\"\"},\"baxis\":{\"gridcolor\":\"white\",\"linecolor\":\"white\",\"ticks\":\"\"},\"caxis\":{\"gridcolor\":\"white\",\"linecolor\":\"white\",\"ticks\":\"\"}},\"coloraxis\":{\"colorbar\":{\"outlinewidth\":0,\"ticks\":\"\"}},\"colorscale\":{\"sequential\":[[0.0,\"#0d0887\"],[0.1111111111111111,\"#46039f\"],[0.2222222222222222,\"#7201a8\"],[0.3333333333333333,\"#9c179e\"],[0.4444444444444444,\"#bd3786\"],[0.5555555555555556,\"#d8576b\"],[0.6666666666666666,\"#ed7953\"],[0.7777777777777778,\"#fb9f3a\"],[0.8888888888888888,\"#fdca26\"],[1.0,\"#f0f921\"]],\"sequentialminus\":[[0.0,\"#0d0887\"],[0.1111111111111111,\"#46039f\"],[0.2222222222222222,\"#7201a8\"],[0.3333333333333333,\"#9c179e\"],[0.4444444444444444,\"#bd3786\"],[0.5555555555555556,\"#d8576b\"],[0.6666666666666666,\"#ed7953\"],[0.7777777777777778,\"#fb9f3a\"],[0.8888888888888888,\"#fdca26\"],[1.0,\"#f0f921\"]],\"diverging\":[[0,\"#8e0152\"],[0.1,\"#c51b7d\"],[0.2,\"#de77ae\"],[0.3,\"#f1b6da\"],[0.4,\"#fde0ef\"],[0.5,\"#f7f7f7\"],[0.6,\"#e6f5d0\"],[0.7,\"#b8e186\"],[0.8,\"#7fbc41\"],[0.9,\"#4d9221\"],[1,\"#276419\"]]},\"xaxis\":{\"gridcolor\":\"white\",\"linecolor\":\"white\",\"ticks\":\"\",\"title\":{\"standoff\":15},\"zerolinecolor\":\"white\",\"automargin\":true,\"zerolinewidth\":2},\"yaxis\":{\"gridcolor\":\"white\",\"linecolor\":\"white\",\"ticks\":\"\",\"title\":{\"standoff\":15},\"zerolinecolor\":\"white\",\"automargin\":true,\"zerolinewidth\":2},\"scene\":{\"xaxis\":{\"backgroundcolor\":\"#E5ECF6\",\"gridcolor\":\"white\",\"linecolor\":\"white\",\"showbackground\":true,\"ticks\":\"\",\"zerolinecolor\":\"white\",\"gridwidth\":2},\"yaxis\":{\"backgroundcolor\":\"#E5ECF6\",\"gridcolor\":\"white\",\"linecolor\":\"white\",\"showbackground\":true,\"ticks\":\"\",\"zerolinecolor\":\"white\",\"gridwidth\":2},\"zaxis\":{\"backgroundcolor\":\"#E5ECF6\",\"gridcolor\":\"white\",\"linecolor\":\"white\",\"showbackground\":true,\"ticks\":\"\",\"zerolinecolor\":\"white\",\"gridwidth\":2}},\"shapedefaults\":{\"line\":{\"color\":\"#2a3f5f\"}},\"annotationdefaults\":{\"arrowcolor\":\"#2a3f5f\",\"arrowhead\":0,\"arrowwidth\":1},\"geo\":{\"bgcolor\":\"white\",\"landcolor\":\"#E5ECF6\",\"subunitcolor\":\"white\",\"showland\":true,\"showlakes\":true,\"lakecolor\":\"white\"},\"title\":{\"x\":0.05},\"mapbox\":{\"style\":\"light\"}}},\"xaxis\":{\"anchor\":\"y\",\"domain\":[0.0,1.0],\"title\":{\"text\":\"category\"},\"categoryorder\":\"array\",\"categoryarray\":[\"Batteries\",\"Business Laptop\",\"External Solid State Drives\",\"Gaming Laptop\",\"Graphic Card\",\"Internal HDD\",\"Keyboard\",\"MotherBoard\",\"Mouse\",\"Personal Desktop\",\"Personal Laptop\",\"Processors\",\"USB Flash Drives\",\"Wi fi extender\"]},\"yaxis\":{\"anchor\":\"x\",\"domain\":[0.0,1.0],\"title\":{\"text\":\"total_sold_quantity\"}},\"legend\":{\"title\":{\"text\":\"category\"},\"tracegroupgap\":0},\"title\":{\"text\":\"Distribution of Manufacturing Costs by Product\"},\"barmode\":\"relative\"},                        {\"responsive\": true}                    ).then(function(){\n",
              "                            \n",
              "var gd = document.getElementById('90bf0031-cb49-42bb-8916-1e51981e18a7');\n",
              "var x = new MutationObserver(function (mutations, observer) {{\n",
              "        var display = window.getComputedStyle(gd).display;\n",
              "        if (!display || display === 'none') {{\n",
              "            console.log([gd, 'removed!']);\n",
              "            Plotly.purge(gd);\n",
              "            observer.disconnect();\n",
              "        }}\n",
              "}});\n",
              "\n",
              "// Listen for the removal of the full notebook cells\n",
              "var notebookContainer = gd.closest('#notebook-container');\n",
              "if (notebookContainer) {{\n",
              "    x.observe(notebookContainer, {childList: true});\n",
              "}}\n",
              "\n",
              "// Listen for the clearing of the current output cell\n",
              "var outputEl = gd.closest('.output');\n",
              "if (outputEl) {{\n",
              "    x.observe(outputEl, {childList: true});\n",
              "}}\n",
              "\n",
              "                        })                };                            </script>        </div>\n",
              "</body>\n",
              "</html>"
            ]
          },
          "metadata": {}
        }
      ]
    },
    {
      "cell_type": "markdown",
      "source": [],
      "metadata": {
        "id": "7P9bizPUpNHu"
      }
    },
    {
      "cell_type": "code",
      "source": [
        "import altair as alt\n",
        "import datapane as dp\n",
        "dp.enable_logging()"
      ],
      "metadata": {
        "colab": {
          "base_uri": "https://localhost:8080/"
        },
        "id": "dkbc89TnWX0w",
        "outputId": "57c30118-9305-4cd6-e9d4-981080833251"
      },
      "execution_count": null,
      "outputs": [
        {
          "output_type": "stream",
          "name": "stderr",
          "text": [
            "WARNING:datapane:Configuring datapane logging in library mode\n"
          ]
        }
      ]
    },
    {
      "cell_type": "markdown",
      "source": [
        "Putting it into a Datapane report"
      ],
      "metadata": {
        "id": "yUeB-eFuI50U"
      }
    },
    {
      "cell_type": "code",
      "source": [
        "customers = tables[tables[\"TABLE_NAME\"] == \"dim_customer\"][\"row_count\"].values[0]\n",
        "markets = tables[tables[\"TABLE_NAME\"] == \"dim_market\"][\"row_count\"].values[0]\n",
        "products = tables[tables[\"TABLE_NAME\"] == \"dim_product\"][\"row_count\"].values[0]\n",
        "post_invoice_deductions = tables[tables[\"TABLE_NAME\"] == \"post_invoice_deductions\"][\"row_count\"].values[0]"
      ],
      "metadata": {
        "id": "H_l6Vm6npH5r"
      },
      "execution_count": null,
      "outputs": []
    },
    {
      "cell_type": "code",
      "source": [
        "r = dp.View(\n",
        "    dp.Group(\n",
        "        dp.BigNumber(heading=\"Total customers\", value=customers),\n",
        "        dp.BigNumber(heading=\"Total markets\", value=markets),\n",
        "        dp.BigNumber(heading=\"Total products sold\", value=products),\n",
        "        columns=3,\n",
        "        name=\"Little_group\",\n",
        "    ),\n",
        "    dp.Plot(total_sales_plot, name=\"total_sales\"),\n",
        "    dp.Plot(monthly_tales_trends, name=\"monthly_tales_trends\"),\n",
        "    dp.Group(dp.Plot(market_share), dp.Plot(sales_trend), dp.Plot(top_3_purchases), dp.Plot(total_sold_plot), columns=2),\n",
        ")\n",
        "\n",
        "dp.save_report(r, \"report.html\", open=True)"
      ],
      "metadata": {
        "colab": {
          "base_uri": "https://localhost:8080/",
          "height": 324
        },
        "id": "zKqW_5BELQ6b",
        "outputId": "be136281-cd94-4ea0-edfa-0f414af79641"
      },
      "execution_count": null,
      "outputs": [
        {
          "output_type": "stream",
          "name": "stderr",
          "text": [
            "[\u001b[34m01:08:00\u001b[0m] [\u001b[36mDEBUG\u001b[0m] <View version=\"1\" fragment=\"false\">\n",
            "  <Group name=\"Little_group\" columns=\"3\" valign=\"top\">\n",
            "    <BigNumber heading=\"Total customers\" value=\"209\" is_positive_intent=\"false\" is_upward_change=\"false\"/>\n",
            "    <BigNumber heading=\"Total markets\" value=\"27\" is_positive_intent=\"false\" is_upward_change=\"false\"/>\n",
            "    <BigNumber heading=\"Total products sold\" value=\"397\" is_positive_intent=\"false\" is_upward_change=\"false\"/>\n",
            "  </Group>\n",
            "  <Plot type=\"application/vnd.plotly.v1+json\" name=\"total_sales\" responsive=\"true\" scale=\"1.0\" src=\"ref://327e8c233a\"/>\n",
            "  <Plot type=\"application/vnd.plotly.v1+json\" name=\"monthly_tales_trends\" responsive=\"true\" scale=\"1.0\" src=\"ref://a7e457a162\"/>\n",
            "  <Group columns=\"2\" valign=\"top\">\n",
            "    <Plot type=\"application/vnd.plotly.v1+json\" responsive=\"true\" scale=\"1.0\" src=\"ref://e90514c238\"/>\n",
            "    <Plot type=\"application/vnd.plotly.v1+json\" responsive=\"true\" scale=\"1.0\" src=\"ref://09ebbb4dda\"/>\n",
            "    <Plot type=\"application/vnd.plotly.v1+json\" responsive=\"true\" scale=\"1.0\" src=\"ref://6d796da5f1\"/>\n",
            "    <Plot type=\"application/vnd.plotly.v1+json\" responsive=\"true\" scale=\"1.0\" src=\"ref://f69c1be1fe\"/>\n",
            "  </Group>\n",
            "</View>\n",
            "\u001b[0m\n"
          ]
        },
        {
          "output_type": "display_data",
          "data": {
            "text/plain": [
              "<IPython.core.display.Markdown object>"
            ],
            "text/markdown": "App saved to ./report.html"
          },
          "metadata": {}
        }
      ]
    },
    {
      "cell_type": "code",
      "source": [
        "import IPython\n",
        "IPython.display.HTML(filename='report.html')"
      ],
      "metadata": {
        "id": "MMrDdyt9SSl5",
        "colab": {
          "base_uri": "https://localhost:8080/",
          "height": 1000
        },
        "outputId": "fc57478c-ca4c-41f4-84b6-5e9c416a3261"
      },
      "execution_count": null,
      "outputs": [
        {
          "output_type": "execute_result",
          "data": {
            "text/plain": [
              "<IPython.core.display.HTML object>"
            ],
            "text/html": [
              "<!doctype html>\n",
              "<html lang=\"en\">\n",
              "  <head>\n",
              "<meta charset=\"UTF-8\" />\n",
              "\n",
              "<link rel=\"shortcut icon\" type=\"image/png\" href=\"https://datapane-cdn.com/static/v1/datapane-icon-192x192.png\"/>\n",
              "<link rel=\"shortcut icon\" sizes=\"192x192\" href=\"https://datapane-cdn.com/static/v1/datapane-icon-192x192.png\"/>\n",
              "<link rel=\"apple-touch-icon\" href=\"https://datapane-cdn.com/static/v1/datapane-icon-192x192.png\"/>\n",
              "\n",
              "<script src=\"https://kit.fontawesome.com/256c714d9a.js\"></script>\n",
              "<link\n",
              "  href=\"https://fonts.googleapis.com/css?family=Inter:400,500,600,700|Inconsolata|Karla|Rubik&display=swap\"\n",
              "  rel=\"stylesheet\"\n",
              "/>\n",
              "<link rel=\"stylesheet\" href=\"https://datapane-cdn.com/v0.17.0/report/index.css\" />\n",
              "<link rel=\"stylesheet\" href=\"https://datapane-cdn.com/v0.17.0/report/tailwind.css\" />\n",
              "<script>\n",
              "  // analytics config\n",
              "  // TODO -- pass these in as props for consistency?\n",
              "  window.dpAppRunner = false;\n",
              "  window.dpLocal = true;\n",
              "\n",
              "  /* construct the view */\n",
              "  const htmlHeader = `<style type=\"text/css\">:root {\n",
              "    --dp-accent-color: #4E46E5;\n",
              "    --dp-bg-color: #FFF;\n",
              "    --dp-text-align: left;\n",
              "    --dp-font-family: Inter, ui-sans-serif, system-ui;\n",
              "}</style>`;\n",
              "  window.reportProps = { htmlHeader, isLightProse: false, isOrg: false, mode: \"VIEW\", reportWidthClass: \"max-w-screen-xl\" };\n",
              "\n",
              "  if (!window.dpAppRunner) {\n",
              "      // pass app data via props if in local (static) mode, otherwise this data is fetched from the server\n",
              "      window.reportProps[\"appData\"] = { data: { result: {\"view_xml\": \"\\u003cView version=\\\"1\\\" fragment=\\\"false\\\"\\u003e\\u003cGroup name=\\\"Little_group\\\" columns=\\\"3\\\" valign=\\\"top\\\"\\u003e\\u003cBigNumber heading=\\\"Total customers\\\" value=\\\"209\\\" is_positive_intent=\\\"false\\\" is_upward_change=\\\"false\\\"/\\u003e\\u003cBigNumber heading=\\\"Total markets\\\" value=\\\"27\\\" is_positive_intent=\\\"false\\\" is_upward_change=\\\"false\\\"/\\u003e\\u003cBigNumber heading=\\\"Total products sold\\\" value=\\\"397\\\" is_positive_intent=\\\"false\\\" is_upward_change=\\\"false\\\"/\\u003e\\u003c/Group\\u003e\\u003cPlot type=\\\"application/vnd.plotly.v1+json\\\" name=\\\"total_sales\\\" responsive=\\\"true\\\" scale=\\\"1.0\\\" src=\\\"ref://327e8c233a\\\"/\\u003e\\u003cPlot type=\\\"application/vnd.plotly.v1+json\\\" name=\\\"monthly_tales_trends\\\" responsive=\\\"true\\\" scale=\\\"1.0\\\" src=\\\"ref://a7e457a162\\\"/\\u003e\\u003cGroup columns=\\\"2\\\" valign=\\\"top\\\"\\u003e\\u003cPlot type=\\\"application/vnd.plotly.v1+json\\\" responsive=\\\"true\\\" scale=\\\"1.0\\\" src=\\\"ref://e90514c238\\\"/\\u003e\\u003cPlot type=\\\"application/vnd.plotly.v1+json\\\" responsive=\\\"true\\\" scale=\\\"1.0\\\" src=\\\"ref://09ebbb4dda\\\"/\\u003e\\u003cPlot type=\\\"application/vnd.plotly.v1+json\\\" responsive=\\\"true\\\" scale=\\\"1.0\\\" src=\\\"ref://6d796da5f1\\\"/\\u003e\\u003cPlot type=\\\"application/vnd.plotly.v1+json\\\" responsive=\\\"true\\\" scale=\\\"1.0\\\" src=\\\"ref://f69c1be1fe\\\"/\\u003e\\u003c/Group\\u003e\\u003c/View\\u003e\", \"assets\": {\"327e8c233a\": {\"src\": \"data:application/vnd.plotly.v1+json;base64,IntcImRhdGFcIjpbe1wiYWxpZ25tZW50Z3JvdXBcIjpcIlRydWVcIixcImhvdmVydGVtcGxhdGVcIjpcImNhdGVnb3J5PSV7eH1cXHUwMDNjYnJcXHUwMDNldG90YWxfcmV2ZW51ZT0le3l9XFx1MDAzY2V4dHJhXFx1MDAzZVxcdTAwM2NcXHUwMDJmZXh0cmFcXHUwMDNlXCIsXCJsZWdlbmRncm91cFwiOlwiQmF0dGVyaWVzXCIsXCJtYXJrZXJcIjp7XCJjb2xvclwiOlwiIzYzNmVmYVwiLFwicGF0dGVyblwiOntcInNoYXBlXCI6XCJcIn19LFwibmFtZVwiOlwiQmF0dGVyaWVzXCIsXCJvZmZzZXRncm91cFwiOlwiQmF0dGVyaWVzXCIsXCJvcmllbnRhdGlvblwiOlwidlwiLFwic2hvd2xlZ2VuZFwiOnRydWUsXCJ0ZXh0cG9zaXRpb25cIjpcImF1dG9cIixcInhcIjpbXCJCYXR0ZXJpZXNcIl0sXCJ4YXhpc1wiOlwieFwiLFwieVwiOls4MjI2MTQ2My4zOV0sXCJ5YXhpc1wiOlwieVwiLFwidHlwZVwiOlwiYmFyXCJ9LHtcImFsaWdubWVudGdyb3VwXCI6XCJUcnVlXCIsXCJob3ZlcnRlbXBsYXRlXCI6XCJjYXRlZ29yeT0le3h9XFx1MDAzY2JyXFx1MDAzZXRvdGFsX3JldmVudWU9JXt5fVxcdTAwM2NleHRyYVxcdTAwM2VcXHUwMDNjXFx1MDAyZmV4dHJhXFx1MDAzZVwiLFwibGVnZW5kZ3JvdXBcIjpcIkJ1c2luZXNzIExhcHRvcFwiLFwibWFya2VyXCI6e1wiY29sb3JcIjpcIiNFRjU1M0JcIixcInBhdHRlcm5cIjp7XCJzaGFwZVwiOlwiXCJ9fSxcIm5hbWVcIjpcIkJ1c2luZXNzIExhcHRvcFwiLFwib2Zmc2V0Z3JvdXBcIjpcIkJ1c2luZXNzIExhcHRvcFwiLFwib3JpZW50YXRpb25cIjpcInZcIixcInNob3dsZWdlbmRcIjp0cnVlLFwidGV4dHBvc2l0aW9uXCI6XCJhdXRvXCIsXCJ4XCI6W1wiQnVzaW5lc3MgTGFwdG9wXCJdLFwieGF4aXNcIjpcInhcIixcInlcIjpbNzAzMzUzNjIyLjcwMDhdLFwieWF4aXNcIjpcInlcIixcInR5cGVcIjpcImJhclwifSx7XCJhbGlnbm1lbnRncm91cFwiOlwiVHJ1ZVwiLFwiaG92ZXJ0ZW1wbGF0ZVwiOlwiY2F0ZWdvcnk9JXt4fVxcdTAwM2NiclxcdTAwM2V0b3RhbF9yZXZlbnVlPSV7eX1cXHUwMDNjZXh0cmFcXHUwMDNlXFx1MDAzY1xcdTAwMmZleHRyYVxcdTAwM2VcIixcImxlZ2VuZGdyb3VwXCI6XCJFeHRlcm5hbCBTb2xpZCBTdGF0ZSBEcml2ZXNcIixcIm1hcmtlclwiOntcImNvbG9yXCI6XCIjMDBjYzk2XCIsXCJwYXR0ZXJuXCI6e1wic2hhcGVcIjpcIlwifX0sXCJuYW1lXCI6XCJFeHRlcm5hbCBTb2xpZCBTdGF0ZSBEcml2ZXNcIixcIm9mZnNldGdyb3VwXCI6XCJFeHRlcm5hbCBTb2xpZCBTdGF0ZSBEcml2ZXNcIixcIm9yaWVudGF0aW9uXCI6XCJ2XCIsXCJzaG93bGVnZW5kXCI6dHJ1ZSxcInRleHRwb3NpdGlvblwiOlwiYXV0b1wiLFwieFwiOltcIkV4dGVybmFsIFNvbGlkIFN0YXRlIERyaXZlc1wiXSxcInhheGlzXCI6XCJ4XCIsXCJ5XCI6WzE4NTQ5MTM5My40NDIxXSxcInlheGlzXCI6XCJ5XCIsXCJ0eXBlXCI6XCJiYXJcIn0se1wiYWxpZ25tZW50Z3JvdXBcIjpcIlRydWVcIixcImhvdmVydGVtcGxhdGVcIjpcImNhdGVnb3J5PSV7eH1cXHUwMDNjYnJcXHUwMDNldG90YWxfcmV2ZW51ZT0le3l9XFx1MDAzY2V4dHJhXFx1MDAzZVxcdTAwM2NcXHUwMDJmZXh0cmFcXHUwMDNlXCIsXCJsZWdlbmRncm91cFwiOlwiR2FtaW5nIExhcHRvcFwiLFwibWFya2VyXCI6e1wiY29sb3JcIjpcIiNhYjYzZmFcIixcInBhdHRlcm5cIjp7XCJzaGFwZVwiOlwiXCJ9fSxcIm5hbWVcIjpcIkdhbWluZyBMYXB0b3BcIixcIm9mZnNldGdyb3VwXCI6XCJHYW1pbmcgTGFwdG9wXCIsXCJvcmllbnRhdGlvblwiOlwidlwiLFwic2hvd2xlZ2VuZFwiOnRydWUsXCJ0ZXh0cG9zaXRpb25cIjpcImF1dG9cIixcInhcIjpbXCJHYW1pbmcgTGFwdG9wXCJdLFwieGF4aXNcIjpcInhcIixcInlcIjpbNzAzOTE2NDAwLjg0MzNdLFwieWF4aXNcIjpcInlcIixcInR5cGVcIjpcImJhclwifSx7XCJhbGlnbm1lbnRncm91cFwiOlwiVHJ1ZVwiLFwiaG92ZXJ0ZW1wbGF0ZVwiOlwiY2F0ZWdvcnk9JXt4fVxcdTAwM2NiclxcdTAwM2V0b3RhbF9yZXZlbnVlPSV7eX1cXHUwMDNjZXh0cmFcXHUwMDNlXFx1MDAzY1xcdTAwMmZleHRyYVxcdTAwM2VcIixcImxlZ2VuZGdyb3VwXCI6XCJHcmFwaGljIENhcmRcIixcIm1hcmtlclwiOntcImNvbG9yXCI6XCIjRkZBMTVBXCIsXCJwYXR0ZXJuXCI6e1wic2hhcGVcIjpcIlwifX0sXCJuYW1lXCI6XCJHcmFwaGljIENhcmRcIixcIm9mZnNldGdyb3VwXCI6XCJHcmFwaGljIENhcmRcIixcIm9yaWVudGF0aW9uXCI6XCJ2XCIsXCJzaG93bGVnZW5kXCI6dHJ1ZSxcInRleHRwb3NpdGlvblwiOlwiYXV0b1wiLFwieFwiOltcIkdyYXBoaWMgQ2FyZFwiXSxcInhheGlzXCI6XCJ4XCIsXCJ5XCI6WzI4NTkxODk5NC4wMzE3XSxcInlheGlzXCI6XCJ5XCIsXCJ0eXBlXCI6XCJiYXJcIn0se1wiYWxpZ25tZW50Z3JvdXBcIjpcIlRydWVcIixcImhvdmVydGVtcGxhdGVcIjpcImNhdGVnb3J5PSV7eH1cXHUwMDNjYnJcXHUwMDNldG90YWxfcmV2ZW51ZT0le3l9XFx1MDAzY2V4dHJhXFx1MDAzZVxcdTAwM2NcXHUwMDJmZXh0cmFcXHUwMDNlXCIsXCJsZWdlbmRncm91cFwiOlwiSW50ZXJuYWwgSEREXCIsXCJtYXJrZXJcIjp7XCJjb2xvclwiOlwiIzE5ZDNmM1wiLFwicGF0dGVyblwiOntcInNoYXBlXCI6XCJcIn19LFwibmFtZVwiOlwiSW50ZXJuYWwgSEREXCIsXCJvZmZzZXRncm91cFwiOlwiSW50ZXJuYWwgSEREXCIsXCJvcmllbnRhdGlvblwiOlwidlwiLFwic2hvd2xlZ2VuZFwiOnRydWUsXCJ0ZXh0cG9zaXRpb25cIjpcImF1dG9cIixcInhcIjpbXCJJbnRlcm5hbCBIRERcIl0sXCJ4YXhpc1wiOlwieFwiLFwieVwiOls2NjQxMTE3MC43MDc4XSxcInlheGlzXCI6XCJ5XCIsXCJ0eXBlXCI6XCJiYXJcIn0se1wiYWxpZ25tZW50Z3JvdXBcIjpcIlRydWVcIixcImhvdmVydGVtcGxhdGVcIjpcImNhdGVnb3J5PSV7eH1cXHUwMDNjYnJcXHUwMDNldG90YWxfcmV2ZW51ZT0le3l9XFx1MDAzY2V4dHJhXFx1MDAzZVxcdTAwM2NcXHUwMDJmZXh0cmFcXHUwMDNlXCIsXCJsZWdlbmRncm91cFwiOlwiS2V5Ym9hcmRcIixcIm1hcmtlclwiOntcImNvbG9yXCI6XCIjRkY2NjkyXCIsXCJwYXR0ZXJuXCI6e1wic2hhcGVcIjpcIlwifX0sXCJuYW1lXCI6XCJLZXlib2FyZFwiLFwib2Zmc2V0Z3JvdXBcIjpcIktleWJvYXJkXCIsXCJvcmllbnRhdGlvblwiOlwidlwiLFwic2hvd2xlZ2VuZFwiOnRydWUsXCJ0ZXh0cG9zaXRpb25cIjpcImF1dG9cIixcInhcIjpbXCJLZXlib2FyZFwiXSxcInhheGlzXCI6XCJ4XCIsXCJ5XCI6WzQ0MjEwNjU2Ny40ODY5XSxcInlheGlzXCI6XCJ5XCIsXCJ0eXBlXCI6XCJiYXJcIn0se1wiYWxpZ25tZW50Z3JvdXBcIjpcIlRydWVcIixcImhvdmVydGVtcGxhdGVcIjpcImNhdGVnb3J5PSV7eH1cXHUwMDNjYnJcXHUwMDNldG90YWxfcmV2ZW51ZT0le3l9XFx1MDAzY2V4dHJhXFx1MDAzZVxcdTAwM2NcXHUwMDJmZXh0cmFcXHUwMDNlXCIsXCJsZWdlbmRncm91cFwiOlwiTW90aGVyQm9hcmRcIixcIm1hcmtlclwiOntcImNvbG9yXCI6XCIjQjZFODgwXCIsXCJwYXR0ZXJuXCI6e1wic2hhcGVcIjpcIlwifX0sXCJuYW1lXCI6XCJNb3RoZXJCb2FyZFwiLFwib2Zmc2V0Z3JvdXBcIjpcIk1vdGhlckJvYXJkXCIsXCJvcmllbnRhdGlvblwiOlwidlwiLFwic2hvd2xlZ2VuZFwiOnRydWUsXCJ0ZXh0cG9zaXRpb25cIjpcImF1dG9cIixcInhcIjpbXCJNb3RoZXJCb2FyZFwiXSxcInhheGlzXCI6XCJ4XCIsXCJ5XCI6WzExMTU4NzAyNi4wMzIxXSxcInlheGlzXCI6XCJ5XCIsXCJ0eXBlXCI6XCJiYXJcIn0se1wiYWxpZ25tZW50Z3JvdXBcIjpcIlRydWVcIixcImhvdmVydGVtcGxhdGVcIjpcImNhdGVnb3J5PSV7eH1cXHUwMDNjYnJcXHUwMDNldG90YWxfcmV2ZW51ZT0le3l9XFx1MDAzY2V4dHJhXFx1MDAzZVxcdTAwM2NcXHUwMDJmZXh0cmFcXHUwMDNlXCIsXCJsZWdlbmRncm91cFwiOlwiTW91c2VcIixcIm1hcmtlclwiOntcImNvbG9yXCI6XCIjRkY5N0ZGXCIsXCJwYXR0ZXJuXCI6e1wic2hhcGVcIjpcIlwifX0sXCJuYW1lXCI6XCJNb3VzZVwiLFwib2Zmc2V0Z3JvdXBcIjpcIk1vdXNlXCIsXCJvcmllbnRhdGlvblwiOlwidlwiLFwic2hvd2xlZ2VuZFwiOnRydWUsXCJ0ZXh0cG9zaXRpb25cIjpcImF1dG9cIixcInhcIjpbXCJNb3VzZVwiXSxcInhheGlzXCI6XCJ4XCIsXCJ5XCI6WzMwNjAxNjU0MC4xMzAzXSxcInlheGlzXCI6XCJ5XCIsXCJ0eXBlXCI6XCJiYXJcIn0se1wiYWxpZ25tZW50Z3JvdXBcIjpcIlRydWVcIixcImhvdmVydGVtcGxhdGVcIjpcImNhdGVnb3J5PSV7eH1cXHUwMDNjYnJcXHUwMDNldG90YWxfcmV2ZW51ZT0le3l9XFx1MDAzY2V4dHJhXFx1MDAzZVxcdTAwM2NcXHUwMDJmZXh0cmFcXHUwMDNlXCIsXCJsZWdlbmRncm91cFwiOlwiUGVyc29uYWwgRGVza3RvcFwiLFwibWFya2VyXCI6e1wiY29sb3JcIjpcIiNGRUNCNTJcIixcInBhdHRlcm5cIjp7XCJzaGFwZVwiOlwiXCJ9fSxcIm5hbWVcIjpcIlBlcnNvbmFsIERlc2t0b3BcIixcIm9mZnNldGdyb3VwXCI6XCJQZXJzb25hbCBEZXNrdG9wXCIsXCJvcmllbnRhdGlvblwiOlwidlwiLFwic2hvd2xlZ2VuZFwiOnRydWUsXCJ0ZXh0cG9zaXRpb25cIjpcImF1dG9cIixcInhcIjpbXCJQZXJzb25hbCBEZXNrdG9wXCJdLFwieGF4aXNcIjpcInhcIixcInlcIjpbMjQxMzU1NjE0LjUxNjZdLFwieWF4aXNcIjpcInlcIixcInR5cGVcIjpcImJhclwifSx7XCJhbGlnbm1lbnRncm91cFwiOlwiVHJ1ZVwiLFwiaG92ZXJ0ZW1wbGF0ZVwiOlwiY2F0ZWdvcnk9JXt4fVxcdTAwM2NiclxcdTAwM2V0b3RhbF9yZXZlbnVlPSV7eX1cXHUwMDNjZXh0cmFcXHUwMDNlXFx1MDAzY1xcdTAwMmZleHRyYVxcdTAwM2VcIixcImxlZ2VuZGdyb3VwXCI6XCJQZXJzb25hbCBMYXB0b3BcIixcIm1hcmtlclwiOntcImNvbG9yXCI6XCIjNjM2ZWZhXCIsXCJwYXR0ZXJuXCI6e1wic2hhcGVcIjpcIlwifX0sXCJuYW1lXCI6XCJQZXJzb25hbCBMYXB0b3BcIixcIm9mZnNldGdyb3VwXCI6XCJQZXJzb25hbCBMYXB0b3BcIixcIm9yaWVudGF0aW9uXCI6XCJ2XCIsXCJzaG93bGVnZW5kXCI6dHJ1ZSxcInRleHRwb3NpdGlvblwiOlwiYXV0b1wiLFwieFwiOltcIlBlcnNvbmFsIExhcHRvcFwiXSxcInhheGlzXCI6XCJ4XCIsXCJ5XCI6WzU1NjY0MTM0NC4wMjMzXSxcInlheGlzXCI6XCJ5XCIsXCJ0eXBlXCI6XCJiYXJcIn0se1wiYWxpZ25tZW50Z3JvdXBcIjpcIlRydWVcIixcImhvdmVydGVtcGxhdGVcIjpcImNhdGVnb3J5PSV7eH1cXHUwMDNjYnJcXHUwMDNldG90YWxfcmV2ZW51ZT0le3l9XFx1MDAzY2V4dHJhXFx1MDAzZVxcdTAwM2NcXHUwMDJmZXh0cmFcXHUwMDNlXCIsXCJsZWdlbmRncm91cFwiOlwiUHJvY2Vzc29yc1wiLFwibWFya2VyXCI6e1wiY29sb3JcIjpcIiNFRjU1M0JcIixcInBhdHRlcm5cIjp7XCJzaGFwZVwiOlwiXCJ9fSxcIm5hbWVcIjpcIlByb2Nlc3NvcnNcIixcIm9mZnNldGdyb3VwXCI6XCJQcm9jZXNzb3JzXCIsXCJvcmllbnRhdGlvblwiOlwidlwiLFwic2hvd2xlZ2VuZFwiOnRydWUsXCJ0ZXh0cG9zaXRpb25cIjpcImF1dG9cIixcInhcIjpbXCJQcm9jZXNzb3JzXCJdLFwieGF4aXNcIjpcInhcIixcInlcIjpbNzEzNzAwNzY2LjAyMzFdLFwieWF4aXNcIjpcInlcIixcInR5cGVcIjpcImJhclwifSx7XCJhbGlnbm1lbnRncm91cFwiOlwiVHJ1ZVwiLFwiaG92ZXJ0ZW1wbGF0ZVwiOlwiY2F0ZWdvcnk9JXt4fVxcdTAwM2NiclxcdTAwM2V0b3RhbF9yZXZlbnVlPSV7eX1cXHUwMDNjZXh0cmFcXHUwMDNlXFx1MDAzY1xcdTAwMmZleHRyYVxcdTAwM2VcIixcImxlZ2VuZGdyb3VwXCI6XCJVU0IgRmxhc2ggRHJpdmVzXCIsXCJtYXJrZXJcIjp7XCJjb2xvclwiOlwiIzAwY2M5NlwiLFwicGF0dGVyblwiOntcInNoYXBlXCI6XCJcIn19LFwibmFtZVwiOlwiVVNCIEZsYXNoIERyaXZlc1wiLFwib2Zmc2V0Z3JvdXBcIjpcIlVTQiBGbGFzaCBEcml2ZXNcIixcIm9yaWVudGF0aW9uXCI6XCJ2XCIsXCJzaG93bGVnZW5kXCI6dHJ1ZSxcInRleHRwb3NpdGlvblwiOlwiYXV0b1wiLFwieFwiOltcIlVTQiBGbGFzaCBEcml2ZXNcIl0sXCJ4YXhpc1wiOlwieFwiLFwieVwiOlsxMzIyODUyNi40MzI3XSxcInlheGlzXCI6XCJ5XCIsXCJ0eXBlXCI6XCJiYXJcIn0se1wiYWxpZ25tZW50Z3JvdXBcIjpcIlRydWVcIixcImhvdmVydGVtcGxhdGVcIjpcImNhdGVnb3J5PSV7eH1cXHUwMDNjYnJcXHUwMDNldG90YWxfcmV2ZW51ZT0le3l9XFx1MDAzY2V4dHJhXFx1MDAzZVxcdTAwM2NcXHUwMDJmZXh0cmFcXHUwMDNlXCIsXCJsZWdlbmRncm91cFwiOlwiV2kgZmkgZXh0ZW5kZXJcIixcIm1hcmtlclwiOntcImNvbG9yXCI6XCIjYWI2M2ZhXCIsXCJwYXR0ZXJuXCI6e1wic2hhcGVcIjpcIlwifX0sXCJuYW1lXCI6XCJXaSBmaSBleHRlbmRlclwiLFwib2Zmc2V0Z3JvdXBcIjpcIldpIGZpIGV4dGVuZGVyXCIsXCJvcmllbnRhdGlvblwiOlwidlwiLFwic2hvd2xlZ2VuZFwiOnRydWUsXCJ0ZXh0cG9zaXRpb25cIjpcImF1dG9cIixcInhcIjpbXCJXaSBmaSBleHRlbmRlclwiXSxcInhheGlzXCI6XCJ4XCIsXCJ5XCI6WzE3MTkyODY2MS40Mzk0XSxcInlheGlzXCI6XCJ5XCIsXCJ0eXBlXCI6XCJiYXJcIn1dLFwibGF5b3V0XCI6e1widGVtcGxhdGVcIjp7XCJkYXRhXCI6e1wiaGlzdG9ncmFtMmRjb250b3VyXCI6W3tcInR5cGVcIjpcImhpc3RvZ3JhbTJkY29udG91clwiLFwiY29sb3JiYXJcIjp7XCJvdXRsaW5ld2lkdGhcIjowLFwidGlja3NcIjpcIlwifSxcImNvbG9yc2NhbGVcIjpbWzAuMCxcIiMwZDA4ODdcIl0sWzAuMTExMTExMTExMTExMTExMSxcIiM0NjAzOWZcIl0sWzAuMjIyMjIyMjIyMjIyMjIyMixcIiM3MjAxYThcIl0sWzAuMzMzMzMzMzMzMzMzMzMzMyxcIiM5YzE3OWVcIl0sWzAuNDQ0NDQ0NDQ0NDQ0NDQ0NCxcIiNiZDM3ODZcIl0sWzAuNTU1NTU1NTU1NTU1NTU1NixcIiNkODU3NmJcIl0sWzAuNjY2NjY2NjY2NjY2NjY2NixcIiNlZDc5NTNcIl0sWzAuNzc3Nzc3Nzc3Nzc3Nzc3OCxcIiNmYjlmM2FcIl0sWzAuODg4ODg4ODg4ODg4ODg4OCxcIiNmZGNhMjZcIl0sWzEuMCxcIiNmMGY5MjFcIl1dfV0sXCJjaG9yb3BsZXRoXCI6W3tcInR5cGVcIjpcImNob3JvcGxldGhcIixcImNvbG9yYmFyXCI6e1wib3V0bGluZXdpZHRoXCI6MCxcInRpY2tzXCI6XCJcIn19XSxcImhpc3RvZ3JhbTJkXCI6W3tcInR5cGVcIjpcImhpc3RvZ3JhbTJkXCIsXCJjb2xvcmJhclwiOntcIm91dGxpbmV3aWR0aFwiOjAsXCJ0aWNrc1wiOlwiXCJ9LFwiY29sb3JzY2FsZVwiOltbMC4wLFwiIzBkMDg4N1wiXSxbMC4xMTExMTExMTExMTExMTExLFwiIzQ2MDM5ZlwiXSxbMC4yMjIyMjIyMjIyMjIyMjIyLFwiIzcyMDFhOFwiXSxbMC4zMzMzMzMzMzMzMzMzMzMzLFwiIzljMTc5ZVwiXSxbMC40NDQ0NDQ0NDQ0NDQ0NDQ0LFwiI2JkMzc4NlwiXSxbMC41NTU1NTU1NTU1NTU1NTU2LFwiI2Q4NTc2YlwiXSxbMC42NjY2NjY2NjY2NjY2NjY2LFwiI2VkNzk1M1wiXSxbMC43Nzc3Nzc3Nzc3Nzc3Nzc4LFwiI2ZiOWYzYVwiXSxbMC44ODg4ODg4ODg4ODg4ODg4LFwiI2ZkY2EyNlwiXSxbMS4wLFwiI2YwZjkyMVwiXV19XSxcImhlYXRtYXBcIjpbe1widHlwZVwiOlwiaGVhdG1hcFwiLFwiY29sb3JiYXJcIjp7XCJvdXRsaW5ld2lkdGhcIjowLFwidGlja3NcIjpcIlwifSxcImNvbG9yc2NhbGVcIjpbWzAuMCxcIiMwZDA4ODdcIl0sWzAuMTExMTExMTExMTExMTExMSxcIiM0NjAzOWZcIl0sWzAuMjIyMjIyMjIyMjIyMjIyMixcIiM3MjAxYThcIl0sWzAuMzMzMzMzMzMzMzMzMzMzMyxcIiM5YzE3OWVcIl0sWzAuNDQ0NDQ0NDQ0NDQ0NDQ0NCxcIiNiZDM3ODZcIl0sWzAuNTU1NTU1NTU1NTU1NTU1NixcIiNkODU3NmJcIl0sWzAuNjY2NjY2NjY2NjY2NjY2NixcIiNlZDc5NTNcIl0sWzAuNzc3Nzc3Nzc3Nzc3Nzc3OCxcIiNmYjlmM2FcIl0sWzAuODg4ODg4ODg4ODg4ODg4OCxcIiNmZGNhMjZcIl0sWzEuMCxcIiNmMGY5MjFcIl1dfV0sXCJoZWF0bWFwZ2xcIjpbe1widHlwZVwiOlwiaGVhdG1hcGdsXCIsXCJjb2xvcmJhclwiOntcIm91dGxpbmV3aWR0aFwiOjAsXCJ0aWNrc1wiOlwiXCJ9LFwiY29sb3JzY2FsZVwiOltbMC4wLFwiIzBkMDg4N1wiXSxbMC4xMTExMTExMTExMTExMTExLFwiIzQ2MDM5ZlwiXSxbMC4yMjIyMjIyMjIyMjIyMjIyLFwiIzcyMDFhOFwiXSxbMC4zMzMzMzMzMzMzMzMzMzMzLFwiIzljMTc5ZVwiXSxbMC40NDQ0NDQ0NDQ0NDQ0NDQ0LFwiI2JkMzc4NlwiXSxbMC41NTU1NTU1NTU1NTU1NTU2LFwiI2Q4NTc2YlwiXSxbMC42NjY2NjY2NjY2NjY2NjY2LFwiI2VkNzk1M1wiXSxbMC43Nzc3Nzc3Nzc3Nzc3Nzc4LFwiI2ZiOWYzYVwiXSxbMC44ODg4ODg4ODg4ODg4ODg4LFwiI2ZkY2EyNlwiXSxbMS4wLFwiI2YwZjkyMVwiXV19XSxcImNvbnRvdXJjYXJwZXRcIjpbe1widHlwZVwiOlwiY29udG91cmNhcnBldFwiLFwiY29sb3JiYXJcIjp7XCJvdXRsaW5ld2lkdGhcIjowLFwidGlja3NcIjpcIlwifX1dLFwiY29udG91clwiOlt7XCJ0eXBlXCI6XCJjb250b3VyXCIsXCJjb2xvcmJhclwiOntcIm91dGxpbmV3aWR0aFwiOjAsXCJ0aWNrc1wiOlwiXCJ9LFwiY29sb3JzY2FsZVwiOltbMC4wLFwiIzBkMDg4N1wiXSxbMC4xMTExMTExMTExMTExMTExLFwiIzQ2MDM5ZlwiXSxbMC4yMjIyMjIyMjIyMjIyMjIyLFwiIzcyMDFhOFwiXSxbMC4zMzMzMzMzMzMzMzMzMzMzLFwiIzljMTc5ZVwiXSxbMC40NDQ0NDQ0NDQ0NDQ0NDQ0LFwiI2JkMzc4NlwiXSxbMC41NTU1NTU1NTU1NTU1NTU2LFwiI2Q4NTc2YlwiXSxbMC42NjY2NjY2NjY2NjY2NjY2LFwiI2VkNzk1M1wiXSxbMC43Nzc3Nzc3Nzc3Nzc3Nzc4LFwiI2ZiOWYzYVwiXSxbMC44ODg4ODg4ODg4ODg4ODg4LFwiI2ZkY2EyNlwiXSxbMS4wLFwiI2YwZjkyMVwiXV19XSxcInN1cmZhY2VcIjpbe1widHlwZVwiOlwic3VyZmFjZVwiLFwiY29sb3JiYXJcIjp7XCJvdXRsaW5ld2lkdGhcIjowLFwidGlja3NcIjpcIlwifSxcImNvbG9yc2NhbGVcIjpbWzAuMCxcIiMwZDA4ODdcIl0sWzAuMTExMTExMTExMTExMTExMSxcIiM0NjAzOWZcIl0sWzAuMjIyMjIyMjIyMjIyMjIyMixcIiM3MjAxYThcIl0sWzAuMzMzMzMzMzMzMzMzMzMzMyxcIiM5YzE3OWVcIl0sWzAuNDQ0NDQ0NDQ0NDQ0NDQ0NCxcIiNiZDM3ODZcIl0sWzAuNTU1NTU1NTU1NTU1NTU1NixcIiNkODU3NmJcIl0sWzAuNjY2NjY2NjY2NjY2NjY2NixcIiNlZDc5NTNcIl0sWzAuNzc3Nzc3Nzc3Nzc3Nzc3OCxcIiNmYjlmM2FcIl0sWzAuODg4ODg4ODg4ODg4ODg4OCxcIiNmZGNhMjZcIl0sWzEuMCxcIiNmMGY5MjFcIl1dfV0sXCJtZXNoM2RcIjpbe1widHlwZVwiOlwibWVzaDNkXCIsXCJjb2xvcmJhclwiOntcIm91dGxpbmV3aWR0aFwiOjAsXCJ0aWNrc1wiOlwiXCJ9fV0sXCJzY2F0dGVyXCI6W3tcImZpbGxwYXR0ZXJuXCI6e1wiZmlsbG1vZGVcIjpcIm92ZXJsYXlcIixcInNpemVcIjoxMCxcInNvbGlkaXR5XCI6MC4yfSxcInR5cGVcIjpcInNjYXR0ZXJcIn1dLFwicGFyY29vcmRzXCI6W3tcInR5cGVcIjpcInBhcmNvb3Jkc1wiLFwibGluZVwiOntcImNvbG9yYmFyXCI6e1wib3V0bGluZXdpZHRoXCI6MCxcInRpY2tzXCI6XCJcIn19fV0sXCJzY2F0dGVycG9sYXJnbFwiOlt7XCJ0eXBlXCI6XCJzY2F0dGVycG9sYXJnbFwiLFwibWFya2VyXCI6e1wiY29sb3JiYXJcIjp7XCJvdXRsaW5ld2lkdGhcIjowLFwidGlja3NcIjpcIlwifX19XSxcImJhclwiOlt7XCJlcnJvcl94XCI6e1wiY29sb3JcIjpcIiMyYTNmNWZcIn0sXCJlcnJvcl95XCI6e1wiY29sb3JcIjpcIiMyYTNmNWZcIn0sXCJtYXJrZXJcIjp7XCJsaW5lXCI6e1wiY29sb3JcIjpcIiNFNUVDRjZcIixcIndpZHRoXCI6MC41fSxcInBhdHRlcm5cIjp7XCJmaWxsbW9kZVwiOlwib3ZlcmxheVwiLFwic2l6ZVwiOjEwLFwic29saWRpdHlcIjowLjJ9fSxcInR5cGVcIjpcImJhclwifV0sXCJzY2F0dGVyZ2VvXCI6W3tcInR5cGVcIjpcInNjYXR0ZXJnZW9cIixcIm1hcmtlclwiOntcImNvbG9yYmFyXCI6e1wib3V0bGluZXdpZHRoXCI6MCxcInRpY2tzXCI6XCJcIn19fV0sXCJzY2F0dGVycG9sYXJcIjpbe1widHlwZVwiOlwic2NhdHRlcnBvbGFyXCIsXCJtYXJrZXJcIjp7XCJjb2xvcmJhclwiOntcIm91dGxpbmV3aWR0aFwiOjAsXCJ0aWNrc1wiOlwiXCJ9fX1dLFwiaGlzdG9ncmFtXCI6W3tcIm1hcmtlclwiOntcInBhdHRlcm5cIjp7XCJmaWxsbW9kZVwiOlwib3ZlcmxheVwiLFwic2l6ZVwiOjEwLFwic29saWRpdHlcIjowLjJ9fSxcInR5cGVcIjpcImhpc3RvZ3JhbVwifV0sXCJzY2F0dGVyZ2xcIjpbe1widHlwZVwiOlwic2NhdHRlcmdsXCIsXCJtYXJrZXJcIjp7XCJjb2xvcmJhclwiOntcIm91dGxpbmV3aWR0aFwiOjAsXCJ0aWNrc1wiOlwiXCJ9fX1dLFwic2NhdHRlcjNkXCI6W3tcInR5cGVcIjpcInNjYXR0ZXIzZFwiLFwibGluZVwiOntcImNvbG9yYmFyXCI6e1wib3V0bGluZXdpZHRoXCI6MCxcInRpY2tzXCI6XCJcIn19LFwibWFya2VyXCI6e1wiY29sb3JiYXJcIjp7XCJvdXRsaW5ld2lkdGhcIjowLFwidGlja3NcIjpcIlwifX19XSxcInNjYXR0ZXJtYXBib3hcIjpbe1widHlwZVwiOlwic2NhdHRlcm1hcGJveFwiLFwibWFya2VyXCI6e1wiY29sb3JiYXJcIjp7XCJvdXRsaW5ld2lkdGhcIjowLFwidGlja3NcIjpcIlwifX19XSxcInNjYXR0ZXJ0ZXJuYXJ5XCI6W3tcInR5cGVcIjpcInNjYXR0ZXJ0ZXJuYXJ5XCIsXCJtYXJrZXJcIjp7XCJjb2xvcmJhclwiOntcIm91dGxpbmV3aWR0aFwiOjAsXCJ0aWNrc1wiOlwiXCJ9fX1dLFwic2NhdHRlcmNhcnBldFwiOlt7XCJ0eXBlXCI6XCJzY2F0dGVyY2FycGV0XCIsXCJtYXJrZXJcIjp7XCJjb2xvcmJhclwiOntcIm91dGxpbmV3aWR0aFwiOjAsXCJ0aWNrc1wiOlwiXCJ9fX1dLFwiY2FycGV0XCI6W3tcImFheGlzXCI6e1wiZW5kbGluZWNvbG9yXCI6XCIjMmEzZjVmXCIsXCJncmlkY29sb3JcIjpcIndoaXRlXCIsXCJsaW5lY29sb3JcIjpcIndoaXRlXCIsXCJtaW5vcmdyaWRjb2xvclwiOlwid2hpdGVcIixcInN0YXJ0bGluZWNvbG9yXCI6XCIjMmEzZjVmXCJ9LFwiYmF4aXNcIjp7XCJlbmRsaW5lY29sb3JcIjpcIiMyYTNmNWZcIixcImdyaWRjb2xvclwiOlwid2hpdGVcIixcImxpbmVjb2xvclwiOlwid2hpdGVcIixcIm1pbm9yZ3JpZGNvbG9yXCI6XCJ3aGl0ZVwiLFwic3RhcnRsaW5lY29sb3JcIjpcIiMyYTNmNWZcIn0sXCJ0eXBlXCI6XCJjYXJwZXRcIn1dLFwidGFibGVcIjpbe1wiY2VsbHNcIjp7XCJmaWxsXCI6e1wiY29sb3JcIjpcIiNFQkYwRjhcIn0sXCJsaW5lXCI6e1wiY29sb3JcIjpcIndoaXRlXCJ9fSxcImhlYWRlclwiOntcImZpbGxcIjp7XCJjb2xvclwiOlwiI0M4RDRFM1wifSxcImxpbmVcIjp7XCJjb2xvclwiOlwid2hpdGVcIn19LFwidHlwZVwiOlwidGFibGVcIn1dLFwiYmFycG9sYXJcIjpbe1wibWFya2VyXCI6e1wibGluZVwiOntcImNvbG9yXCI6XCIjRTVFQ0Y2XCIsXCJ3aWR0aFwiOjAuNX0sXCJwYXR0ZXJuXCI6e1wiZmlsbG1vZGVcIjpcIm92ZXJsYXlcIixcInNpemVcIjoxMCxcInNvbGlkaXR5XCI6MC4yfX0sXCJ0eXBlXCI6XCJiYXJwb2xhclwifV0sXCJwaWVcIjpbe1wiYXV0b21hcmdpblwiOnRydWUsXCJ0eXBlXCI6XCJwaWVcIn1dfSxcImxheW91dFwiOntcImF1dG90eXBlbnVtYmVyc1wiOlwic3RyaWN0XCIsXCJjb2xvcndheVwiOltcIiM2MzZlZmFcIixcIiNFRjU1M0JcIixcIiMwMGNjOTZcIixcIiNhYjYzZmFcIixcIiNGRkExNUFcIixcIiMxOWQzZjNcIixcIiNGRjY2OTJcIixcIiNCNkU4ODBcIixcIiNGRjk3RkZcIixcIiNGRUNCNTJcIl0sXCJmb250XCI6e1wiY29sb3JcIjpcIiMyYTNmNWZcIn0sXCJob3Zlcm1vZGVcIjpcImNsb3Nlc3RcIixcImhvdmVybGFiZWxcIjp7XCJhbGlnblwiOlwibGVmdFwifSxcInBhcGVyX2JnY29sb3JcIjpcIndoaXRlXCIsXCJwbG90X2JnY29sb3JcIjpcIiNFNUVDRjZcIixcInBvbGFyXCI6e1wiYmdjb2xvclwiOlwiI0U1RUNGNlwiLFwiYW5ndWxhcmF4aXNcIjp7XCJncmlkY29sb3JcIjpcIndoaXRlXCIsXCJsaW5lY29sb3JcIjpcIndoaXRlXCIsXCJ0aWNrc1wiOlwiXCJ9LFwicmFkaWFsYXhpc1wiOntcImdyaWRjb2xvclwiOlwid2hpdGVcIixcImxpbmVjb2xvclwiOlwid2hpdGVcIixcInRpY2tzXCI6XCJcIn19LFwidGVybmFyeVwiOntcImJnY29sb3JcIjpcIiNFNUVDRjZcIixcImFheGlzXCI6e1wiZ3JpZGNvbG9yXCI6XCJ3aGl0ZVwiLFwibGluZWNvbG9yXCI6XCJ3aGl0ZVwiLFwidGlja3NcIjpcIlwifSxcImJheGlzXCI6e1wiZ3JpZGNvbG9yXCI6XCJ3aGl0ZVwiLFwibGluZWNvbG9yXCI6XCJ3aGl0ZVwiLFwidGlja3NcIjpcIlwifSxcImNheGlzXCI6e1wiZ3JpZGNvbG9yXCI6XCJ3aGl0ZVwiLFwibGluZWNvbG9yXCI6XCJ3aGl0ZVwiLFwidGlja3NcIjpcIlwifX0sXCJjb2xvcmF4aXNcIjp7XCJjb2xvcmJhclwiOntcIm91dGxpbmV3aWR0aFwiOjAsXCJ0aWNrc1wiOlwiXCJ9fSxcImNvbG9yc2NhbGVcIjp7XCJzZXF1ZW50aWFsXCI6W1swLjAsXCIjMGQwODg3XCJdLFswLjExMTExMTExMTExMTExMTEsXCIjNDYwMzlmXCJdLFswLjIyMjIyMjIyMjIyMjIyMjIsXCIjNzIwMWE4XCJdLFswLjMzMzMzMzMzMzMzMzMzMzMsXCIjOWMxNzllXCJdLFswLjQ0NDQ0NDQ0NDQ0NDQ0NDQsXCIjYmQzNzg2XCJdLFswLjU1NTU1NTU1NTU1NTU1NTYsXCIjZDg1NzZiXCJdLFswLjY2NjY2NjY2NjY2NjY2NjYsXCIjZWQ3OTUzXCJdLFswLjc3Nzc3Nzc3Nzc3Nzc3NzgsXCIjZmI5ZjNhXCJdLFswLjg4ODg4ODg4ODg4ODg4ODgsXCIjZmRjYTI2XCJdLFsxLjAsXCIjZjBmOTIxXCJdXSxcInNlcXVlbnRpYWxtaW51c1wiOltbMC4wLFwiIzBkMDg4N1wiXSxbMC4xMTExMTExMTExMTExMTExLFwiIzQ2MDM5ZlwiXSxbMC4yMjIyMjIyMjIyMjIyMjIyLFwiIzcyMDFhOFwiXSxbMC4zMzMzMzMzMzMzMzMzMzMzLFwiIzljMTc5ZVwiXSxbMC40NDQ0NDQ0NDQ0NDQ0NDQ0LFwiI2JkMzc4NlwiXSxbMC41NTU1NTU1NTU1NTU1NTU2LFwiI2Q4NTc2YlwiXSxbMC42NjY2NjY2NjY2NjY2NjY2LFwiI2VkNzk1M1wiXSxbMC43Nzc3Nzc3Nzc3Nzc3Nzc4LFwiI2ZiOWYzYVwiXSxbMC44ODg4ODg4ODg4ODg4ODg4LFwiI2ZkY2EyNlwiXSxbMS4wLFwiI2YwZjkyMVwiXV0sXCJkaXZlcmdpbmdcIjpbWzAsXCIjOGUwMTUyXCJdLFswLjEsXCIjYzUxYjdkXCJdLFswLjIsXCIjZGU3N2FlXCJdLFswLjMsXCIjZjFiNmRhXCJdLFswLjQsXCIjZmRlMGVmXCJdLFswLjUsXCIjZjdmN2Y3XCJdLFswLjYsXCIjZTZmNWQwXCJdLFswLjcsXCIjYjhlMTg2XCJdLFswLjgsXCIjN2ZiYzQxXCJdLFswLjksXCIjNGQ5MjIxXCJdLFsxLFwiIzI3NjQxOVwiXV19LFwieGF4aXNcIjp7XCJncmlkY29sb3JcIjpcIndoaXRlXCIsXCJsaW5lY29sb3JcIjpcIndoaXRlXCIsXCJ0aWNrc1wiOlwiXCIsXCJ0aXRsZVwiOntcInN0YW5kb2ZmXCI6MTV9LFwiemVyb2xpbmVjb2xvclwiOlwid2hpdGVcIixcImF1dG9tYXJnaW5cIjp0cnVlLFwiemVyb2xpbmV3aWR0aFwiOjJ9LFwieWF4aXNcIjp7XCJncmlkY29sb3JcIjpcIndoaXRlXCIsXCJsaW5lY29sb3JcIjpcIndoaXRlXCIsXCJ0aWNrc1wiOlwiXCIsXCJ0aXRsZVwiOntcInN0YW5kb2ZmXCI6MTV9LFwiemVyb2xpbmVjb2xvclwiOlwid2hpdGVcIixcImF1dG9tYXJnaW5cIjp0cnVlLFwiemVyb2xpbmV3aWR0aFwiOjJ9LFwic2NlbmVcIjp7XCJ4YXhpc1wiOntcImJhY2tncm91bmRjb2xvclwiOlwiI0U1RUNGNlwiLFwiZ3JpZGNvbG9yXCI6XCJ3aGl0ZVwiLFwibGluZWNvbG9yXCI6XCJ3aGl0ZVwiLFwic2hvd2JhY2tncm91bmRcIjp0cnVlLFwidGlja3NcIjpcIlwiLFwiemVyb2xpbmVjb2xvclwiOlwid2hpdGVcIixcImdyaWR3aWR0aFwiOjJ9LFwieWF4aXNcIjp7XCJiYWNrZ3JvdW5kY29sb3JcIjpcIiNFNUVDRjZcIixcImdyaWRjb2xvclwiOlwid2hpdGVcIixcImxpbmVjb2xvclwiOlwid2hpdGVcIixcInNob3diYWNrZ3JvdW5kXCI6dHJ1ZSxcInRpY2tzXCI6XCJcIixcInplcm9saW5lY29sb3JcIjpcIndoaXRlXCIsXCJncmlkd2lkdGhcIjoyfSxcInpheGlzXCI6e1wiYmFja2dyb3VuZGNvbG9yXCI6XCIjRTVFQ0Y2XCIsXCJncmlkY29sb3JcIjpcIndoaXRlXCIsXCJsaW5lY29sb3JcIjpcIndoaXRlXCIsXCJzaG93YmFja2dyb3VuZFwiOnRydWUsXCJ0aWNrc1wiOlwiXCIsXCJ6ZXJvbGluZWNvbG9yXCI6XCJ3aGl0ZVwiLFwiZ3JpZHdpZHRoXCI6Mn19LFwic2hhcGVkZWZhdWx0c1wiOntcImxpbmVcIjp7XCJjb2xvclwiOlwiIzJhM2Y1ZlwifX0sXCJhbm5vdGF0aW9uZGVmYXVsdHNcIjp7XCJhcnJvd2NvbG9yXCI6XCIjMmEzZjVmXCIsXCJhcnJvd2hlYWRcIjowLFwiYXJyb3d3aWR0aFwiOjF9LFwiZ2VvXCI6e1wiYmdjb2xvclwiOlwid2hpdGVcIixcImxhbmRjb2xvclwiOlwiI0U1RUNGNlwiLFwic3VidW5pdGNvbG9yXCI6XCJ3aGl0ZVwiLFwic2hvd2xhbmRcIjp0cnVlLFwic2hvd2xha2VzXCI6dHJ1ZSxcImxha2Vjb2xvclwiOlwid2hpdGVcIn0sXCJ0aXRsZVwiOntcInhcIjowLjA1fSxcIm1hcGJveFwiOntcInN0eWxlXCI6XCJsaWdodFwifX19LFwieGF4aXNcIjp7XCJhbmNob3JcIjpcInlcIixcImRvbWFpblwiOlswLjAsMS4wXSxcInRpdGxlXCI6e1widGV4dFwiOlwiY2F0ZWdvcnlcIn0sXCJjYXRlZ29yeW9yZGVyXCI6XCJhcnJheVwiLFwiY2F0ZWdvcnlhcnJheVwiOltcIkJhdHRlcmllc1wiLFwiQnVzaW5lc3MgTGFwdG9wXCIsXCJFeHRlcm5hbCBTb2xpZCBTdGF0ZSBEcml2ZXNcIixcIkdhbWluZyBMYXB0b3BcIixcIkdyYXBoaWMgQ2FyZFwiLFwiSW50ZXJuYWwgSEREXCIsXCJLZXlib2FyZFwiLFwiTW90aGVyQm9hcmRcIixcIk1vdXNlXCIsXCJQZXJzb25hbCBEZXNrdG9wXCIsXCJQZXJzb25hbCBMYXB0b3BcIixcIlByb2Nlc3NvcnNcIixcIlVTQiBGbGFzaCBEcml2ZXNcIixcIldpIGZpIGV4dGVuZGVyXCJdfSxcInlheGlzXCI6e1wiYW5jaG9yXCI6XCJ4XCIsXCJkb21haW5cIjpbMC4wLDEuMF0sXCJ0aXRsZVwiOntcInRleHRcIjpcInRvdGFsX3JldmVudWVcIn19LFwibGVnZW5kXCI6e1widGl0bGVcIjp7XCJ0ZXh0XCI6XCJjYXRlZ29yeVwifSxcInRyYWNlZ3JvdXBnYXBcIjowfSxcInRpdGxlXCI6e1widGV4dFwiOlwiVG90YWwgU2FsZXMgYnkgUHJvZHVjdCBDYXRlZ29yeVwifSxcImJhcm1vZGVcIjpcInJlbGF0aXZlXCJ9fSI=\", \"hash\": \"327e8c233a\", \"size\": 20196, \"mime\": \"application/vnd.plotly.v1+json\"}, \"a7e457a162\": {\"src\": \"data:application/vnd.plotly.v1+json;base64,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\", \"hash\": \"a7e457a162\", \"size\": 12928, \"mime\": \"application/vnd.plotly.v1+json\"}, \"e90514c238\": {\"src\": \"data:application/vnd.plotly.v1+json;base64,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\", \"hash\": \"e90514c238\", \"size\": 11240, \"mime\": \"application/vnd.plotly.v1+json\"}, \"09ebbb4dda\": {\"src\": \"data:application/vnd.plotly.v1+json;base64,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\", \"hash\": \"09ebbb4dda\", \"size\": 13760, \"mime\": \"application/vnd.plotly.v1+json\"}, \"6d796da5f1\": {\"src\": \"data:application/vnd.plotly.v1+json;base64,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\", \"hash\": \"6d796da5f1\", \"size\": 11152, \"mime\": \"application/vnd.plotly.v1+json\"}, \"f69c1be1fe\": {\"src\": \"data:application/vnd.plotly.v1+json;base64,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\", \"hash\": \"f69c1be1fe\", \"size\": 20252, \"mime\": \"application/vnd.plotly.v1+json\"}}} }};\n",
              "  }\n",
              "</script>\n",
              "<script type=\"module\">\n",
              "  import { mountReport } from \"https://datapane-cdn.com/v0.17.0/report/index.es.js\";\n",
              "  mountReport(window.reportProps);\n",
              "</script>\n",
              "  </head>\n",
              "  <body>\n",
              "      <div id=\"report\"></div>\n",
              "  </body>\n",
              "</html>\n"
            ]
          },
          "metadata": {},
          "execution_count": 22
        }
      ]
    },
    {
      "cell_type": "code",
      "source": [
        "from google.colab import files\n",
        "\n",
        "# Download the HTML file\n",
        "files.download('report.html')"
      ],
      "metadata": {
        "colab": {
          "base_uri": "https://localhost:8080/",
          "height": 17
        },
        "id": "NFAQ67LFP52i",
        "outputId": "9acc2b45-f0ec-48e1-d95f-195cf9fd0741"
      },
      "execution_count": null,
      "outputs": [
        {
          "output_type": "display_data",
          "data": {
            "text/plain": [
              "<IPython.core.display.Javascript object>"
            ],
            "application/javascript": [
              "\n",
              "    async function download(id, filename, size) {\n",
              "      if (!google.colab.kernel.accessAllowed) {\n",
              "        return;\n",
              "      }\n",
              "      const div = document.createElement('div');\n",
              "      const label = document.createElement('label');\n",
              "      label.textContent = `Downloading \"${filename}\": `;\n",
              "      div.appendChild(label);\n",
              "      const progress = document.createElement('progress');\n",
              "      progress.max = size;\n",
              "      div.appendChild(progress);\n",
              "      document.body.appendChild(div);\n",
              "\n",
              "      const buffers = [];\n",
              "      let downloaded = 0;\n",
              "\n",
              "      const channel = await google.colab.kernel.comms.open(id);\n",
              "      // Send a message to notify the kernel that we're ready.\n",
              "      channel.send({})\n",
              "\n",
              "      for await (const message of channel.messages) {\n",
              "        // Send a message to notify the kernel that we're ready.\n",
              "        channel.send({})\n",
              "        if (message.buffers) {\n",
              "          for (const buffer of message.buffers) {\n",
              "            buffers.push(buffer);\n",
              "            downloaded += buffer.byteLength;\n",
              "            progress.value = downloaded;\n",
              "          }\n",
              "        }\n",
              "      }\n",
              "      const blob = new Blob(buffers, {type: 'application/binary'});\n",
              "      const a = document.createElement('a');\n",
              "      a.href = window.URL.createObjectURL(blob);\n",
              "      a.download = filename;\n",
              "      div.appendChild(a);\n",
              "      a.click();\n",
              "      div.remove();\n",
              "    }\n",
              "  "
            ]
          },
          "metadata": {}
        },
        {
          "output_type": "display_data",
          "data": {
            "text/plain": [
              "<IPython.core.display.Javascript object>"
            ],
            "application/javascript": [
              "download(\"download_996b3f58-8ee0-4e20-9176-ec42ad6a7e9e\", \"report.html\", 93466)"
            ]
          },
          "metadata": {}
        }
      ]
    },
    {
      "cell_type": "code",
      "source": [],
      "metadata": {
        "id": "wdEe0ayYkTzp"
      },
      "execution_count": null,
      "outputs": []
    }
  ]
}